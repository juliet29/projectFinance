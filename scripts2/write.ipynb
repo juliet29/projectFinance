{
 "cells": [
  {
   "cell_type": "code",
   "execution_count": 165,
   "metadata": {},
   "outputs": [],
   "source": [
    "import pandas as pd\n",
    "import numpy as np\n",
    "from data import * \n",
    "from inputs import *\n",
    "from expenses import * \n",
    "from revenues import * \n",
    "from wbsetup import *\n",
    "from profits import *\n",
    "import xlsxwriter\n",
    "from xlsxwriter.utility import xl_rowcol_to_cell, xl_cell_to_rowcol\n",
    "from icecream import ic"
   ]
  },
  {
   "attachments": {},
   "cell_type": "markdown",
   "metadata": {},
   "source": [
    "# Setup"
   ]
  },
  {
   "cell_type": "code",
   "execution_count": 166,
   "metadata": {},
   "outputs": [],
   "source": [
    "# Create a Pandas Excel writer using XlsxWriter as the engine.\n",
    "writer = pd.ExcelWriter('IslandEnergy.xlsx', engine='xlsxwriter')\n",
    "\n",
    "workbook  = writer.book\n",
    "title_format = workbook.add_format({'bold': True, \"font_name\": \"Calibri\", \"bg_color\": \"#769ddb\" })\n",
    "title_format.set_text_wrap()\n",
    "title_format.set_align(\"left\")\n",
    "\n",
    "# Add a bold format to use to highlight cells.\n",
    "bold_format = workbook.add_format({'bold': True, \"font_name\": \"Calibri\"})\n",
    "bold_format.set_text_wrap()\n",
    "\n",
    "# Add a number format for cells with money.\n",
    "money_format = workbook.add_format({'num_format': '$#,##0'})\n",
    "\n",
    "# Add a header format.\n",
    "header_format = workbook.add_format({\n",
    "    'bold': True,\n",
    "    'text_wrap': True,\n",
    "    'align': 'left',\n",
    "    \"font_name\": \"Calibri\",\n",
    "    # 'border': 1\n",
    "    })\n"
   ]
  },
  {
   "attachments": {},
   "cell_type": "markdown",
   "metadata": {},
   "source": [
    "# Write"
   ]
  },
  {
   "attachments": {},
   "cell_type": "markdown",
   "metadata": {},
   "source": [
    "## Revenues "
   ]
  },
  {
   "cell_type": "code",
   "execution_count": 167,
   "metadata": {},
   "outputs": [],
   "source": [
    "rev_df.to_excel(writer, sheet_name=\"Revenues\", startrow=4)\n",
    "ws = writer.sheets[\"Revenues\"]\n",
    "sr=4\n",
    "# Write the column headers with the defined format.\n",
    "for col_num, value in enumerate(rev_df.columns.values):\n",
    "    ws.write(sr, col_num + 1, value, header_format)\n",
    "\n",
    "for row_num, value in enumerate(rev_df.index.values):\n",
    "    ws.write(sr+row_num+1, 0, value, header_format)"
   ]
  },
  {
   "attachments": {},
   "cell_type": "markdown",
   "metadata": {},
   "source": [
    "## Profits"
   ]
  },
  {
   "cell_type": "code",
   "execution_count": 168,
   "metadata": {},
   "outputs": [],
   "source": [
    "summary_df.to_excel(writer, sheet_name=\"Profits\", startrow=4)"
   ]
  },
  {
   "cell_type": "code",
   "execution_count": 169,
   "metadata": {},
   "outputs": [],
   "source": [
    "ws = writer.sheets[\"Profits\"]\n",
    "sr=4\n",
    "# Write the column headers with the defined format.\n",
    "for col_num, value in enumerate(summary_df.columns.values):\n",
    "    ws.write(sr, col_num + 1, value, header_format)\n",
    "\n",
    "for row_num, value in enumerate(summary_df.index.values):\n",
    "    ws.write(sr+row_num+1, 0, value, header_format)\n",
    "    # profits_ws.write(sr+row_num+1, 1, value[1], header_format)"
   ]
  },
  {
   "attachments": {},
   "cell_type": "markdown",
   "metadata": {},
   "source": [
    "## Expenses"
   ]
  },
  {
   "cell_type": "code",
   "execution_count": 170,
   "metadata": {},
   "outputs": [],
   "source": [
    "const_df.to_excel(writer, sheet_name=\"Expenses\", startrow=5)\n",
    "\n",
    "expenses_ws = writer.sheets[\"Expenses\"]\n",
    "expenses_ws.merge_range(5-1, 0, 5-1, 2, \"Construction Phase Expenses\", title_format)\n",
    "\n",
    "max_row, max_col = const_df.shape\n",
    "end_row = 5 + max_row"
   ]
  },
  {
   "cell_type": "code",
   "execution_count": 171,
   "metadata": {},
   "outputs": [
    {
     "name": "stdout",
     "output_type": "stream",
     "text": [
      "('Pre-Financial Close Expenses', 'Wetland Construction Permit')\n",
      "('Pre-Financial Close Expenses', 'State Environmental Monitoring Fee')\n",
      "('Financial Close Expenses', 'Land Acquisition')\n",
      "('Financial Close Expenses', 'Development Expenses')\n",
      "('Financial Close Expenses', 'Development Fees')\n",
      "('Financial Close Expenses', 'Closing Costs')\n",
      "('Financial Close Expenses', 'Contingency Fees')\n",
      "('Construction Period Even Split Monthly Expenses', 'Interest and Fees')\n",
      "('Construction Period Even Split Monthly Expenses', 'Insurance and Fees')\n",
      "('Construction Period Even Split Monthly Expenses', 'Management and Oversight ')\n",
      "('Construction Period Custom Schedule Monthly Expenses', 'EPC Cost')\n",
      "('Total', '')\n"
     ]
    }
   ],
   "source": [
    "# Write the column headers with the defined format.\n",
    "for col_num, value in enumerate(const_df.columns.values):\n",
    "    expenses_ws.write(5, col_num + 2, value, header_format)\n",
    "\n",
    "for row_num, value in enumerate(const_df.index.values):\n",
    "    expenses_ws.write(5+row_num+1, 0, value[0], header_format)\n",
    "    expenses_ws.write(5+row_num+1, 1, value[1], header_format)\n",
    "    print(value)"
   ]
  },
  {
   "cell_type": "code",
   "execution_count": 172,
   "metadata": {},
   "outputs": [],
   "source": [
    "sr = end_row+3\n",
    "op_df.to_excel(writer, sheet_name=\"Expenses\", startrow=sr)\n",
    "\n",
    "expenses_ws.merge_range(sr-1, 0, sr-1, 2, \"Operating Expenses\", title_format)\n",
    "\n",
    "max_row, max_col = op_df.shape\n",
    "end_row = sr + max_row"
   ]
  },
  {
   "cell_type": "code",
   "execution_count": 173,
   "metadata": {},
   "outputs": [],
   "source": [
    "# Write the column headers with the defined format.\n",
    "for col_num, value in enumerate(op_df.columns.values):\n",
    "    expenses_ws.write(sr, col_num + 2, value, header_format)\n",
    "\n",
    "for row_num, value in enumerate(op_df.index.values):\n",
    "    expenses_ws.write(sr+row_num+1, 0, value[0], header_format)\n",
    "    expenses_ws.write(sr+row_num+1, 1, value[1], header_format)"
   ]
  },
  {
   "cell_type": "code",
   "execution_count": 174,
   "metadata": {},
   "outputs": [],
   "source": [
    "sr = end_row+3\n",
    "corp_df.to_excel(writer, sheet_name=\"Expenses\", startrow=sr)\n",
    "\n",
    "expenses_ws.merge_range(sr-1, 0, sr-1, 2, \"Corporate Expenses\", title_format)\n",
    "\n",
    "max_row, max_col = corp_df.shape\n",
    "end_row = sr + max_row"
   ]
  },
  {
   "cell_type": "code",
   "execution_count": 175,
   "metadata": {},
   "outputs": [],
   "source": [
    "# Write the column headers with the defined format.\n",
    "for col_num, value in enumerate(corp_df.columns.values):\n",
    "    expenses_ws.write(sr, col_num + 2, value, header_format)\n",
    "\n",
    "for row_num, value in enumerate(corp_df.index.values):\n",
    "    expenses_ws.write(sr+row_num+1, 0, value[0], header_format)\n",
    "    expenses_ws.write(sr+row_num+1, 1, value[1], header_format)"
   ]
  },
  {
   "attachments": {},
   "cell_type": "markdown",
   "metadata": {},
   "source": [
    "# Format"
   ]
  },
  {
   "cell_type": "code",
   "execution_count": 176,
   "metadata": {},
   "outputs": [],
   "source": [
    "# Page Headers \n",
    "for name, sheet in workbook.sheetnames.items():\n",
    "    sheet.write('A1', 'Project Name', bold_format)\n",
    "    sheet.write('A2', 'Sheet Name', bold_format)\n",
    "    sheet.merge_range('B1:C1', \"Island Energy\", bold_format)\n",
    "    sheet.merge_range('B2:C2', name, bold_format)\n",
    "    # sheet.set_column(\"A:C\", 30)\n",
    "    sheet.set_column(\"A:AR\", 30)\n",
    "    sheet.set_column(1, 50, 25, money_format)\n",
    "    "
   ]
  },
  {
   "cell_type": "code",
   "execution_count": 177,
   "metadata": {},
   "outputs": [],
   "source": [
    "writer.close()"
   ]
  }
 ],
 "metadata": {
  "kernelspec": {
   "display_name": "classenv",
   "language": "python",
   "name": "python3"
  },
  "language_info": {
   "codemirror_mode": {
    "name": "ipython",
    "version": 3
   },
   "file_extension": ".py",
   "mimetype": "text/x-python",
   "name": "python",
   "nbconvert_exporter": "python",
   "pygments_lexer": "ipython3",
   "version": "3.9.15"
  },
  "orig_nbformat": 4,
  "vscode": {
   "interpreter": {
    "hash": "b5427df08fa9462ce49012024a0cee8fab38196eae0b5512946c62eeb41cd97e"
   }
  }
 },
 "nbformat": 4,
 "nbformat_minor": 2
}
