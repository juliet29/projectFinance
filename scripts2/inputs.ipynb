{
 "cells": [
  {
   "cell_type": "code",
   "execution_count": 1,
   "metadata": {},
   "outputs": [],
   "source": [
    "import pandas as pd\n",
    "from data import * "
   ]
  },
  {
   "cell_type": "code",
   "execution_count": 2,
   "metadata": {},
   "outputs": [],
   "source": [
    "d = {\n",
    "    \"Pre-Financial Close Expenses\": pre_fc_costs,\n",
    "    \"Financial Close Expenses\": fc_costs,\n",
    "    \"Construction Period Even Split Monthly Expenses\": monthly_split_costs,\n",
    "    \"Construction Period Custom Schedule Monthly Expenses\": epc_data\n",
    "}"
   ]
  },
  {
   "cell_type": "code",
   "execution_count": 3,
   "metadata": {},
   "outputs": [],
   "source": [
    "def make_two_index_df(d):\n",
    "    # make entries into arrays\n",
    "    for inner_dict in d.values():\n",
    "        for k, v in inner_dict.items():\n",
    "            inner_dict[k] = [v]\n",
    "    # arrange the dictionary to have tuples \n",
    "    reform_d = {(outerKey, innerKey): values for outerKey, innerDict in d.items() for innerKey, values in innerDict.items()}\n",
    "    # make the multi index dictionary \n",
    "    df = pd.DataFrame(reform_d, index=[\"Values\"])\n",
    "    df = df.T\n",
    "    return df\n"
   ]
  },
  {
   "cell_type": "code",
   "execution_count": 4,
   "metadata": {},
   "outputs": [
    {
     "data": {
      "text/html": [
       "<div>\n",
       "<style scoped>\n",
       "    .dataframe tbody tr th:only-of-type {\n",
       "        vertical-align: middle;\n",
       "    }\n",
       "\n",
       "    .dataframe tbody tr th {\n",
       "        vertical-align: top;\n",
       "    }\n",
       "\n",
       "    .dataframe thead th {\n",
       "        text-align: right;\n",
       "    }\n",
       "</style>\n",
       "<table border=\"1\" class=\"dataframe\">\n",
       "  <thead>\n",
       "    <tr style=\"text-align: right;\">\n",
       "      <th></th>\n",
       "      <th></th>\n",
       "      <th>Values</th>\n",
       "    </tr>\n",
       "  </thead>\n",
       "  <tbody>\n",
       "    <tr>\n",
       "      <th rowspan=\"2\" valign=\"top\">Pre-Financial Close Expenses</th>\n",
       "      <th>Wetland Construction Permit</th>\n",
       "      <td>3000000.0</td>\n",
       "    </tr>\n",
       "    <tr>\n",
       "      <th>State Environmental Monitoring Fee</th>\n",
       "      <td>800000.0</td>\n",
       "    </tr>\n",
       "    <tr>\n",
       "      <th rowspan=\"5\" valign=\"top\">Financial Close Expenses</th>\n",
       "      <th>Land</th>\n",
       "      <td>12500000.0</td>\n",
       "    </tr>\n",
       "    <tr>\n",
       "      <th>Development Expenses</th>\n",
       "      <td>28500000.0</td>\n",
       "    </tr>\n",
       "    <tr>\n",
       "      <th>Development Fees</th>\n",
       "      <td>14700000.0</td>\n",
       "    </tr>\n",
       "    <tr>\n",
       "      <th>Closing Costs</th>\n",
       "      <td>14392000.0</td>\n",
       "    </tr>\n",
       "    <tr>\n",
       "      <th>Contingency Fees</th>\n",
       "      <td>30754000.0</td>\n",
       "    </tr>\n",
       "    <tr>\n",
       "      <th rowspan=\"3\" valign=\"top\">Construction Period Even Split Monthly Expenses</th>\n",
       "      <th>Interest and Fees</th>\n",
       "      <td>56853000.0</td>\n",
       "    </tr>\n",
       "    <tr>\n",
       "      <th>Insurance and Fees</th>\n",
       "      <td>25000000.0</td>\n",
       "    </tr>\n",
       "    <tr>\n",
       "      <th>Management and Oversight</th>\n",
       "      <td>8150000.0</td>\n",
       "    </tr>\n",
       "    <tr>\n",
       "      <th>Construction Period Custom Schedule Monthly Expenses</th>\n",
       "      <th>EPC Cost</th>\n",
       "      <td>455000000.0</td>\n",
       "    </tr>\n",
       "  </tbody>\n",
       "</table>\n",
       "</div>"
      ],
      "text/plain": [
       "                                                                                            Values\n",
       "Pre-Financial Close Expenses                       Wetland Construction Permit           3000000.0\n",
       "                                                   State Environmental Monitoring Fee     800000.0\n",
       "Financial Close Expenses                           Land                                 12500000.0\n",
       "                                                   Development Expenses                 28500000.0\n",
       "                                                   Development Fees                     14700000.0\n",
       "                                                   Closing Costs                        14392000.0\n",
       "                                                   Contingency Fees                     30754000.0\n",
       "Construction Period Even Split Monthly Expenses    Interest and Fees                    56853000.0\n",
       "                                                   Insurance and Fees                   25000000.0\n",
       "                                                   Management and Oversight              8150000.0\n",
       "Construction Period Custom Schedule Monthly Exp... EPC Cost                            455000000.0"
      ]
     },
     "execution_count": 4,
     "metadata": {},
     "output_type": "execute_result"
    }
   ],
   "source": [
    "const_phase_inputs = make_two_index_df(d)"
   ]
  },
  {
   "cell_type": "code",
   "execution_count": 26,
   "metadata": {},
   "outputs": [],
   "source": [
    "# make entries into arrays\n",
    "for inner_dict in d.values():\n",
    "    for k, v in inner_dict.items():\n",
    "        inner_dict[k] = [v]"
   ]
  },
  {
   "cell_type": "code",
   "execution_count": 27,
   "metadata": {},
   "outputs": [
    {
     "data": {
      "text/plain": [
       "{('Pre-Financial Close Expenses',\n",
       "  'Wetland Construction Permit'): [[3000000.0]],\n",
       " ('Pre-Financial Close Expenses',\n",
       "  'State Environmental Monitoring Fee'): [[800000.0]],\n",
       " ('Financial Close Expenses', 'Land'): [[12500000.0]],\n",
       " ('Financial Close Expenses', 'Development Expenses'): [[28500000.0]],\n",
       " ('Financial Close Expenses', 'Development Fees'): [[14700000.0]],\n",
       " ('Financial Close Expenses', 'Closing Costs'): [[14392000.0]],\n",
       " ('Financial Close Expenses', 'Contingency Fees'): [[30754000.0]],\n",
       " ('Construction Period Even Split Monthly Expenses',\n",
       "  'Interest and Fees'): [[56853000.0]],\n",
       " ('Construction Period Even Split Monthly Expenses',\n",
       "  'Insurance and Fees'): [[25000000.0]],\n",
       " ('Construction Period Even Split Monthly Expenses',\n",
       "  'Management and Oversight '): [[8150000.0]],\n",
       " ('Construction Period Custom Schedule Monthly Expenses',\n",
       "  'EPC Cost'): [[455000000.0]]}"
      ]
     },
     "execution_count": 27,
     "metadata": {},
     "output_type": "execute_result"
    }
   ],
   "source": [
    "reform_d = {(outerKey, innerKey): values for outerKey, innerDict in d.items() for innerKey, values in innerDict.items()}\n",
    "reform_d\n"
   ]
  },
  {
   "cell_type": "code",
   "execution_count": 28,
   "metadata": {},
   "outputs": [
    {
     "data": {
      "text/html": [
       "<div>\n",
       "<style scoped>\n",
       "    .dataframe tbody tr th:only-of-type {\n",
       "        vertical-align: middle;\n",
       "    }\n",
       "\n",
       "    .dataframe tbody tr th {\n",
       "        vertical-align: top;\n",
       "    }\n",
       "\n",
       "    .dataframe thead th {\n",
       "        text-align: right;\n",
       "    }\n",
       "</style>\n",
       "<table border=\"1\" class=\"dataframe\">\n",
       "  <thead>\n",
       "    <tr style=\"text-align: right;\">\n",
       "      <th></th>\n",
       "      <th></th>\n",
       "      <th>Values</th>\n",
       "    </tr>\n",
       "  </thead>\n",
       "  <tbody>\n",
       "    <tr>\n",
       "      <th rowspan=\"2\" valign=\"top\">Pre-Financial Close Expenses</th>\n",
       "      <th>Wetland Construction Permit</th>\n",
       "      <td>[3000000.0]</td>\n",
       "    </tr>\n",
       "    <tr>\n",
       "      <th>State Environmental Monitoring Fee</th>\n",
       "      <td>[800000.0]</td>\n",
       "    </tr>\n",
       "    <tr>\n",
       "      <th rowspan=\"5\" valign=\"top\">Financial Close Expenses</th>\n",
       "      <th>Land</th>\n",
       "      <td>[12500000.0]</td>\n",
       "    </tr>\n",
       "    <tr>\n",
       "      <th>Development Expenses</th>\n",
       "      <td>[28500000.0]</td>\n",
       "    </tr>\n",
       "    <tr>\n",
       "      <th>Development Fees</th>\n",
       "      <td>[14700000.0]</td>\n",
       "    </tr>\n",
       "    <tr>\n",
       "      <th>Closing Costs</th>\n",
       "      <td>[14392000.0]</td>\n",
       "    </tr>\n",
       "    <tr>\n",
       "      <th>Contingency Fees</th>\n",
       "      <td>[30754000.0]</td>\n",
       "    </tr>\n",
       "    <tr>\n",
       "      <th rowspan=\"3\" valign=\"top\">Construction Period Even Split Monthly Expenses</th>\n",
       "      <th>Interest and Fees</th>\n",
       "      <td>[56853000.0]</td>\n",
       "    </tr>\n",
       "    <tr>\n",
       "      <th>Insurance and Fees</th>\n",
       "      <td>[25000000.0]</td>\n",
       "    </tr>\n",
       "    <tr>\n",
       "      <th>Management and Oversight</th>\n",
       "      <td>[8150000.0]</td>\n",
       "    </tr>\n",
       "    <tr>\n",
       "      <th>Construction Period Custom Schedule Monthly Expenses</th>\n",
       "      <th>EPC Cost</th>\n",
       "      <td>[455000000.0]</td>\n",
       "    </tr>\n",
       "  </tbody>\n",
       "</table>\n",
       "</div>"
      ],
      "text/plain": [
       "                                                                                              Values\n",
       "Pre-Financial Close Expenses                       Wetland Construction Permit           [3000000.0]\n",
       "                                                   State Environmental Monitoring Fee     [800000.0]\n",
       "Financial Close Expenses                           Land                                 [12500000.0]\n",
       "                                                   Development Expenses                 [28500000.0]\n",
       "                                                   Development Fees                     [14700000.0]\n",
       "                                                   Closing Costs                        [14392000.0]\n",
       "                                                   Contingency Fees                     [30754000.0]\n",
       "Construction Period Even Split Monthly Expenses    Interest and Fees                    [56853000.0]\n",
       "                                                   Insurance and Fees                   [25000000.0]\n",
       "                                                   Management and Oversight              [8150000.0]\n",
       "Construction Period Custom Schedule Monthly Exp... EPC Cost                            [455000000.0]"
      ]
     },
     "execution_count": 28,
     "metadata": {},
     "output_type": "execute_result"
    }
   ],
   "source": [
    "df = pd.DataFrame(reform_d, index=[\"Values\"])\n",
    "df = df.T\n",
    "df"
   ]
  },
  {
   "cell_type": "code",
   "execution_count": 29,
   "metadata": {},
   "outputs": [],
   "source": [
    "oper_d = {\n",
    "    \"Commisioning Expenses\": comm_fees,\n",
    "    \"External Expenses\": other_fees\n",
    "}"
   ]
  }
 ],
 "metadata": {
  "kernelspec": {
   "display_name": "classenv",
   "language": "python",
   "name": "python3"
  },
  "language_info": {
   "codemirror_mode": {
    "name": "ipython",
    "version": 3
   },
   "file_extension": ".py",
   "mimetype": "text/x-python",
   "name": "python",
   "nbconvert_exporter": "python",
   "pygments_lexer": "ipython3",
   "version": "3.9.15"
  },
  "orig_nbformat": 4,
  "vscode": {
   "interpreter": {
    "hash": "b5427df08fa9462ce49012024a0cee8fab38196eae0b5512946c62eeb41cd97e"
   }
  }
 },
 "nbformat": 4,
 "nbformat_minor": 2
}
