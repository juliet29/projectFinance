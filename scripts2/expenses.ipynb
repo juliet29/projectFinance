{
 "cells": [
  {
   "cell_type": "code",
   "execution_count": null,
   "metadata": {},
   "outputs": [],
   "source": [
    "import pandas as pd\n",
    "from data import * \n",
    "from inp"
   ]
  }
 ],
 "metadata": {
  "kernelspec": {
   "display_name": "Python 3",
   "language": "python",
   "name": "python3"
  },
  "language_info": {
   "name": "python",
   "version": "3.9.15"
  },
  "orig_nbformat": 4,
  "vscode": {
   "interpreter": {
    "hash": "1509dcb2a8e54c5a1c0f95dfb4f307b3b6bac2fd245863fa9c83c2d3ec31d474"
   }
  }
 },
 "nbformat": 4,
 "nbformat_minor": 2
}
