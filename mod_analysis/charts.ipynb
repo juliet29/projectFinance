{
 "cells": [
  {
   "cell_type": "code",
   "execution_count": 3,
   "metadata": {},
   "outputs": [],
   "source": [
    "import plotly.graph_objects as go\n",
    "from plotly.subplots import make_subplots\n",
    "from model import * \n",
    "import plotly.colors as pc\n",
    "import plotly.io as pio\n",
    "import pandas as pd"
   ]
  },
  {
   "attachments": {},
   "cell_type": "markdown",
   "metadata": {},
   "source": [
    "## setup "
   ]
  },
  {
   "cell_type": "code",
   "execution_count": 4,
   "metadata": {},
   "outputs": [],
   "source": [
    "with open(\"colors.txt\", \"r\") as colors:\n",
    "\tlines = colors.readlines()\t\n",
    "theme_colors = [l.replace(\"\\n\", \"\") for l in lines]\n",
    "\n",
    "\n",
    "pio.templates[\"finance_theme\"] = go.layout.Template(\n",
    "    layout=go.Layout(\n",
    "        colorway=theme_colors\n",
    "    )\n",
    ")\n",
    "\n",
    "pio.templates.default = 'plotly_white+finance_theme'"
   ]
  },
  {
   "attachments": {},
   "cell_type": "markdown",
   "metadata": {},
   "source": [
    "## group model"
   ]
  },
  {
   "cell_type": "code",
   "execution_count": 5,
   "metadata": {},
   "outputs": [],
   "source": [
    "times = pd.date_range(start=\"2023-07-01\",end=\"2045-07-01\", freq=\"AS-JUL\")\n",
    "# print(times, len(times))\n",
    "\n",
    "time_cols = [\"Value\"] + list(times)\n",
    "# time_cols"
   ]
  },
  {
   "cell_type": "code",
   "execution_count": 6,
   "metadata": {},
   "outputs": [
    {
     "data": {
      "text/html": [
       "<div>\n",
       "<style scoped>\n",
       "    .dataframe tbody tr th:only-of-type {\n",
       "        vertical-align: middle;\n",
       "    }\n",
       "\n",
       "    .dataframe tbody tr th {\n",
       "        vertical-align: top;\n",
       "    }\n",
       "\n",
       "    .dataframe thead th {\n",
       "        text-align: right;\n",
       "    }\n",
       "</style>\n",
       "<table border=\"1\" class=\"dataframe\">\n",
       "  <thead>\n",
       "    <tr style=\"text-align: right;\">\n",
       "      <th></th>\n",
       "      <th>2023-07-01</th>\n",
       "      <th>2024-07-01</th>\n",
       "      <th>2025-07-01</th>\n",
       "      <th>2026-07-01</th>\n",
       "      <th>2027-07-01</th>\n",
       "      <th>2028-07-01</th>\n",
       "      <th>2029-07-01</th>\n",
       "      <th>2030-07-01</th>\n",
       "      <th>2031-07-01</th>\n",
       "      <th>2032-07-01</th>\n",
       "      <th>...</th>\n",
       "      <th>2036-07-01</th>\n",
       "      <th>2037-07-01</th>\n",
       "      <th>2038-07-01</th>\n",
       "      <th>2039-07-01</th>\n",
       "      <th>2040-07-01</th>\n",
       "      <th>2041-07-01</th>\n",
       "      <th>2042-07-01</th>\n",
       "      <th>2043-07-01</th>\n",
       "      <th>2044-07-01</th>\n",
       "      <th>2045-07-01</th>\n",
       "    </tr>\n",
       "    <tr>\n",
       "      <th>Value</th>\n",
       "      <th></th>\n",
       "      <th></th>\n",
       "      <th></th>\n",
       "      <th></th>\n",
       "      <th></th>\n",
       "      <th></th>\n",
       "      <th></th>\n",
       "      <th></th>\n",
       "      <th></th>\n",
       "      <th></th>\n",
       "      <th></th>\n",
       "      <th></th>\n",
       "      <th></th>\n",
       "      <th></th>\n",
       "      <th></th>\n",
       "      <th></th>\n",
       "      <th></th>\n",
       "      <th></th>\n",
       "      <th></th>\n",
       "      <th></th>\n",
       "      <th></th>\n",
       "    </tr>\n",
       "  </thead>\n",
       "  <tbody>\n",
       "    <tr>\n",
       "      <th>Loan Draw</th>\n",
       "      <td>550062792.0</td>\n",
       "      <td>0.0</td>\n",
       "      <td>0.0</td>\n",
       "      <td>0.0</td>\n",
       "      <td>0.000000e+00</td>\n",
       "      <td>0.000000e+00</td>\n",
       "      <td>0.000000e+00</td>\n",
       "      <td>0.000000e+00</td>\n",
       "      <td>0.000000e+00</td>\n",
       "      <td>0.000000e+00</td>\n",
       "      <td>...</td>\n",
       "      <td>0.000000e+00</td>\n",
       "      <td>0.000000e+00</td>\n",
       "      <td>0.000000e+00</td>\n",
       "      <td>0.000000e+00</td>\n",
       "      <td>0.000000e+00</td>\n",
       "      <td>0.000000e+00</td>\n",
       "      <td>0.000000e+00</td>\n",
       "      <td>0.000000e+00</td>\n",
       "      <td>0.000000e+00</td>\n",
       "      <td>0.000000e+00</td>\n",
       "    </tr>\n",
       "    <tr>\n",
       "      <th>Interest Payment</th>\n",
       "      <td>0.0</td>\n",
       "      <td>16500000.0</td>\n",
       "      <td>38122500.0</td>\n",
       "      <td>31766250.0</td>\n",
       "      <td>3.611000e+07</td>\n",
       "      <td>2.989475e+07</td>\n",
       "      <td>3.398250e+07</td>\n",
       "      <td>2.791490e+07</td>\n",
       "      <td>3.130300e+07</td>\n",
       "      <td>2.597445e+07</td>\n",
       "      <td>...</td>\n",
       "      <td>1.989700e+07</td>\n",
       "      <td>2.179250e+07</td>\n",
       "      <td>1.720795e+07</td>\n",
       "      <td>1.820450e+07</td>\n",
       "      <td>1.355360e+07</td>\n",
       "      <td>1.307550e+07</td>\n",
       "      <td>9.554500e+06</td>\n",
       "      <td>8.211000e+06</td>\n",
       "      <td>2.354150e+06</td>\n",
       "      <td>0.000000e+00</td>\n",
       "    </tr>\n",
       "    <tr>\n",
       "      <th>Principal Payment</th>\n",
       "      <td>0.0</td>\n",
       "      <td>0.0</td>\n",
       "      <td>11500000.0</td>\n",
       "      <td>13594494.0</td>\n",
       "      <td>1.454434e+07</td>\n",
       "      <td>1.590698e+07</td>\n",
       "      <td>1.682343e+07</td>\n",
       "      <td>1.894070e+07</td>\n",
       "      <td>1.904051e+07</td>\n",
       "      <td>2.193438e+07</td>\n",
       "      <td>...</td>\n",
       "      <td>2.608022e+07</td>\n",
       "      <td>2.680642e+07</td>\n",
       "      <td>2.893667e+07</td>\n",
       "      <td>2.979683e+07</td>\n",
       "      <td>3.256219e+07</td>\n",
       "      <td>3.348052e+07</td>\n",
       "      <td>3.661729e+07</td>\n",
       "      <td>3.771556e+07</td>\n",
       "      <td>2.062966e+07</td>\n",
       "      <td>0.000000e+00</td>\n",
       "    </tr>\n",
       "    <tr>\n",
       "      <th>Fees</th>\n",
       "      <td>0.0</td>\n",
       "      <td>300000.0</td>\n",
       "      <td>635435.0</td>\n",
       "      <td>635435.0</td>\n",
       "      <td>6.354350e+05</td>\n",
       "      <td>6.354350e+05</td>\n",
       "      <td>5.894360e+05</td>\n",
       "      <td>5.894360e+05</td>\n",
       "      <td>5.894360e+05</td>\n",
       "      <td>5.894360e+05</td>\n",
       "      <td>...</td>\n",
       "      <td>5.851290e+05</td>\n",
       "      <td>5.851290e+05</td>\n",
       "      <td>5.851290e+05</td>\n",
       "      <td>5.790350e+05</td>\n",
       "      <td>5.790350e+05</td>\n",
       "      <td>5.790350e+05</td>\n",
       "      <td>5.790350e+05</td>\n",
       "      <td>5.790350e+05</td>\n",
       "      <td>2.975230e+05</td>\n",
       "      <td>0.000000e+00</td>\n",
       "    </tr>\n",
       "    <tr>\n",
       "      <th>Final Payment</th>\n",
       "      <td>0.0</td>\n",
       "      <td>0.0</td>\n",
       "      <td>0.0</td>\n",
       "      <td>0.0</td>\n",
       "      <td>0.000000e+00</td>\n",
       "      <td>0.000000e+00</td>\n",
       "      <td>0.000000e+00</td>\n",
       "      <td>0.000000e+00</td>\n",
       "      <td>0.000000e+00</td>\n",
       "      <td>0.000000e+00</td>\n",
       "      <td>...</td>\n",
       "      <td>0.000000e+00</td>\n",
       "      <td>0.000000e+00</td>\n",
       "      <td>0.000000e+00</td>\n",
       "      <td>0.000000e+00</td>\n",
       "      <td>0.000000e+00</td>\n",
       "      <td>0.000000e+00</td>\n",
       "      <td>0.000000e+00</td>\n",
       "      <td>0.000000e+00</td>\n",
       "      <td>0.000000e+00</td>\n",
       "      <td>7.500000e+07</td>\n",
       "    </tr>\n",
       "    <tr>\n",
       "      <th>Loan Balance</th>\n",
       "      <td>550062792.0</td>\n",
       "      <td>550062792.0</td>\n",
       "      <td>538562792.0</td>\n",
       "      <td>524968298.0</td>\n",
       "      <td>5.104240e+08</td>\n",
       "      <td>4.945170e+08</td>\n",
       "      <td>4.776935e+08</td>\n",
       "      <td>4.587529e+08</td>\n",
       "      <td>4.397123e+08</td>\n",
       "      <td>4.177780e+08</td>\n",
       "      <td>...</td>\n",
       "      <td>3.215451e+08</td>\n",
       "      <td>2.947387e+08</td>\n",
       "      <td>2.658021e+08</td>\n",
       "      <td>2.360052e+08</td>\n",
       "      <td>2.034430e+08</td>\n",
       "      <td>1.699625e+08</td>\n",
       "      <td>1.333452e+08</td>\n",
       "      <td>9.562966e+07</td>\n",
       "      <td>7.500000e+07</td>\n",
       "      <td>0.000000e+00</td>\n",
       "    </tr>\n",
       "    <tr>\n",
       "      <th>Project Cost</th>\n",
       "      <td>384277500.0</td>\n",
       "      <td>282331500.0</td>\n",
       "      <td>NaN</td>\n",
       "      <td>NaN</td>\n",
       "      <td>NaN</td>\n",
       "      <td>NaN</td>\n",
       "      <td>NaN</td>\n",
       "      <td>NaN</td>\n",
       "      <td>NaN</td>\n",
       "      <td>NaN</td>\n",
       "      <td>...</td>\n",
       "      <td>NaN</td>\n",
       "      <td>NaN</td>\n",
       "      <td>NaN</td>\n",
       "      <td>NaN</td>\n",
       "      <td>NaN</td>\n",
       "      <td>NaN</td>\n",
       "      <td>NaN</td>\n",
       "      <td>NaN</td>\n",
       "      <td>NaN</td>\n",
       "      <td>NaN</td>\n",
       "    </tr>\n",
       "    <tr>\n",
       "      <th>Operating Income</th>\n",
       "      <td>NaN</td>\n",
       "      <td>NaN</td>\n",
       "      <td>70284400.0</td>\n",
       "      <td>70425932.0</td>\n",
       "      <td>7.056261e+07</td>\n",
       "      <td>7.069426e+07</td>\n",
       "      <td>7.194572e+07</td>\n",
       "      <td>7.094182e+07</td>\n",
       "      <td>7.105738e+07</td>\n",
       "      <td>7.116723e+07</td>\n",
       "      <td>...</td>\n",
       "      <td>6.981365e+07</td>\n",
       "      <td>6.984871e+07</td>\n",
       "      <td>6.987577e+07</td>\n",
       "      <td>7.101960e+07</td>\n",
       "      <td>6.990493e+07</td>\n",
       "      <td>6.990652e+07</td>\n",
       "      <td>6.989910e+07</td>\n",
       "      <td>6.988240e+07</td>\n",
       "      <td>7.098115e+07</td>\n",
       "      <td>NaN</td>\n",
       "    </tr>\n",
       "    <tr>\n",
       "      <th>Net Flows</th>\n",
       "      <td>-384277500.0</td>\n",
       "      <td>-282331500.0</td>\n",
       "      <td>70284400.0</td>\n",
       "      <td>70425932.0</td>\n",
       "      <td>7.056261e+07</td>\n",
       "      <td>7.069426e+07</td>\n",
       "      <td>7.194572e+07</td>\n",
       "      <td>7.094182e+07</td>\n",
       "      <td>7.105738e+07</td>\n",
       "      <td>7.116723e+07</td>\n",
       "      <td>...</td>\n",
       "      <td>6.981365e+07</td>\n",
       "      <td>6.984871e+07</td>\n",
       "      <td>6.987577e+07</td>\n",
       "      <td>7.101960e+07</td>\n",
       "      <td>6.990493e+07</td>\n",
       "      <td>6.990652e+07</td>\n",
       "      <td>6.989910e+07</td>\n",
       "      <td>6.988240e+07</td>\n",
       "      <td>7.098115e+07</td>\n",
       "      <td>NaN</td>\n",
       "    </tr>\n",
       "    <tr>\n",
       "      <th>NaN</th>\n",
       "      <td>NaN</td>\n",
       "      <td>NaN</td>\n",
       "      <td>NaN</td>\n",
       "      <td>NaN</td>\n",
       "      <td>NaN</td>\n",
       "      <td>NaN</td>\n",
       "      <td>NaN</td>\n",
       "      <td>NaN</td>\n",
       "      <td>NaN</td>\n",
       "      <td>NaN</td>\n",
       "      <td>...</td>\n",
       "      <td>NaN</td>\n",
       "      <td>NaN</td>\n",
       "      <td>NaN</td>\n",
       "      <td>NaN</td>\n",
       "      <td>NaN</td>\n",
       "      <td>NaN</td>\n",
       "      <td>NaN</td>\n",
       "      <td>NaN</td>\n",
       "      <td>NaN</td>\n",
       "      <td>NaN</td>\n",
       "    </tr>\n",
       "    <tr>\n",
       "      <th>Equity Draw</th>\n",
       "      <td>NaN</td>\n",
       "      <td>116546208.0</td>\n",
       "      <td>NaN</td>\n",
       "      <td>NaN</td>\n",
       "      <td>NaN</td>\n",
       "      <td>NaN</td>\n",
       "      <td>NaN</td>\n",
       "      <td>NaN</td>\n",
       "      <td>NaN</td>\n",
       "      <td>NaN</td>\n",
       "      <td>...</td>\n",
       "      <td>NaN</td>\n",
       "      <td>NaN</td>\n",
       "      <td>NaN</td>\n",
       "      <td>NaN</td>\n",
       "      <td>NaN</td>\n",
       "      <td>NaN</td>\n",
       "      <td>NaN</td>\n",
       "      <td>NaN</td>\n",
       "      <td>NaN</td>\n",
       "      <td>NaN</td>\n",
       "    </tr>\n",
       "    <tr>\n",
       "      <th>Cash Flow</th>\n",
       "      <td>NaN</td>\n",
       "      <td>NaN</td>\n",
       "      <td>18362622.5</td>\n",
       "      <td>21116990.2</td>\n",
       "      <td>2.093142e+07</td>\n",
       "      <td>2.032793e+07</td>\n",
       "      <td>2.102646e+07</td>\n",
       "      <td>1.952282e+07</td>\n",
       "      <td>1.943300e+07</td>\n",
       "      <td>1.869221e+07</td>\n",
       "      <td>...</td>\n",
       "      <td>1.745333e+07</td>\n",
       "      <td>1.727346e+07</td>\n",
       "      <td>1.680535e+07</td>\n",
       "      <td>1.736966e+07</td>\n",
       "      <td>1.605870e+07</td>\n",
       "      <td>1.601312e+07</td>\n",
       "      <td>1.538006e+07</td>\n",
       "      <td>1.495343e+07</td>\n",
       "      <td>1.508971e+07</td>\n",
       "      <td>0.000000e+00</td>\n",
       "    </tr>\n",
       "    <tr>\n",
       "      <th>Cumulative Cash</th>\n",
       "      <td>NaN</td>\n",
       "      <td>NaN</td>\n",
       "      <td>18362622.5</td>\n",
       "      <td>39479612.7</td>\n",
       "      <td>6.041103e+07</td>\n",
       "      <td>8.073896e+07</td>\n",
       "      <td>1.017654e+08</td>\n",
       "      <td>1.212882e+08</td>\n",
       "      <td>1.407212e+08</td>\n",
       "      <td>1.594134e+08</td>\n",
       "      <td>...</td>\n",
       "      <td>2.312535e+08</td>\n",
       "      <td>2.485269e+08</td>\n",
       "      <td>2.653323e+08</td>\n",
       "      <td>2.827020e+08</td>\n",
       "      <td>2.987607e+08</td>\n",
       "      <td>3.147738e+08</td>\n",
       "      <td>3.301538e+08</td>\n",
       "      <td>3.451073e+08</td>\n",
       "      <td>3.601970e+08</td>\n",
       "      <td>0.000000e+00</td>\n",
       "    </tr>\n",
       "    <tr>\n",
       "      <th>Final Escrow Recovery</th>\n",
       "      <td>NaN</td>\n",
       "      <td>NaN</td>\n",
       "      <td>NaN</td>\n",
       "      <td>NaN</td>\n",
       "      <td>NaN</td>\n",
       "      <td>NaN</td>\n",
       "      <td>NaN</td>\n",
       "      <td>NaN</td>\n",
       "      <td>NaN</td>\n",
       "      <td>NaN</td>\n",
       "      <td>...</td>\n",
       "      <td>NaN</td>\n",
       "      <td>NaN</td>\n",
       "      <td>NaN</td>\n",
       "      <td>NaN</td>\n",
       "      <td>NaN</td>\n",
       "      <td>NaN</td>\n",
       "      <td>NaN</td>\n",
       "      <td>NaN</td>\n",
       "      <td>NaN</td>\n",
       "      <td>1.800000e+07</td>\n",
       "    </tr>\n",
       "    <tr>\n",
       "      <th>Cumulative Equity Balance</th>\n",
       "      <td>0.0</td>\n",
       "      <td>-116546208.0</td>\n",
       "      <td>-98183585.5</td>\n",
       "      <td>-77066595.3</td>\n",
       "      <td>-5.613517e+07</td>\n",
       "      <td>-3.580724e+07</td>\n",
       "      <td>-1.478079e+07</td>\n",
       "      <td>4.742035e+06</td>\n",
       "      <td>2.417503e+07</td>\n",
       "      <td>4.286724e+07</td>\n",
       "      <td>...</td>\n",
       "      <td>1.147073e+08</td>\n",
       "      <td>1.319807e+08</td>\n",
       "      <td>1.487861e+08</td>\n",
       "      <td>1.661557e+08</td>\n",
       "      <td>1.822144e+08</td>\n",
       "      <td>1.982276e+08</td>\n",
       "      <td>2.136076e+08</td>\n",
       "      <td>2.285611e+08</td>\n",
       "      <td>2.436508e+08</td>\n",
       "      <td>1.866508e+08</td>\n",
       "    </tr>\n",
       "  </tbody>\n",
       "</table>\n",
       "<p>15 rows × 23 columns</p>\n",
       "</div>"
      ],
      "text/plain": [
       "                            2023-07-01   2024-07-01   2025-07-01   2026-07-01  \\\n",
       "Value                                                                           \n",
       "Loan Draw                  550062792.0          0.0          0.0          0.0   \n",
       "Interest Payment                   0.0   16500000.0   38122500.0   31766250.0   \n",
       "Principal Payment                  0.0          0.0   11500000.0   13594494.0   \n",
       "Fees                               0.0     300000.0     635435.0     635435.0   \n",
       "Final Payment                      0.0          0.0          0.0          0.0   \n",
       "Loan Balance               550062792.0  550062792.0  538562792.0  524968298.0   \n",
       "Project Cost               384277500.0  282331500.0          NaN          NaN   \n",
       "Operating Income                   NaN          NaN   70284400.0   70425932.0   \n",
       "Net Flows                 -384277500.0 -282331500.0   70284400.0   70425932.0   \n",
       "NaN                                NaN          NaN          NaN          NaN   \n",
       "Equity Draw                        NaN  116546208.0          NaN          NaN   \n",
       "Cash Flow                          NaN          NaN   18362622.5   21116990.2   \n",
       "Cumulative Cash                    NaN          NaN   18362622.5   39479612.7   \n",
       "Final Escrow Recovery              NaN          NaN          NaN          NaN   \n",
       "Cumulative Equity Balance          0.0 -116546208.0  -98183585.5  -77066595.3   \n",
       "\n",
       "                             2027-07-01    2028-07-01    2029-07-01  \\\n",
       "Value                                                                 \n",
       "Loan Draw                  0.000000e+00  0.000000e+00  0.000000e+00   \n",
       "Interest Payment           3.611000e+07  2.989475e+07  3.398250e+07   \n",
       "Principal Payment          1.454434e+07  1.590698e+07  1.682343e+07   \n",
       "Fees                       6.354350e+05  6.354350e+05  5.894360e+05   \n",
       "Final Payment              0.000000e+00  0.000000e+00  0.000000e+00   \n",
       "Loan Balance               5.104240e+08  4.945170e+08  4.776935e+08   \n",
       "Project Cost                        NaN           NaN           NaN   \n",
       "Operating Income           7.056261e+07  7.069426e+07  7.194572e+07   \n",
       "Net Flows                  7.056261e+07  7.069426e+07  7.194572e+07   \n",
       "NaN                                 NaN           NaN           NaN   \n",
       "Equity Draw                         NaN           NaN           NaN   \n",
       "Cash Flow                  2.093142e+07  2.032793e+07  2.102646e+07   \n",
       "Cumulative Cash            6.041103e+07  8.073896e+07  1.017654e+08   \n",
       "Final Escrow Recovery               NaN           NaN           NaN   \n",
       "Cumulative Equity Balance -5.613517e+07 -3.580724e+07 -1.478079e+07   \n",
       "\n",
       "                             2030-07-01    2031-07-01    2032-07-01  ...  \\\n",
       "Value                                                                ...   \n",
       "Loan Draw                  0.000000e+00  0.000000e+00  0.000000e+00  ...   \n",
       "Interest Payment           2.791490e+07  3.130300e+07  2.597445e+07  ...   \n",
       "Principal Payment          1.894070e+07  1.904051e+07  2.193438e+07  ...   \n",
       "Fees                       5.894360e+05  5.894360e+05  5.894360e+05  ...   \n",
       "Final Payment              0.000000e+00  0.000000e+00  0.000000e+00  ...   \n",
       "Loan Balance               4.587529e+08  4.397123e+08  4.177780e+08  ...   \n",
       "Project Cost                        NaN           NaN           NaN  ...   \n",
       "Operating Income           7.094182e+07  7.105738e+07  7.116723e+07  ...   \n",
       "Net Flows                  7.094182e+07  7.105738e+07  7.116723e+07  ...   \n",
       "NaN                                 NaN           NaN           NaN  ...   \n",
       "Equity Draw                         NaN           NaN           NaN  ...   \n",
       "Cash Flow                  1.952282e+07  1.943300e+07  1.869221e+07  ...   \n",
       "Cumulative Cash            1.212882e+08  1.407212e+08  1.594134e+08  ...   \n",
       "Final Escrow Recovery               NaN           NaN           NaN  ...   \n",
       "Cumulative Equity Balance  4.742035e+06  2.417503e+07  4.286724e+07  ...   \n",
       "\n",
       "                             2036-07-01    2037-07-01    2038-07-01  \\\n",
       "Value                                                                 \n",
       "Loan Draw                  0.000000e+00  0.000000e+00  0.000000e+00   \n",
       "Interest Payment           1.989700e+07  2.179250e+07  1.720795e+07   \n",
       "Principal Payment          2.608022e+07  2.680642e+07  2.893667e+07   \n",
       "Fees                       5.851290e+05  5.851290e+05  5.851290e+05   \n",
       "Final Payment              0.000000e+00  0.000000e+00  0.000000e+00   \n",
       "Loan Balance               3.215451e+08  2.947387e+08  2.658021e+08   \n",
       "Project Cost                        NaN           NaN           NaN   \n",
       "Operating Income           6.981365e+07  6.984871e+07  6.987577e+07   \n",
       "Net Flows                  6.981365e+07  6.984871e+07  6.987577e+07   \n",
       "NaN                                 NaN           NaN           NaN   \n",
       "Equity Draw                         NaN           NaN           NaN   \n",
       "Cash Flow                  1.745333e+07  1.727346e+07  1.680535e+07   \n",
       "Cumulative Cash            2.312535e+08  2.485269e+08  2.653323e+08   \n",
       "Final Escrow Recovery               NaN           NaN           NaN   \n",
       "Cumulative Equity Balance  1.147073e+08  1.319807e+08  1.487861e+08   \n",
       "\n",
       "                             2039-07-01    2040-07-01    2041-07-01  \\\n",
       "Value                                                                 \n",
       "Loan Draw                  0.000000e+00  0.000000e+00  0.000000e+00   \n",
       "Interest Payment           1.820450e+07  1.355360e+07  1.307550e+07   \n",
       "Principal Payment          2.979683e+07  3.256219e+07  3.348052e+07   \n",
       "Fees                       5.790350e+05  5.790350e+05  5.790350e+05   \n",
       "Final Payment              0.000000e+00  0.000000e+00  0.000000e+00   \n",
       "Loan Balance               2.360052e+08  2.034430e+08  1.699625e+08   \n",
       "Project Cost                        NaN           NaN           NaN   \n",
       "Operating Income           7.101960e+07  6.990493e+07  6.990652e+07   \n",
       "Net Flows                  7.101960e+07  6.990493e+07  6.990652e+07   \n",
       "NaN                                 NaN           NaN           NaN   \n",
       "Equity Draw                         NaN           NaN           NaN   \n",
       "Cash Flow                  1.736966e+07  1.605870e+07  1.601312e+07   \n",
       "Cumulative Cash            2.827020e+08  2.987607e+08  3.147738e+08   \n",
       "Final Escrow Recovery               NaN           NaN           NaN   \n",
       "Cumulative Equity Balance  1.661557e+08  1.822144e+08  1.982276e+08   \n",
       "\n",
       "                             2042-07-01    2043-07-01    2044-07-01  \\\n",
       "Value                                                                 \n",
       "Loan Draw                  0.000000e+00  0.000000e+00  0.000000e+00   \n",
       "Interest Payment           9.554500e+06  8.211000e+06  2.354150e+06   \n",
       "Principal Payment          3.661729e+07  3.771556e+07  2.062966e+07   \n",
       "Fees                       5.790350e+05  5.790350e+05  2.975230e+05   \n",
       "Final Payment              0.000000e+00  0.000000e+00  0.000000e+00   \n",
       "Loan Balance               1.333452e+08  9.562966e+07  7.500000e+07   \n",
       "Project Cost                        NaN           NaN           NaN   \n",
       "Operating Income           6.989910e+07  6.988240e+07  7.098115e+07   \n",
       "Net Flows                  6.989910e+07  6.988240e+07  7.098115e+07   \n",
       "NaN                                 NaN           NaN           NaN   \n",
       "Equity Draw                         NaN           NaN           NaN   \n",
       "Cash Flow                  1.538006e+07  1.495343e+07  1.508971e+07   \n",
       "Cumulative Cash            3.301538e+08  3.451073e+08  3.601970e+08   \n",
       "Final Escrow Recovery               NaN           NaN           NaN   \n",
       "Cumulative Equity Balance  2.136076e+08  2.285611e+08  2.436508e+08   \n",
       "\n",
       "                             2045-07-01  \n",
       "Value                                    \n",
       "Loan Draw                  0.000000e+00  \n",
       "Interest Payment           0.000000e+00  \n",
       "Principal Payment          0.000000e+00  \n",
       "Fees                       0.000000e+00  \n",
       "Final Payment              7.500000e+07  \n",
       "Loan Balance               0.000000e+00  \n",
       "Project Cost                        NaN  \n",
       "Operating Income                    NaN  \n",
       "Net Flows                           NaN  \n",
       "NaN                                 NaN  \n",
       "Equity Draw                         NaN  \n",
       "Cash Flow                  0.000000e+00  \n",
       "Cumulative Cash            0.000000e+00  \n",
       "Final Escrow Recovery      1.800000e+07  \n",
       "Cumulative Equity Balance  1.866508e+08  \n",
       "\n",
       "[15 rows x 23 columns]"
      ]
     },
     "execution_count": 6,
     "metadata": {},
     "output_type": "execute_result"
    }
   ],
   "source": [
    "gm = pd.read_excel(\"../../../Documents/ClassDocs/cee227 Global Project Finance/Island Energy Project Documents/Island Energy - Financial Model - Sensitivity Analysis_Matching 031523.xlsx\", sheet_name=5, header=8, nrows=18)\n",
    "\n",
    "gm.columns = time_cols\n",
    "gm.drop([0,1,8], inplace=True)\n",
    "gm.set_index(\"Value\", inplace=True)\n",
    "gm\n",
    "\n",
    "# gm"
   ]
  },
  {
   "cell_type": "code",
   "execution_count": 32,
   "metadata": {},
   "outputs": [
    {
     "data": {
      "application/vnd.plotly.v1+json": {
       "config": {
        "plotlyServerURL": "https://plotly.com"
       },
       "data": [
        {
         "labels": [
          "loan",
          ""
         ],
         "marker": {
          "colors": [
           "#8fdff2"
          ]
         },
         "pull": [
          0,
          0
         ],
         "textinfo": "none",
         "type": "pie",
         "values": [
          550062792,
          360196983.4992197
         ]
        }
       ],
       "layout": {
        "template": {
         "data": {
          "bar": [
           {
            "error_x": {
             "color": "#2a3f5f"
            },
            "error_y": {
             "color": "#2a3f5f"
            },
            "marker": {
             "line": {
              "color": "white",
              "width": 0.5
             },
             "pattern": {
              "fillmode": "overlay",
              "size": 10,
              "solidity": 0.2
             }
            },
            "type": "bar"
           }
          ],
          "barpolar": [
           {
            "marker": {
             "line": {
              "color": "white",
              "width": 0.5
             },
             "pattern": {
              "fillmode": "overlay",
              "size": 10,
              "solidity": 0.2
             }
            },
            "type": "barpolar"
           }
          ],
          "carpet": [
           {
            "aaxis": {
             "endlinecolor": "#2a3f5f",
             "gridcolor": "#C8D4E3",
             "linecolor": "#C8D4E3",
             "minorgridcolor": "#C8D4E3",
             "startlinecolor": "#2a3f5f"
            },
            "baxis": {
             "endlinecolor": "#2a3f5f",
             "gridcolor": "#C8D4E3",
             "linecolor": "#C8D4E3",
             "minorgridcolor": "#C8D4E3",
             "startlinecolor": "#2a3f5f"
            },
            "type": "carpet"
           }
          ],
          "choropleth": [
           {
            "colorbar": {
             "outlinewidth": 0,
             "ticks": ""
            },
            "type": "choropleth"
           }
          ],
          "contour": [
           {
            "colorbar": {
             "outlinewidth": 0,
             "ticks": ""
            },
            "colorscale": [
             [
              0,
              "#0d0887"
             ],
             [
              0.1111111111111111,
              "#46039f"
             ],
             [
              0.2222222222222222,
              "#7201a8"
             ],
             [
              0.3333333333333333,
              "#9c179e"
             ],
             [
              0.4444444444444444,
              "#bd3786"
             ],
             [
              0.5555555555555556,
              "#d8576b"
             ],
             [
              0.6666666666666666,
              "#ed7953"
             ],
             [
              0.7777777777777778,
              "#fb9f3a"
             ],
             [
              0.8888888888888888,
              "#fdca26"
             ],
             [
              1,
              "#f0f921"
             ]
            ],
            "type": "contour"
           }
          ],
          "contourcarpet": [
           {
            "colorbar": {
             "outlinewidth": 0,
             "ticks": ""
            },
            "type": "contourcarpet"
           }
          ],
          "heatmap": [
           {
            "colorbar": {
             "outlinewidth": 0,
             "ticks": ""
            },
            "colorscale": [
             [
              0,
              "#0d0887"
             ],
             [
              0.1111111111111111,
              "#46039f"
             ],
             [
              0.2222222222222222,
              "#7201a8"
             ],
             [
              0.3333333333333333,
              "#9c179e"
             ],
             [
              0.4444444444444444,
              "#bd3786"
             ],
             [
              0.5555555555555556,
              "#d8576b"
             ],
             [
              0.6666666666666666,
              "#ed7953"
             ],
             [
              0.7777777777777778,
              "#fb9f3a"
             ],
             [
              0.8888888888888888,
              "#fdca26"
             ],
             [
              1,
              "#f0f921"
             ]
            ],
            "type": "heatmap"
           }
          ],
          "heatmapgl": [
           {
            "colorbar": {
             "outlinewidth": 0,
             "ticks": ""
            },
            "colorscale": [
             [
              0,
              "#0d0887"
             ],
             [
              0.1111111111111111,
              "#46039f"
             ],
             [
              0.2222222222222222,
              "#7201a8"
             ],
             [
              0.3333333333333333,
              "#9c179e"
             ],
             [
              0.4444444444444444,
              "#bd3786"
             ],
             [
              0.5555555555555556,
              "#d8576b"
             ],
             [
              0.6666666666666666,
              "#ed7953"
             ],
             [
              0.7777777777777778,
              "#fb9f3a"
             ],
             [
              0.8888888888888888,
              "#fdca26"
             ],
             [
              1,
              "#f0f921"
             ]
            ],
            "type": "heatmapgl"
           }
          ],
          "histogram": [
           {
            "marker": {
             "pattern": {
              "fillmode": "overlay",
              "size": 10,
              "solidity": 0.2
             }
            },
            "type": "histogram"
           }
          ],
          "histogram2d": [
           {
            "colorbar": {
             "outlinewidth": 0,
             "ticks": ""
            },
            "colorscale": [
             [
              0,
              "#0d0887"
             ],
             [
              0.1111111111111111,
              "#46039f"
             ],
             [
              0.2222222222222222,
              "#7201a8"
             ],
             [
              0.3333333333333333,
              "#9c179e"
             ],
             [
              0.4444444444444444,
              "#bd3786"
             ],
             [
              0.5555555555555556,
              "#d8576b"
             ],
             [
              0.6666666666666666,
              "#ed7953"
             ],
             [
              0.7777777777777778,
              "#fb9f3a"
             ],
             [
              0.8888888888888888,
              "#fdca26"
             ],
             [
              1,
              "#f0f921"
             ]
            ],
            "type": "histogram2d"
           }
          ],
          "histogram2dcontour": [
           {
            "colorbar": {
             "outlinewidth": 0,
             "ticks": ""
            },
            "colorscale": [
             [
              0,
              "#0d0887"
             ],
             [
              0.1111111111111111,
              "#46039f"
             ],
             [
              0.2222222222222222,
              "#7201a8"
             ],
             [
              0.3333333333333333,
              "#9c179e"
             ],
             [
              0.4444444444444444,
              "#bd3786"
             ],
             [
              0.5555555555555556,
              "#d8576b"
             ],
             [
              0.6666666666666666,
              "#ed7953"
             ],
             [
              0.7777777777777778,
              "#fb9f3a"
             ],
             [
              0.8888888888888888,
              "#fdca26"
             ],
             [
              1,
              "#f0f921"
             ]
            ],
            "type": "histogram2dcontour"
           }
          ],
          "mesh3d": [
           {
            "colorbar": {
             "outlinewidth": 0,
             "ticks": ""
            },
            "type": "mesh3d"
           }
          ],
          "parcoords": [
           {
            "line": {
             "colorbar": {
              "outlinewidth": 0,
              "ticks": ""
             }
            },
            "type": "parcoords"
           }
          ],
          "pie": [
           {
            "automargin": true,
            "type": "pie"
           }
          ],
          "scatter": [
           {
            "fillpattern": {
             "fillmode": "overlay",
             "size": 10,
             "solidity": 0.2
            },
            "type": "scatter"
           }
          ],
          "scatter3d": [
           {
            "line": {
             "colorbar": {
              "outlinewidth": 0,
              "ticks": ""
             }
            },
            "marker": {
             "colorbar": {
              "outlinewidth": 0,
              "ticks": ""
             }
            },
            "type": "scatter3d"
           }
          ],
          "scattercarpet": [
           {
            "marker": {
             "colorbar": {
              "outlinewidth": 0,
              "ticks": ""
             }
            },
            "type": "scattercarpet"
           }
          ],
          "scattergeo": [
           {
            "marker": {
             "colorbar": {
              "outlinewidth": 0,
              "ticks": ""
             }
            },
            "type": "scattergeo"
           }
          ],
          "scattergl": [
           {
            "marker": {
             "colorbar": {
              "outlinewidth": 0,
              "ticks": ""
             }
            },
            "type": "scattergl"
           }
          ],
          "scattermapbox": [
           {
            "marker": {
             "colorbar": {
              "outlinewidth": 0,
              "ticks": ""
             }
            },
            "type": "scattermapbox"
           }
          ],
          "scatterpolar": [
           {
            "marker": {
             "colorbar": {
              "outlinewidth": 0,
              "ticks": ""
             }
            },
            "type": "scatterpolar"
           }
          ],
          "scatterpolargl": [
           {
            "marker": {
             "colorbar": {
              "outlinewidth": 0,
              "ticks": ""
             }
            },
            "type": "scatterpolargl"
           }
          ],
          "scatterternary": [
           {
            "marker": {
             "colorbar": {
              "outlinewidth": 0,
              "ticks": ""
             }
            },
            "type": "scatterternary"
           }
          ],
          "surface": [
           {
            "colorbar": {
             "outlinewidth": 0,
             "ticks": ""
            },
            "colorscale": [
             [
              0,
              "#0d0887"
             ],
             [
              0.1111111111111111,
              "#46039f"
             ],
             [
              0.2222222222222222,
              "#7201a8"
             ],
             [
              0.3333333333333333,
              "#9c179e"
             ],
             [
              0.4444444444444444,
              "#bd3786"
             ],
             [
              0.5555555555555556,
              "#d8576b"
             ],
             [
              0.6666666666666666,
              "#ed7953"
             ],
             [
              0.7777777777777778,
              "#fb9f3a"
             ],
             [
              0.8888888888888888,
              "#fdca26"
             ],
             [
              1,
              "#f0f921"
             ]
            ],
            "type": "surface"
           }
          ],
          "table": [
           {
            "cells": {
             "fill": {
              "color": "#EBF0F8"
             },
             "line": {
              "color": "white"
             }
            },
            "header": {
             "fill": {
              "color": "#C8D4E3"
             },
             "line": {
              "color": "white"
             }
            },
            "type": "table"
           }
          ]
         },
         "layout": {
          "annotationdefaults": {
           "arrowcolor": "#2a3f5f",
           "arrowhead": 0,
           "arrowwidth": 1
          },
          "autotypenumbers": "strict",
          "coloraxis": {
           "colorbar": {
            "outlinewidth": 0,
            "ticks": ""
           }
          },
          "colorscale": {
           "diverging": [
            [
             0,
             "#8e0152"
            ],
            [
             0.1,
             "#c51b7d"
            ],
            [
             0.2,
             "#de77ae"
            ],
            [
             0.3,
             "#f1b6da"
            ],
            [
             0.4,
             "#fde0ef"
            ],
            [
             0.5,
             "#f7f7f7"
            ],
            [
             0.6,
             "#e6f5d0"
            ],
            [
             0.7,
             "#b8e186"
            ],
            [
             0.8,
             "#7fbc41"
            ],
            [
             0.9,
             "#4d9221"
            ],
            [
             1,
             "#276419"
            ]
           ],
           "sequential": [
            [
             0,
             "#0d0887"
            ],
            [
             0.1111111111111111,
             "#46039f"
            ],
            [
             0.2222222222222222,
             "#7201a8"
            ],
            [
             0.3333333333333333,
             "#9c179e"
            ],
            [
             0.4444444444444444,
             "#bd3786"
            ],
            [
             0.5555555555555556,
             "#d8576b"
            ],
            [
             0.6666666666666666,
             "#ed7953"
            ],
            [
             0.7777777777777778,
             "#fb9f3a"
            ],
            [
             0.8888888888888888,
             "#fdca26"
            ],
            [
             1,
             "#f0f921"
            ]
           ],
           "sequentialminus": [
            [
             0,
             "#0d0887"
            ],
            [
             0.1111111111111111,
             "#46039f"
            ],
            [
             0.2222222222222222,
             "#7201a8"
            ],
            [
             0.3333333333333333,
             "#9c179e"
            ],
            [
             0.4444444444444444,
             "#bd3786"
            ],
            [
             0.5555555555555556,
             "#d8576b"
            ],
            [
             0.6666666666666666,
             "#ed7953"
            ],
            [
             0.7777777777777778,
             "#fb9f3a"
            ],
            [
             0.8888888888888888,
             "#fdca26"
            ],
            [
             1,
             "#f0f921"
            ]
           ]
          },
          "colorway": [
           "#449aba",
           "#8fdff2",
           "#2a3337",
           "#0f5876",
           "#81b8bc",
           "#3d7d82",
           "#9c9c9c",
           "#04545a",
           "#5c5656"
          ],
          "font": {
           "color": "#2a3f5f"
          },
          "geo": {
           "bgcolor": "white",
           "lakecolor": "white",
           "landcolor": "white",
           "showlakes": true,
           "showland": true,
           "subunitcolor": "#C8D4E3"
          },
          "hoverlabel": {
           "align": "left"
          },
          "hovermode": "closest",
          "mapbox": {
           "style": "light"
          },
          "paper_bgcolor": "white",
          "plot_bgcolor": "white",
          "polar": {
           "angularaxis": {
            "gridcolor": "#EBF0F8",
            "linecolor": "#EBF0F8",
            "ticks": ""
           },
           "bgcolor": "white",
           "radialaxis": {
            "gridcolor": "#EBF0F8",
            "linecolor": "#EBF0F8",
            "ticks": ""
           }
          },
          "scene": {
           "xaxis": {
            "backgroundcolor": "white",
            "gridcolor": "#DFE8F3",
            "gridwidth": 2,
            "linecolor": "#EBF0F8",
            "showbackground": true,
            "ticks": "",
            "zerolinecolor": "#EBF0F8"
           },
           "yaxis": {
            "backgroundcolor": "white",
            "gridcolor": "#DFE8F3",
            "gridwidth": 2,
            "linecolor": "#EBF0F8",
            "showbackground": true,
            "ticks": "",
            "zerolinecolor": "#EBF0F8"
           },
           "zaxis": {
            "backgroundcolor": "white",
            "gridcolor": "#DFE8F3",
            "gridwidth": 2,
            "linecolor": "#EBF0F8",
            "showbackground": true,
            "ticks": "",
            "zerolinecolor": "#EBF0F8"
           }
          },
          "shapedefaults": {
           "line": {
            "color": "#2a3f5f"
           }
          },
          "ternary": {
           "aaxis": {
            "gridcolor": "#DFE8F3",
            "linecolor": "#A2B1C6",
            "ticks": ""
           },
           "baxis": {
            "gridcolor": "#DFE8F3",
            "linecolor": "#A2B1C6",
            "ticks": ""
           },
           "bgcolor": "white",
           "caxis": {
            "gridcolor": "#DFE8F3",
            "linecolor": "#A2B1C6",
            "ticks": ""
           }
          },
          "title": {
           "x": 0.05
          },
          "xaxis": {
           "automargin": true,
           "gridcolor": "#EBF0F8",
           "linecolor": "#EBF0F8",
           "ticks": "",
           "title": {
            "standoff": 15
           },
           "zerolinecolor": "#EBF0F8",
           "zerolinewidth": 2
          },
          "yaxis": {
           "automargin": true,
           "gridcolor": "#EBF0F8",
           "linecolor": "#EBF0F8",
           "ticks": "",
           "title": {
            "standoff": 15
           },
           "zerolinecolor": "#EBF0F8",
           "zerolinewidth": 2
          }
         }
        }
       }
      }
     },
     "metadata": {},
     "output_type": "display_data"
    }
   ],
   "source": [
    "loan = gm.loc[\"Loan Draw\", :].sum()\n",
    "equity = gm.loc[\"Equity Draw\", :].sum()\n",
    "operating_cash =  gm.loc[\"Cash Flow\", :].sum()\n",
    "total = loan+equity\n",
    "\n",
    "labels = [\"loan\", \"\", ]\n",
    "values = [loan, operating_cash ]\n",
    "\n",
    "fig = go.Figure(data=[go.Pie(labels=labels, values=values, textinfo=\"none\", pull=[0, 0,])], )\n",
    "\n",
    "fig.update_traces(marker=dict(colors=theme_colors[1:2]))\n",
    "fig.show()\n"
   ]
  },
  {
   "cell_type": "code",
   "execution_count": 25,
   "metadata": {},
   "outputs": [
    {
     "data": {
      "text/plain": [
       "550062792.0"
      ]
     },
     "execution_count": 25,
     "metadata": {},
     "output_type": "execute_result"
    }
   ],
   "source": [
    "loan"
   ]
  },
  {
   "cell_type": "code",
   "execution_count": 24,
   "metadata": {},
   "outputs": [
    {
     "data": {
      "application/vnd.plotly.v1+json": {
       "config": {
        "plotlyServerURL": "https://plotly.com"
       },
       "data": [
        {
         "labels": [
          "",
          "equity"
         ],
         "pull": [
          0,
          0
         ],
         "textinfo": "none",
         "type": "pie",
         "values": [
          360196983.4992197,
          116546208
         ]
        }
       ],
       "layout": {
        "template": {
         "data": {
          "bar": [
           {
            "error_x": {
             "color": "#2a3f5f"
            },
            "error_y": {
             "color": "#2a3f5f"
            },
            "marker": {
             "line": {
              "color": "white",
              "width": 0.5
             },
             "pattern": {
              "fillmode": "overlay",
              "size": 10,
              "solidity": 0.2
             }
            },
            "type": "bar"
           }
          ],
          "barpolar": [
           {
            "marker": {
             "line": {
              "color": "white",
              "width": 0.5
             },
             "pattern": {
              "fillmode": "overlay",
              "size": 10,
              "solidity": 0.2
             }
            },
            "type": "barpolar"
           }
          ],
          "carpet": [
           {
            "aaxis": {
             "endlinecolor": "#2a3f5f",
             "gridcolor": "#C8D4E3",
             "linecolor": "#C8D4E3",
             "minorgridcolor": "#C8D4E3",
             "startlinecolor": "#2a3f5f"
            },
            "baxis": {
             "endlinecolor": "#2a3f5f",
             "gridcolor": "#C8D4E3",
             "linecolor": "#C8D4E3",
             "minorgridcolor": "#C8D4E3",
             "startlinecolor": "#2a3f5f"
            },
            "type": "carpet"
           }
          ],
          "choropleth": [
           {
            "colorbar": {
             "outlinewidth": 0,
             "ticks": ""
            },
            "type": "choropleth"
           }
          ],
          "contour": [
           {
            "colorbar": {
             "outlinewidth": 0,
             "ticks": ""
            },
            "colorscale": [
             [
              0,
              "#0d0887"
             ],
             [
              0.1111111111111111,
              "#46039f"
             ],
             [
              0.2222222222222222,
              "#7201a8"
             ],
             [
              0.3333333333333333,
              "#9c179e"
             ],
             [
              0.4444444444444444,
              "#bd3786"
             ],
             [
              0.5555555555555556,
              "#d8576b"
             ],
             [
              0.6666666666666666,
              "#ed7953"
             ],
             [
              0.7777777777777778,
              "#fb9f3a"
             ],
             [
              0.8888888888888888,
              "#fdca26"
             ],
             [
              1,
              "#f0f921"
             ]
            ],
            "type": "contour"
           }
          ],
          "contourcarpet": [
           {
            "colorbar": {
             "outlinewidth": 0,
             "ticks": ""
            },
            "type": "contourcarpet"
           }
          ],
          "heatmap": [
           {
            "colorbar": {
             "outlinewidth": 0,
             "ticks": ""
            },
            "colorscale": [
             [
              0,
              "#0d0887"
             ],
             [
              0.1111111111111111,
              "#46039f"
             ],
             [
              0.2222222222222222,
              "#7201a8"
             ],
             [
              0.3333333333333333,
              "#9c179e"
             ],
             [
              0.4444444444444444,
              "#bd3786"
             ],
             [
              0.5555555555555556,
              "#d8576b"
             ],
             [
              0.6666666666666666,
              "#ed7953"
             ],
             [
              0.7777777777777778,
              "#fb9f3a"
             ],
             [
              0.8888888888888888,
              "#fdca26"
             ],
             [
              1,
              "#f0f921"
             ]
            ],
            "type": "heatmap"
           }
          ],
          "heatmapgl": [
           {
            "colorbar": {
             "outlinewidth": 0,
             "ticks": ""
            },
            "colorscale": [
             [
              0,
              "#0d0887"
             ],
             [
              0.1111111111111111,
              "#46039f"
             ],
             [
              0.2222222222222222,
              "#7201a8"
             ],
             [
              0.3333333333333333,
              "#9c179e"
             ],
             [
              0.4444444444444444,
              "#bd3786"
             ],
             [
              0.5555555555555556,
              "#d8576b"
             ],
             [
              0.6666666666666666,
              "#ed7953"
             ],
             [
              0.7777777777777778,
              "#fb9f3a"
             ],
             [
              0.8888888888888888,
              "#fdca26"
             ],
             [
              1,
              "#f0f921"
             ]
            ],
            "type": "heatmapgl"
           }
          ],
          "histogram": [
           {
            "marker": {
             "pattern": {
              "fillmode": "overlay",
              "size": 10,
              "solidity": 0.2
             }
            },
            "type": "histogram"
           }
          ],
          "histogram2d": [
           {
            "colorbar": {
             "outlinewidth": 0,
             "ticks": ""
            },
            "colorscale": [
             [
              0,
              "#0d0887"
             ],
             [
              0.1111111111111111,
              "#46039f"
             ],
             [
              0.2222222222222222,
              "#7201a8"
             ],
             [
              0.3333333333333333,
              "#9c179e"
             ],
             [
              0.4444444444444444,
              "#bd3786"
             ],
             [
              0.5555555555555556,
              "#d8576b"
             ],
             [
              0.6666666666666666,
              "#ed7953"
             ],
             [
              0.7777777777777778,
              "#fb9f3a"
             ],
             [
              0.8888888888888888,
              "#fdca26"
             ],
             [
              1,
              "#f0f921"
             ]
            ],
            "type": "histogram2d"
           }
          ],
          "histogram2dcontour": [
           {
            "colorbar": {
             "outlinewidth": 0,
             "ticks": ""
            },
            "colorscale": [
             [
              0,
              "#0d0887"
             ],
             [
              0.1111111111111111,
              "#46039f"
             ],
             [
              0.2222222222222222,
              "#7201a8"
             ],
             [
              0.3333333333333333,
              "#9c179e"
             ],
             [
              0.4444444444444444,
              "#bd3786"
             ],
             [
              0.5555555555555556,
              "#d8576b"
             ],
             [
              0.6666666666666666,
              "#ed7953"
             ],
             [
              0.7777777777777778,
              "#fb9f3a"
             ],
             [
              0.8888888888888888,
              "#fdca26"
             ],
             [
              1,
              "#f0f921"
             ]
            ],
            "type": "histogram2dcontour"
           }
          ],
          "mesh3d": [
           {
            "colorbar": {
             "outlinewidth": 0,
             "ticks": ""
            },
            "type": "mesh3d"
           }
          ],
          "parcoords": [
           {
            "line": {
             "colorbar": {
              "outlinewidth": 0,
              "ticks": ""
             }
            },
            "type": "parcoords"
           }
          ],
          "pie": [
           {
            "automargin": true,
            "type": "pie"
           }
          ],
          "scatter": [
           {
            "fillpattern": {
             "fillmode": "overlay",
             "size": 10,
             "solidity": 0.2
            },
            "type": "scatter"
           }
          ],
          "scatter3d": [
           {
            "line": {
             "colorbar": {
              "outlinewidth": 0,
              "ticks": ""
             }
            },
            "marker": {
             "colorbar": {
              "outlinewidth": 0,
              "ticks": ""
             }
            },
            "type": "scatter3d"
           }
          ],
          "scattercarpet": [
           {
            "marker": {
             "colorbar": {
              "outlinewidth": 0,
              "ticks": ""
             }
            },
            "type": "scattercarpet"
           }
          ],
          "scattergeo": [
           {
            "marker": {
             "colorbar": {
              "outlinewidth": 0,
              "ticks": ""
             }
            },
            "type": "scattergeo"
           }
          ],
          "scattergl": [
           {
            "marker": {
             "colorbar": {
              "outlinewidth": 0,
              "ticks": ""
             }
            },
            "type": "scattergl"
           }
          ],
          "scattermapbox": [
           {
            "marker": {
             "colorbar": {
              "outlinewidth": 0,
              "ticks": ""
             }
            },
            "type": "scattermapbox"
           }
          ],
          "scatterpolar": [
           {
            "marker": {
             "colorbar": {
              "outlinewidth": 0,
              "ticks": ""
             }
            },
            "type": "scatterpolar"
           }
          ],
          "scatterpolargl": [
           {
            "marker": {
             "colorbar": {
              "outlinewidth": 0,
              "ticks": ""
             }
            },
            "type": "scatterpolargl"
           }
          ],
          "scatterternary": [
           {
            "marker": {
             "colorbar": {
              "outlinewidth": 0,
              "ticks": ""
             }
            },
            "type": "scatterternary"
           }
          ],
          "surface": [
           {
            "colorbar": {
             "outlinewidth": 0,
             "ticks": ""
            },
            "colorscale": [
             [
              0,
              "#0d0887"
             ],
             [
              0.1111111111111111,
              "#46039f"
             ],
             [
              0.2222222222222222,
              "#7201a8"
             ],
             [
              0.3333333333333333,
              "#9c179e"
             ],
             [
              0.4444444444444444,
              "#bd3786"
             ],
             [
              0.5555555555555556,
              "#d8576b"
             ],
             [
              0.6666666666666666,
              "#ed7953"
             ],
             [
              0.7777777777777778,
              "#fb9f3a"
             ],
             [
              0.8888888888888888,
              "#fdca26"
             ],
             [
              1,
              "#f0f921"
             ]
            ],
            "type": "surface"
           }
          ],
          "table": [
           {
            "cells": {
             "fill": {
              "color": "#EBF0F8"
             },
             "line": {
              "color": "white"
             }
            },
            "header": {
             "fill": {
              "color": "#C8D4E3"
             },
             "line": {
              "color": "white"
             }
            },
            "type": "table"
           }
          ]
         },
         "layout": {
          "annotationdefaults": {
           "arrowcolor": "#2a3f5f",
           "arrowhead": 0,
           "arrowwidth": 1
          },
          "autotypenumbers": "strict",
          "coloraxis": {
           "colorbar": {
            "outlinewidth": 0,
            "ticks": ""
           }
          },
          "colorscale": {
           "diverging": [
            [
             0,
             "#8e0152"
            ],
            [
             0.1,
             "#c51b7d"
            ],
            [
             0.2,
             "#de77ae"
            ],
            [
             0.3,
             "#f1b6da"
            ],
            [
             0.4,
             "#fde0ef"
            ],
            [
             0.5,
             "#f7f7f7"
            ],
            [
             0.6,
             "#e6f5d0"
            ],
            [
             0.7,
             "#b8e186"
            ],
            [
             0.8,
             "#7fbc41"
            ],
            [
             0.9,
             "#4d9221"
            ],
            [
             1,
             "#276419"
            ]
           ],
           "sequential": [
            [
             0,
             "#0d0887"
            ],
            [
             0.1111111111111111,
             "#46039f"
            ],
            [
             0.2222222222222222,
             "#7201a8"
            ],
            [
             0.3333333333333333,
             "#9c179e"
            ],
            [
             0.4444444444444444,
             "#bd3786"
            ],
            [
             0.5555555555555556,
             "#d8576b"
            ],
            [
             0.6666666666666666,
             "#ed7953"
            ],
            [
             0.7777777777777778,
             "#fb9f3a"
            ],
            [
             0.8888888888888888,
             "#fdca26"
            ],
            [
             1,
             "#f0f921"
            ]
           ],
           "sequentialminus": [
            [
             0,
             "#0d0887"
            ],
            [
             0.1111111111111111,
             "#46039f"
            ],
            [
             0.2222222222222222,
             "#7201a8"
            ],
            [
             0.3333333333333333,
             "#9c179e"
            ],
            [
             0.4444444444444444,
             "#bd3786"
            ],
            [
             0.5555555555555556,
             "#d8576b"
            ],
            [
             0.6666666666666666,
             "#ed7953"
            ],
            [
             0.7777777777777778,
             "#fb9f3a"
            ],
            [
             0.8888888888888888,
             "#fdca26"
            ],
            [
             1,
             "#f0f921"
            ]
           ]
          },
          "colorway": [
           "#449aba",
           "#8fdff2",
           "#2a3337",
           "#0f5876",
           "#81b8bc",
           "#3d7d82",
           "#9c9c9c",
           "#04545a",
           "#5c5656"
          ],
          "font": {
           "color": "#2a3f5f"
          },
          "geo": {
           "bgcolor": "white",
           "lakecolor": "white",
           "landcolor": "white",
           "showlakes": true,
           "showland": true,
           "subunitcolor": "#C8D4E3"
          },
          "hoverlabel": {
           "align": "left"
          },
          "hovermode": "closest",
          "mapbox": {
           "style": "light"
          },
          "paper_bgcolor": "white",
          "plot_bgcolor": "white",
          "polar": {
           "angularaxis": {
            "gridcolor": "#EBF0F8",
            "linecolor": "#EBF0F8",
            "ticks": ""
           },
           "bgcolor": "white",
           "radialaxis": {
            "gridcolor": "#EBF0F8",
            "linecolor": "#EBF0F8",
            "ticks": ""
           }
          },
          "scene": {
           "xaxis": {
            "backgroundcolor": "white",
            "gridcolor": "#DFE8F3",
            "gridwidth": 2,
            "linecolor": "#EBF0F8",
            "showbackground": true,
            "ticks": "",
            "zerolinecolor": "#EBF0F8"
           },
           "yaxis": {
            "backgroundcolor": "white",
            "gridcolor": "#DFE8F3",
            "gridwidth": 2,
            "linecolor": "#EBF0F8",
            "showbackground": true,
            "ticks": "",
            "zerolinecolor": "#EBF0F8"
           },
           "zaxis": {
            "backgroundcolor": "white",
            "gridcolor": "#DFE8F3",
            "gridwidth": 2,
            "linecolor": "#EBF0F8",
            "showbackground": true,
            "ticks": "",
            "zerolinecolor": "#EBF0F8"
           }
          },
          "shapedefaults": {
           "line": {
            "color": "#2a3f5f"
           }
          },
          "ternary": {
           "aaxis": {
            "gridcolor": "#DFE8F3",
            "linecolor": "#A2B1C6",
            "ticks": ""
           },
           "baxis": {
            "gridcolor": "#DFE8F3",
            "linecolor": "#A2B1C6",
            "ticks": ""
           },
           "bgcolor": "white",
           "caxis": {
            "gridcolor": "#DFE8F3",
            "linecolor": "#A2B1C6",
            "ticks": ""
           }
          },
          "title": {
           "x": 0.05
          },
          "xaxis": {
           "automargin": true,
           "gridcolor": "#EBF0F8",
           "linecolor": "#EBF0F8",
           "ticks": "",
           "title": {
            "standoff": 15
           },
           "zerolinecolor": "#EBF0F8",
           "zerolinewidth": 2
          },
          "yaxis": {
           "automargin": true,
           "gridcolor": "#EBF0F8",
           "linecolor": "#EBF0F8",
           "ticks": "",
           "title": {
            "standoff": 15
           },
           "zerolinecolor": "#EBF0F8",
           "zerolinewidth": 2
          }
         }
        }
       }
      }
     },
     "metadata": {},
     "output_type": "display_data"
    }
   ],
   "source": [
    "\n",
    "labels = [\"\", \"equity\"]\n",
    "values = [operating_cash , equity]\n",
    "\n",
    "fig = go.Figure(data=[go.Pie(labels=labels, values=values, textinfo=\"none\", pull=[0, 0,])])\n",
    "fig.show()\n"
   ]
  },
  {
   "cell_type": "code",
   "execution_count": 170,
   "metadata": {},
   "outputs": [
    {
     "data": {
      "application/vnd.plotly.v1+json": {
       "config": {
        "plotlyServerURL": "https://plotly.com"
       },
       "data": [
        {
         "name": "Net Flows",
         "type": "bar",
         "x": [
          "2023-07-01T00:00:00",
          "2024-07-01T00:00:00",
          "2025-07-01T00:00:00",
          "2026-07-01T00:00:00",
          "2027-07-01T00:00:00",
          "2028-07-01T00:00:00",
          "2029-07-01T00:00:00",
          "2030-07-01T00:00:00",
          "2031-07-01T00:00:00",
          "2032-07-01T00:00:00",
          "2033-07-01T00:00:00",
          "2034-07-01T00:00:00",
          "2035-07-01T00:00:00",
          "2036-07-01T00:00:00",
          "2037-07-01T00:00:00",
          "2038-07-01T00:00:00",
          "2039-07-01T00:00:00",
          "2040-07-01T00:00:00",
          "2041-07-01T00:00:00",
          "2042-07-01T00:00:00",
          "2043-07-01T00:00:00",
          "2044-07-01T00:00:00",
          "2045-07-01T00:00:00"
         ],
         "y": [
          -384277500,
          -282331500,
          70284400,
          70425931.99999999,
          70562605.65999998,
          70694257.53829996,
          71945719.89724144,
          70941820.5947589,
          71057382.97321472,
          71167225.74544986,
          71271162.87798041,
          72494003.4712687,
          69770840.03865668,
          69813651.98396331,
          69848708.18262425,
          69875770.61074707,
          71019595.07319075,
          69904931.04818135,
          69906521.52803758,
          69899102.85590845,
          69882404.55842441,
          70981149.1741589,
          null
         ]
        },
        {
         "name": "Cumulative Equity Balance",
         "type": "bar",
         "x": [
          "2023-07-01T00:00:00",
          "2024-07-01T00:00:00",
          "2025-07-01T00:00:00",
          "2026-07-01T00:00:00",
          "2027-07-01T00:00:00",
          "2028-07-01T00:00:00",
          "2029-07-01T00:00:00",
          "2030-07-01T00:00:00",
          "2031-07-01T00:00:00",
          "2032-07-01T00:00:00",
          "2033-07-01T00:00:00",
          "2034-07-01T00:00:00",
          "2035-07-01T00:00:00",
          "2036-07-01T00:00:00",
          "2037-07-01T00:00:00",
          "2038-07-01T00:00:00",
          "2039-07-01T00:00:00",
          "2040-07-01T00:00:00",
          "2041-07-01T00:00:00",
          "2042-07-01T00:00:00",
          "2043-07-01T00:00:00",
          "2044-07-01T00:00:00",
          "2045-07-01T00:00:00"
         ],
         "y": [
          0,
          -116546208,
          -98183585.5,
          -77066595.30000001,
          -56135173.33800003,
          -35807243.93044506,
          -14780785.00237605,
          4742034.913955182,
          24175034.49520548,
          42867241.017020375,
          60880313.53160666,
          79818152.96149474,
          97253949.48855442,
          114707277.37732874,
          131980738.10516572,
          148786083.53268868,
          166155743.5839222,
          182214447.81764916,
          198227570.88727546,
          213607635.88641137,
          228561068.57730848,
          243650775.49921972,
          186650775.49921972
         ]
        }
       ],
       "layout": {
        "template": {
         "data": {
          "bar": [
           {
            "error_x": {
             "color": "#2a3f5f"
            },
            "error_y": {
             "color": "#2a3f5f"
            },
            "marker": {
             "line": {
              "color": "white",
              "width": 0.5
             },
             "pattern": {
              "fillmode": "overlay",
              "size": 10,
              "solidity": 0.2
             }
            },
            "type": "bar"
           }
          ],
          "barpolar": [
           {
            "marker": {
             "line": {
              "color": "white",
              "width": 0.5
             },
             "pattern": {
              "fillmode": "overlay",
              "size": 10,
              "solidity": 0.2
             }
            },
            "type": "barpolar"
           }
          ],
          "carpet": [
           {
            "aaxis": {
             "endlinecolor": "#2a3f5f",
             "gridcolor": "#C8D4E3",
             "linecolor": "#C8D4E3",
             "minorgridcolor": "#C8D4E3",
             "startlinecolor": "#2a3f5f"
            },
            "baxis": {
             "endlinecolor": "#2a3f5f",
             "gridcolor": "#C8D4E3",
             "linecolor": "#C8D4E3",
             "minorgridcolor": "#C8D4E3",
             "startlinecolor": "#2a3f5f"
            },
            "type": "carpet"
           }
          ],
          "choropleth": [
           {
            "colorbar": {
             "outlinewidth": 0,
             "ticks": ""
            },
            "type": "choropleth"
           }
          ],
          "contour": [
           {
            "colorbar": {
             "outlinewidth": 0,
             "ticks": ""
            },
            "colorscale": [
             [
              0,
              "#0d0887"
             ],
             [
              0.1111111111111111,
              "#46039f"
             ],
             [
              0.2222222222222222,
              "#7201a8"
             ],
             [
              0.3333333333333333,
              "#9c179e"
             ],
             [
              0.4444444444444444,
              "#bd3786"
             ],
             [
              0.5555555555555556,
              "#d8576b"
             ],
             [
              0.6666666666666666,
              "#ed7953"
             ],
             [
              0.7777777777777778,
              "#fb9f3a"
             ],
             [
              0.8888888888888888,
              "#fdca26"
             ],
             [
              1,
              "#f0f921"
             ]
            ],
            "type": "contour"
           }
          ],
          "contourcarpet": [
           {
            "colorbar": {
             "outlinewidth": 0,
             "ticks": ""
            },
            "type": "contourcarpet"
           }
          ],
          "heatmap": [
           {
            "colorbar": {
             "outlinewidth": 0,
             "ticks": ""
            },
            "colorscale": [
             [
              0,
              "#0d0887"
             ],
             [
              0.1111111111111111,
              "#46039f"
             ],
             [
              0.2222222222222222,
              "#7201a8"
             ],
             [
              0.3333333333333333,
              "#9c179e"
             ],
             [
              0.4444444444444444,
              "#bd3786"
             ],
             [
              0.5555555555555556,
              "#d8576b"
             ],
             [
              0.6666666666666666,
              "#ed7953"
             ],
             [
              0.7777777777777778,
              "#fb9f3a"
             ],
             [
              0.8888888888888888,
              "#fdca26"
             ],
             [
              1,
              "#f0f921"
             ]
            ],
            "type": "heatmap"
           }
          ],
          "heatmapgl": [
           {
            "colorbar": {
             "outlinewidth": 0,
             "ticks": ""
            },
            "colorscale": [
             [
              0,
              "#0d0887"
             ],
             [
              0.1111111111111111,
              "#46039f"
             ],
             [
              0.2222222222222222,
              "#7201a8"
             ],
             [
              0.3333333333333333,
              "#9c179e"
             ],
             [
              0.4444444444444444,
              "#bd3786"
             ],
             [
              0.5555555555555556,
              "#d8576b"
             ],
             [
              0.6666666666666666,
              "#ed7953"
             ],
             [
              0.7777777777777778,
              "#fb9f3a"
             ],
             [
              0.8888888888888888,
              "#fdca26"
             ],
             [
              1,
              "#f0f921"
             ]
            ],
            "type": "heatmapgl"
           }
          ],
          "histogram": [
           {
            "marker": {
             "pattern": {
              "fillmode": "overlay",
              "size": 10,
              "solidity": 0.2
             }
            },
            "type": "histogram"
           }
          ],
          "histogram2d": [
           {
            "colorbar": {
             "outlinewidth": 0,
             "ticks": ""
            },
            "colorscale": [
             [
              0,
              "#0d0887"
             ],
             [
              0.1111111111111111,
              "#46039f"
             ],
             [
              0.2222222222222222,
              "#7201a8"
             ],
             [
              0.3333333333333333,
              "#9c179e"
             ],
             [
              0.4444444444444444,
              "#bd3786"
             ],
             [
              0.5555555555555556,
              "#d8576b"
             ],
             [
              0.6666666666666666,
              "#ed7953"
             ],
             [
              0.7777777777777778,
              "#fb9f3a"
             ],
             [
              0.8888888888888888,
              "#fdca26"
             ],
             [
              1,
              "#f0f921"
             ]
            ],
            "type": "histogram2d"
           }
          ],
          "histogram2dcontour": [
           {
            "colorbar": {
             "outlinewidth": 0,
             "ticks": ""
            },
            "colorscale": [
             [
              0,
              "#0d0887"
             ],
             [
              0.1111111111111111,
              "#46039f"
             ],
             [
              0.2222222222222222,
              "#7201a8"
             ],
             [
              0.3333333333333333,
              "#9c179e"
             ],
             [
              0.4444444444444444,
              "#bd3786"
             ],
             [
              0.5555555555555556,
              "#d8576b"
             ],
             [
              0.6666666666666666,
              "#ed7953"
             ],
             [
              0.7777777777777778,
              "#fb9f3a"
             ],
             [
              0.8888888888888888,
              "#fdca26"
             ],
             [
              1,
              "#f0f921"
             ]
            ],
            "type": "histogram2dcontour"
           }
          ],
          "mesh3d": [
           {
            "colorbar": {
             "outlinewidth": 0,
             "ticks": ""
            },
            "type": "mesh3d"
           }
          ],
          "parcoords": [
           {
            "line": {
             "colorbar": {
              "outlinewidth": 0,
              "ticks": ""
             }
            },
            "type": "parcoords"
           }
          ],
          "pie": [
           {
            "automargin": true,
            "type": "pie"
           }
          ],
          "scatter": [
           {
            "fillpattern": {
             "fillmode": "overlay",
             "size": 10,
             "solidity": 0.2
            },
            "type": "scatter"
           }
          ],
          "scatter3d": [
           {
            "line": {
             "colorbar": {
              "outlinewidth": 0,
              "ticks": ""
             }
            },
            "marker": {
             "colorbar": {
              "outlinewidth": 0,
              "ticks": ""
             }
            },
            "type": "scatter3d"
           }
          ],
          "scattercarpet": [
           {
            "marker": {
             "colorbar": {
              "outlinewidth": 0,
              "ticks": ""
             }
            },
            "type": "scattercarpet"
           }
          ],
          "scattergeo": [
           {
            "marker": {
             "colorbar": {
              "outlinewidth": 0,
              "ticks": ""
             }
            },
            "type": "scattergeo"
           }
          ],
          "scattergl": [
           {
            "marker": {
             "colorbar": {
              "outlinewidth": 0,
              "ticks": ""
             }
            },
            "type": "scattergl"
           }
          ],
          "scattermapbox": [
           {
            "marker": {
             "colorbar": {
              "outlinewidth": 0,
              "ticks": ""
             }
            },
            "type": "scattermapbox"
           }
          ],
          "scatterpolar": [
           {
            "marker": {
             "colorbar": {
              "outlinewidth": 0,
              "ticks": ""
             }
            },
            "type": "scatterpolar"
           }
          ],
          "scatterpolargl": [
           {
            "marker": {
             "colorbar": {
              "outlinewidth": 0,
              "ticks": ""
             }
            },
            "type": "scatterpolargl"
           }
          ],
          "scatterternary": [
           {
            "marker": {
             "colorbar": {
              "outlinewidth": 0,
              "ticks": ""
             }
            },
            "type": "scatterternary"
           }
          ],
          "surface": [
           {
            "colorbar": {
             "outlinewidth": 0,
             "ticks": ""
            },
            "colorscale": [
             [
              0,
              "#0d0887"
             ],
             [
              0.1111111111111111,
              "#46039f"
             ],
             [
              0.2222222222222222,
              "#7201a8"
             ],
             [
              0.3333333333333333,
              "#9c179e"
             ],
             [
              0.4444444444444444,
              "#bd3786"
             ],
             [
              0.5555555555555556,
              "#d8576b"
             ],
             [
              0.6666666666666666,
              "#ed7953"
             ],
             [
              0.7777777777777778,
              "#fb9f3a"
             ],
             [
              0.8888888888888888,
              "#fdca26"
             ],
             [
              1,
              "#f0f921"
             ]
            ],
            "type": "surface"
           }
          ],
          "table": [
           {
            "cells": {
             "fill": {
              "color": "#EBF0F8"
             },
             "line": {
              "color": "white"
             }
            },
            "header": {
             "fill": {
              "color": "#C8D4E3"
             },
             "line": {
              "color": "white"
             }
            },
            "type": "table"
           }
          ]
         },
         "layout": {
          "annotationdefaults": {
           "arrowcolor": "#2a3f5f",
           "arrowhead": 0,
           "arrowwidth": 1
          },
          "autotypenumbers": "strict",
          "coloraxis": {
           "colorbar": {
            "outlinewidth": 0,
            "ticks": ""
           }
          },
          "colorscale": {
           "diverging": [
            [
             0,
             "#8e0152"
            ],
            [
             0.1,
             "#c51b7d"
            ],
            [
             0.2,
             "#de77ae"
            ],
            [
             0.3,
             "#f1b6da"
            ],
            [
             0.4,
             "#fde0ef"
            ],
            [
             0.5,
             "#f7f7f7"
            ],
            [
             0.6,
             "#e6f5d0"
            ],
            [
             0.7,
             "#b8e186"
            ],
            [
             0.8,
             "#7fbc41"
            ],
            [
             0.9,
             "#4d9221"
            ],
            [
             1,
             "#276419"
            ]
           ],
           "sequential": [
            [
             0,
             "#0d0887"
            ],
            [
             0.1111111111111111,
             "#46039f"
            ],
            [
             0.2222222222222222,
             "#7201a8"
            ],
            [
             0.3333333333333333,
             "#9c179e"
            ],
            [
             0.4444444444444444,
             "#bd3786"
            ],
            [
             0.5555555555555556,
             "#d8576b"
            ],
            [
             0.6666666666666666,
             "#ed7953"
            ],
            [
             0.7777777777777778,
             "#fb9f3a"
            ],
            [
             0.8888888888888888,
             "#fdca26"
            ],
            [
             1,
             "#f0f921"
            ]
           ],
           "sequentialminus": [
            [
             0,
             "#0d0887"
            ],
            [
             0.1111111111111111,
             "#46039f"
            ],
            [
             0.2222222222222222,
             "#7201a8"
            ],
            [
             0.3333333333333333,
             "#9c179e"
            ],
            [
             0.4444444444444444,
             "#bd3786"
            ],
            [
             0.5555555555555556,
             "#d8576b"
            ],
            [
             0.6666666666666666,
             "#ed7953"
            ],
            [
             0.7777777777777778,
             "#fb9f3a"
            ],
            [
             0.8888888888888888,
             "#fdca26"
            ],
            [
             1,
             "#f0f921"
            ]
           ]
          },
          "colorway": [
           "#449aba",
           "#8fdff2",
           "#2a3337",
           "#0f5876",
           "#81b8bc",
           "#3d7d82",
           "#9c9c9c",
           "#04545a",
           "#5c5656"
          ],
          "font": {
           "color": "#2a3f5f"
          },
          "geo": {
           "bgcolor": "white",
           "lakecolor": "white",
           "landcolor": "white",
           "showlakes": true,
           "showland": true,
           "subunitcolor": "#C8D4E3"
          },
          "hoverlabel": {
           "align": "left"
          },
          "hovermode": "closest",
          "mapbox": {
           "style": "light"
          },
          "paper_bgcolor": "white",
          "plot_bgcolor": "white",
          "polar": {
           "angularaxis": {
            "gridcolor": "#EBF0F8",
            "linecolor": "#EBF0F8",
            "ticks": ""
           },
           "bgcolor": "white",
           "radialaxis": {
            "gridcolor": "#EBF0F8",
            "linecolor": "#EBF0F8",
            "ticks": ""
           }
          },
          "scene": {
           "xaxis": {
            "backgroundcolor": "white",
            "gridcolor": "#DFE8F3",
            "gridwidth": 2,
            "linecolor": "#EBF0F8",
            "showbackground": true,
            "ticks": "",
            "zerolinecolor": "#EBF0F8"
           },
           "yaxis": {
            "backgroundcolor": "white",
            "gridcolor": "#DFE8F3",
            "gridwidth": 2,
            "linecolor": "#EBF0F8",
            "showbackground": true,
            "ticks": "",
            "zerolinecolor": "#EBF0F8"
           },
           "zaxis": {
            "backgroundcolor": "white",
            "gridcolor": "#DFE8F3",
            "gridwidth": 2,
            "linecolor": "#EBF0F8",
            "showbackground": true,
            "ticks": "",
            "zerolinecolor": "#EBF0F8"
           }
          },
          "shapedefaults": {
           "line": {
            "color": "#2a3f5f"
           }
          },
          "ternary": {
           "aaxis": {
            "gridcolor": "#DFE8F3",
            "linecolor": "#A2B1C6",
            "ticks": ""
           },
           "baxis": {
            "gridcolor": "#DFE8F3",
            "linecolor": "#A2B1C6",
            "ticks": ""
           },
           "bgcolor": "white",
           "caxis": {
            "gridcolor": "#DFE8F3",
            "linecolor": "#A2B1C6",
            "ticks": ""
           }
          },
          "title": {
           "x": 0.05
          },
          "xaxis": {
           "automargin": true,
           "gridcolor": "#EBF0F8",
           "linecolor": "#EBF0F8",
           "ticks": "",
           "title": {
            "standoff": 15
           },
           "zerolinecolor": "#EBF0F8",
           "zerolinewidth": 2
          },
          "yaxis": {
           "automargin": true,
           "gridcolor": "#EBF0F8",
           "linecolor": "#EBF0F8",
           "ticks": "",
           "title": {
            "standoff": 15
           },
           "zerolinecolor": "#EBF0F8",
           "zerolinewidth": 2
          }
         }
        }
       }
      }
     },
     "metadata": {},
     "output_type": "display_data"
    }
   ],
   "source": [
    "row_names = [\"Net Flows\",  \"Cumulative Equity Balance\"]\n",
    "\n",
    "traces = []\n",
    "for ix, rn in enumerate(row_names):\n",
    "    traces.append(go.Bar(name=rn,x=gm.columns, y=gm.loc[rn]*1 ))\n",
    "\n",
    "\n",
    "\n",
    "fig = go.Figure(data=traces)\n",
    "# Change the bar mode\n",
    "# fig.update_layout(barmode='relative')\n",
    "fig.show()"
   ]
  },
  {
   "cell_type": "code",
   "execution_count": 149,
   "metadata": {},
   "outputs": [
    {
     "data": {
      "application/vnd.plotly.v1+json": {
       "config": {
        "plotlyServerURL": "https://plotly.com"
       },
       "data": [
        {
         "name": "Operating Income",
         "type": "bar",
         "x": [
          "2023-07-01T00:00:00",
          "2024-07-01T00:00:00",
          "2025-07-01T00:00:00",
          "2026-07-01T00:00:00",
          "2027-07-01T00:00:00",
          "2028-07-01T00:00:00",
          "2029-07-01T00:00:00",
          "2030-07-01T00:00:00",
          "2031-07-01T00:00:00",
          "2032-07-01T00:00:00",
          "2033-07-01T00:00:00",
          "2034-07-01T00:00:00",
          "2035-07-01T00:00:00",
          "2036-07-01T00:00:00",
          "2037-07-01T00:00:00",
          "2038-07-01T00:00:00",
          "2039-07-01T00:00:00",
          "2040-07-01T00:00:00",
          "2041-07-01T00:00:00",
          "2042-07-01T00:00:00",
          "2043-07-01T00:00:00",
          "2044-07-01T00:00:00",
          "2045-07-01T00:00:00"
         ],
         "y": [
          null,
          null,
          70284400,
          70425931.99999999,
          70562605.65999998,
          70694257.53829996,
          71945719.89724144,
          70941820.5947589,
          71057382.97321472,
          71167225.74544986,
          71271162.87798041,
          72494003.4712687,
          69770840.03865668,
          69813651.98396331,
          69848708.18262425,
          69875770.61074707,
          71019595.07319075,
          69904931.04818135,
          69906521.52803758,
          69899102.85590845,
          69882404.55842441,
          70981149.1741589,
          null
         ]
        },
        {
         "name": "Loan Draw",
         "type": "bar",
         "x": [
          "2023-07-01T00:00:00",
          "2024-07-01T00:00:00",
          "2025-07-01T00:00:00",
          "2026-07-01T00:00:00",
          "2027-07-01T00:00:00",
          "2028-07-01T00:00:00",
          "2029-07-01T00:00:00",
          "2030-07-01T00:00:00",
          "2031-07-01T00:00:00",
          "2032-07-01T00:00:00",
          "2033-07-01T00:00:00",
          "2034-07-01T00:00:00",
          "2035-07-01T00:00:00",
          "2036-07-01T00:00:00",
          "2037-07-01T00:00:00",
          "2038-07-01T00:00:00",
          "2039-07-01T00:00:00",
          "2040-07-01T00:00:00",
          "2041-07-01T00:00:00",
          "2042-07-01T00:00:00",
          "2043-07-01T00:00:00",
          "2044-07-01T00:00:00",
          "2045-07-01T00:00:00"
         ],
         "y": [
          550062792,
          0,
          0,
          0,
          0,
          0,
          0,
          0,
          0,
          0,
          0,
          0,
          0,
          0,
          0,
          0,
          0,
          0,
          0,
          0,
          0,
          0,
          0
         ]
        },
        {
         "name": "Equity Draw",
         "type": "bar",
         "x": [
          "2023-07-01T00:00:00",
          "2024-07-01T00:00:00",
          "2025-07-01T00:00:00",
          "2026-07-01T00:00:00",
          "2027-07-01T00:00:00",
          "2028-07-01T00:00:00",
          "2029-07-01T00:00:00",
          "2030-07-01T00:00:00",
          "2031-07-01T00:00:00",
          "2032-07-01T00:00:00",
          "2033-07-01T00:00:00",
          "2034-07-01T00:00:00",
          "2035-07-01T00:00:00",
          "2036-07-01T00:00:00",
          "2037-07-01T00:00:00",
          "2038-07-01T00:00:00",
          "2039-07-01T00:00:00",
          "2040-07-01T00:00:00",
          "2041-07-01T00:00:00",
          "2042-07-01T00:00:00",
          "2043-07-01T00:00:00",
          "2044-07-01T00:00:00",
          "2045-07-01T00:00:00"
         ],
         "y": [
          null,
          -116546208,
          null,
          null,
          null,
          null,
          null,
          null,
          null,
          null,
          null,
          null,
          null,
          null,
          null,
          null,
          null,
          null,
          null,
          null,
          null,
          null,
          null
         ]
        },
        {
         "name": "Final Escrow Recovery",
         "type": "bar",
         "x": [
          "2023-07-01T00:00:00",
          "2024-07-01T00:00:00",
          "2025-07-01T00:00:00",
          "2026-07-01T00:00:00",
          "2027-07-01T00:00:00",
          "2028-07-01T00:00:00",
          "2029-07-01T00:00:00",
          "2030-07-01T00:00:00",
          "2031-07-01T00:00:00",
          "2032-07-01T00:00:00",
          "2033-07-01T00:00:00",
          "2034-07-01T00:00:00",
          "2035-07-01T00:00:00",
          "2036-07-01T00:00:00",
          "2037-07-01T00:00:00",
          "2038-07-01T00:00:00",
          "2039-07-01T00:00:00",
          "2040-07-01T00:00:00",
          "2041-07-01T00:00:00",
          "2042-07-01T00:00:00",
          "2043-07-01T00:00:00",
          "2044-07-01T00:00:00",
          "2045-07-01T00:00:00"
         ],
         "y": [
          null,
          null,
          null,
          null,
          null,
          null,
          null,
          null,
          null,
          null,
          null,
          null,
          null,
          null,
          null,
          null,
          null,
          null,
          null,
          null,
          null,
          null,
          -18000000
         ]
        },
        {
         "name": "Project Cost",
         "type": "bar",
         "x": [
          "2023-07-01T00:00:00",
          "2024-07-01T00:00:00",
          "2025-07-01T00:00:00",
          "2026-07-01T00:00:00",
          "2027-07-01T00:00:00",
          "2028-07-01T00:00:00",
          "2029-07-01T00:00:00",
          "2030-07-01T00:00:00",
          "2031-07-01T00:00:00",
          "2032-07-01T00:00:00",
          "2033-07-01T00:00:00",
          "2034-07-01T00:00:00",
          "2035-07-01T00:00:00",
          "2036-07-01T00:00:00",
          "2037-07-01T00:00:00",
          "2038-07-01T00:00:00",
          "2039-07-01T00:00:00",
          "2040-07-01T00:00:00",
          "2041-07-01T00:00:00",
          "2042-07-01T00:00:00",
          "2043-07-01T00:00:00",
          "2044-07-01T00:00:00",
          "2045-07-01T00:00:00"
         ],
         "y": [
          -384277500,
          -282331500,
          null,
          null,
          null,
          null,
          null,
          null,
          null,
          null,
          null,
          null,
          null,
          null,
          null,
          null,
          null,
          null,
          null,
          null,
          null,
          null,
          null
         ]
        },
        {
         "name": "Principal Payment",
         "type": "bar",
         "x": [
          "2023-07-01T00:00:00",
          "2024-07-01T00:00:00",
          "2025-07-01T00:00:00",
          "2026-07-01T00:00:00",
          "2027-07-01T00:00:00",
          "2028-07-01T00:00:00",
          "2029-07-01T00:00:00",
          "2030-07-01T00:00:00",
          "2031-07-01T00:00:00",
          "2032-07-01T00:00:00",
          "2033-07-01T00:00:00",
          "2034-07-01T00:00:00",
          "2035-07-01T00:00:00",
          "2036-07-01T00:00:00",
          "2037-07-01T00:00:00",
          "2038-07-01T00:00:00",
          "2039-07-01T00:00:00",
          "2040-07-01T00:00:00",
          "2041-07-01T00:00:00",
          "2042-07-01T00:00:00",
          "2043-07-01T00:00:00",
          "2044-07-01T00:00:00",
          "2045-07-01T00:00:00"
         ],
         "y": [
          0,
          0,
          -11500000,
          -13594494,
          -14544335,
          -15906984,
          -16823430,
          -18940697,
          -19040508,
          -21934378,
          -22315288,
          -23814468,
          -24022852,
          -26080217,
          -26806415,
          -28936670,
          -29796834,
          -32562191,
          -33480523,
          -36617291,
          -37715560,
          -20629657,
          0
         ]
        },
        {
         "name": "Interest Payment",
         "type": "bar",
         "x": [
          "2023-07-01T00:00:00",
          "2024-07-01T00:00:00",
          "2025-07-01T00:00:00",
          "2026-07-01T00:00:00",
          "2027-07-01T00:00:00",
          "2028-07-01T00:00:00",
          "2029-07-01T00:00:00",
          "2030-07-01T00:00:00",
          "2031-07-01T00:00:00",
          "2032-07-01T00:00:00",
          "2033-07-01T00:00:00",
          "2034-07-01T00:00:00",
          "2035-07-01T00:00:00",
          "2036-07-01T00:00:00",
          "2037-07-01T00:00:00",
          "2038-07-01T00:00:00",
          "2039-07-01T00:00:00",
          "2040-07-01T00:00:00",
          "2041-07-01T00:00:00",
          "2042-07-01T00:00:00",
          "2043-07-01T00:00:00",
          "2044-07-01T00:00:00",
          "2045-07-01T00:00:00"
         ],
         "y": [
          0,
          -16500000,
          -38122500,
          -31766250,
          -36110000,
          -29894750,
          -33982500,
          -27914900,
          -31303000,
          -25974450,
          -28773000,
          -23098250,
          -25185000,
          -19897000,
          -21792500,
          -17207950,
          -18204500,
          -13553600,
          -13075500,
          -9554500,
          -8211000,
          -2354150,
          0
         ]
        }
       ],
       "layout": {
        "barmode": "relative",
        "template": {
         "data": {
          "bar": [
           {
            "error_x": {
             "color": "#2a3f5f"
            },
            "error_y": {
             "color": "#2a3f5f"
            },
            "marker": {
             "line": {
              "color": "white",
              "width": 0.5
             },
             "pattern": {
              "fillmode": "overlay",
              "size": 10,
              "solidity": 0.2
             }
            },
            "type": "bar"
           }
          ],
          "barpolar": [
           {
            "marker": {
             "line": {
              "color": "white",
              "width": 0.5
             },
             "pattern": {
              "fillmode": "overlay",
              "size": 10,
              "solidity": 0.2
             }
            },
            "type": "barpolar"
           }
          ],
          "carpet": [
           {
            "aaxis": {
             "endlinecolor": "#2a3f5f",
             "gridcolor": "#C8D4E3",
             "linecolor": "#C8D4E3",
             "minorgridcolor": "#C8D4E3",
             "startlinecolor": "#2a3f5f"
            },
            "baxis": {
             "endlinecolor": "#2a3f5f",
             "gridcolor": "#C8D4E3",
             "linecolor": "#C8D4E3",
             "minorgridcolor": "#C8D4E3",
             "startlinecolor": "#2a3f5f"
            },
            "type": "carpet"
           }
          ],
          "choropleth": [
           {
            "colorbar": {
             "outlinewidth": 0,
             "ticks": ""
            },
            "type": "choropleth"
           }
          ],
          "contour": [
           {
            "colorbar": {
             "outlinewidth": 0,
             "ticks": ""
            },
            "colorscale": [
             [
              0,
              "#0d0887"
             ],
             [
              0.1111111111111111,
              "#46039f"
             ],
             [
              0.2222222222222222,
              "#7201a8"
             ],
             [
              0.3333333333333333,
              "#9c179e"
             ],
             [
              0.4444444444444444,
              "#bd3786"
             ],
             [
              0.5555555555555556,
              "#d8576b"
             ],
             [
              0.6666666666666666,
              "#ed7953"
             ],
             [
              0.7777777777777778,
              "#fb9f3a"
             ],
             [
              0.8888888888888888,
              "#fdca26"
             ],
             [
              1,
              "#f0f921"
             ]
            ],
            "type": "contour"
           }
          ],
          "contourcarpet": [
           {
            "colorbar": {
             "outlinewidth": 0,
             "ticks": ""
            },
            "type": "contourcarpet"
           }
          ],
          "heatmap": [
           {
            "colorbar": {
             "outlinewidth": 0,
             "ticks": ""
            },
            "colorscale": [
             [
              0,
              "#0d0887"
             ],
             [
              0.1111111111111111,
              "#46039f"
             ],
             [
              0.2222222222222222,
              "#7201a8"
             ],
             [
              0.3333333333333333,
              "#9c179e"
             ],
             [
              0.4444444444444444,
              "#bd3786"
             ],
             [
              0.5555555555555556,
              "#d8576b"
             ],
             [
              0.6666666666666666,
              "#ed7953"
             ],
             [
              0.7777777777777778,
              "#fb9f3a"
             ],
             [
              0.8888888888888888,
              "#fdca26"
             ],
             [
              1,
              "#f0f921"
             ]
            ],
            "type": "heatmap"
           }
          ],
          "heatmapgl": [
           {
            "colorbar": {
             "outlinewidth": 0,
             "ticks": ""
            },
            "colorscale": [
             [
              0,
              "#0d0887"
             ],
             [
              0.1111111111111111,
              "#46039f"
             ],
             [
              0.2222222222222222,
              "#7201a8"
             ],
             [
              0.3333333333333333,
              "#9c179e"
             ],
             [
              0.4444444444444444,
              "#bd3786"
             ],
             [
              0.5555555555555556,
              "#d8576b"
             ],
             [
              0.6666666666666666,
              "#ed7953"
             ],
             [
              0.7777777777777778,
              "#fb9f3a"
             ],
             [
              0.8888888888888888,
              "#fdca26"
             ],
             [
              1,
              "#f0f921"
             ]
            ],
            "type": "heatmapgl"
           }
          ],
          "histogram": [
           {
            "marker": {
             "pattern": {
              "fillmode": "overlay",
              "size": 10,
              "solidity": 0.2
             }
            },
            "type": "histogram"
           }
          ],
          "histogram2d": [
           {
            "colorbar": {
             "outlinewidth": 0,
             "ticks": ""
            },
            "colorscale": [
             [
              0,
              "#0d0887"
             ],
             [
              0.1111111111111111,
              "#46039f"
             ],
             [
              0.2222222222222222,
              "#7201a8"
             ],
             [
              0.3333333333333333,
              "#9c179e"
             ],
             [
              0.4444444444444444,
              "#bd3786"
             ],
             [
              0.5555555555555556,
              "#d8576b"
             ],
             [
              0.6666666666666666,
              "#ed7953"
             ],
             [
              0.7777777777777778,
              "#fb9f3a"
             ],
             [
              0.8888888888888888,
              "#fdca26"
             ],
             [
              1,
              "#f0f921"
             ]
            ],
            "type": "histogram2d"
           }
          ],
          "histogram2dcontour": [
           {
            "colorbar": {
             "outlinewidth": 0,
             "ticks": ""
            },
            "colorscale": [
             [
              0,
              "#0d0887"
             ],
             [
              0.1111111111111111,
              "#46039f"
             ],
             [
              0.2222222222222222,
              "#7201a8"
             ],
             [
              0.3333333333333333,
              "#9c179e"
             ],
             [
              0.4444444444444444,
              "#bd3786"
             ],
             [
              0.5555555555555556,
              "#d8576b"
             ],
             [
              0.6666666666666666,
              "#ed7953"
             ],
             [
              0.7777777777777778,
              "#fb9f3a"
             ],
             [
              0.8888888888888888,
              "#fdca26"
             ],
             [
              1,
              "#f0f921"
             ]
            ],
            "type": "histogram2dcontour"
           }
          ],
          "mesh3d": [
           {
            "colorbar": {
             "outlinewidth": 0,
             "ticks": ""
            },
            "type": "mesh3d"
           }
          ],
          "parcoords": [
           {
            "line": {
             "colorbar": {
              "outlinewidth": 0,
              "ticks": ""
             }
            },
            "type": "parcoords"
           }
          ],
          "pie": [
           {
            "automargin": true,
            "type": "pie"
           }
          ],
          "scatter": [
           {
            "fillpattern": {
             "fillmode": "overlay",
             "size": 10,
             "solidity": 0.2
            },
            "type": "scatter"
           }
          ],
          "scatter3d": [
           {
            "line": {
             "colorbar": {
              "outlinewidth": 0,
              "ticks": ""
             }
            },
            "marker": {
             "colorbar": {
              "outlinewidth": 0,
              "ticks": ""
             }
            },
            "type": "scatter3d"
           }
          ],
          "scattercarpet": [
           {
            "marker": {
             "colorbar": {
              "outlinewidth": 0,
              "ticks": ""
             }
            },
            "type": "scattercarpet"
           }
          ],
          "scattergeo": [
           {
            "marker": {
             "colorbar": {
              "outlinewidth": 0,
              "ticks": ""
             }
            },
            "type": "scattergeo"
           }
          ],
          "scattergl": [
           {
            "marker": {
             "colorbar": {
              "outlinewidth": 0,
              "ticks": ""
             }
            },
            "type": "scattergl"
           }
          ],
          "scattermapbox": [
           {
            "marker": {
             "colorbar": {
              "outlinewidth": 0,
              "ticks": ""
             }
            },
            "type": "scattermapbox"
           }
          ],
          "scatterpolar": [
           {
            "marker": {
             "colorbar": {
              "outlinewidth": 0,
              "ticks": ""
             }
            },
            "type": "scatterpolar"
           }
          ],
          "scatterpolargl": [
           {
            "marker": {
             "colorbar": {
              "outlinewidth": 0,
              "ticks": ""
             }
            },
            "type": "scatterpolargl"
           }
          ],
          "scatterternary": [
           {
            "marker": {
             "colorbar": {
              "outlinewidth": 0,
              "ticks": ""
             }
            },
            "type": "scatterternary"
           }
          ],
          "surface": [
           {
            "colorbar": {
             "outlinewidth": 0,
             "ticks": ""
            },
            "colorscale": [
             [
              0,
              "#0d0887"
             ],
             [
              0.1111111111111111,
              "#46039f"
             ],
             [
              0.2222222222222222,
              "#7201a8"
             ],
             [
              0.3333333333333333,
              "#9c179e"
             ],
             [
              0.4444444444444444,
              "#bd3786"
             ],
             [
              0.5555555555555556,
              "#d8576b"
             ],
             [
              0.6666666666666666,
              "#ed7953"
             ],
             [
              0.7777777777777778,
              "#fb9f3a"
             ],
             [
              0.8888888888888888,
              "#fdca26"
             ],
             [
              1,
              "#f0f921"
             ]
            ],
            "type": "surface"
           }
          ],
          "table": [
           {
            "cells": {
             "fill": {
              "color": "#EBF0F8"
             },
             "line": {
              "color": "white"
             }
            },
            "header": {
             "fill": {
              "color": "#C8D4E3"
             },
             "line": {
              "color": "white"
             }
            },
            "type": "table"
           }
          ]
         },
         "layout": {
          "annotationdefaults": {
           "arrowcolor": "#2a3f5f",
           "arrowhead": 0,
           "arrowwidth": 1
          },
          "autotypenumbers": "strict",
          "coloraxis": {
           "colorbar": {
            "outlinewidth": 0,
            "ticks": ""
           }
          },
          "colorscale": {
           "diverging": [
            [
             0,
             "#8e0152"
            ],
            [
             0.1,
             "#c51b7d"
            ],
            [
             0.2,
             "#de77ae"
            ],
            [
             0.3,
             "#f1b6da"
            ],
            [
             0.4,
             "#fde0ef"
            ],
            [
             0.5,
             "#f7f7f7"
            ],
            [
             0.6,
             "#e6f5d0"
            ],
            [
             0.7,
             "#b8e186"
            ],
            [
             0.8,
             "#7fbc41"
            ],
            [
             0.9,
             "#4d9221"
            ],
            [
             1,
             "#276419"
            ]
           ],
           "sequential": [
            [
             0,
             "#0d0887"
            ],
            [
             0.1111111111111111,
             "#46039f"
            ],
            [
             0.2222222222222222,
             "#7201a8"
            ],
            [
             0.3333333333333333,
             "#9c179e"
            ],
            [
             0.4444444444444444,
             "#bd3786"
            ],
            [
             0.5555555555555556,
             "#d8576b"
            ],
            [
             0.6666666666666666,
             "#ed7953"
            ],
            [
             0.7777777777777778,
             "#fb9f3a"
            ],
            [
             0.8888888888888888,
             "#fdca26"
            ],
            [
             1,
             "#f0f921"
            ]
           ],
           "sequentialminus": [
            [
             0,
             "#0d0887"
            ],
            [
             0.1111111111111111,
             "#46039f"
            ],
            [
             0.2222222222222222,
             "#7201a8"
            ],
            [
             0.3333333333333333,
             "#9c179e"
            ],
            [
             0.4444444444444444,
             "#bd3786"
            ],
            [
             0.5555555555555556,
             "#d8576b"
            ],
            [
             0.6666666666666666,
             "#ed7953"
            ],
            [
             0.7777777777777778,
             "#fb9f3a"
            ],
            [
             0.8888888888888888,
             "#fdca26"
            ],
            [
             1,
             "#f0f921"
            ]
           ]
          },
          "colorway": [
           "#449aba",
           "#8fdff2",
           "#2a3337",
           "#0f5876",
           "#81b8bc",
           "#3d7d82",
           "#9c9c9c",
           "#04545a",
           "#5c5656"
          ],
          "font": {
           "color": "#2a3f5f"
          },
          "geo": {
           "bgcolor": "white",
           "lakecolor": "white",
           "landcolor": "white",
           "showlakes": true,
           "showland": true,
           "subunitcolor": "#C8D4E3"
          },
          "hoverlabel": {
           "align": "left"
          },
          "hovermode": "closest",
          "mapbox": {
           "style": "light"
          },
          "paper_bgcolor": "white",
          "plot_bgcolor": "white",
          "polar": {
           "angularaxis": {
            "gridcolor": "#EBF0F8",
            "linecolor": "#EBF0F8",
            "ticks": ""
           },
           "bgcolor": "white",
           "radialaxis": {
            "gridcolor": "#EBF0F8",
            "linecolor": "#EBF0F8",
            "ticks": ""
           }
          },
          "scene": {
           "xaxis": {
            "backgroundcolor": "white",
            "gridcolor": "#DFE8F3",
            "gridwidth": 2,
            "linecolor": "#EBF0F8",
            "showbackground": true,
            "ticks": "",
            "zerolinecolor": "#EBF0F8"
           },
           "yaxis": {
            "backgroundcolor": "white",
            "gridcolor": "#DFE8F3",
            "gridwidth": 2,
            "linecolor": "#EBF0F8",
            "showbackground": true,
            "ticks": "",
            "zerolinecolor": "#EBF0F8"
           },
           "zaxis": {
            "backgroundcolor": "white",
            "gridcolor": "#DFE8F3",
            "gridwidth": 2,
            "linecolor": "#EBF0F8",
            "showbackground": true,
            "ticks": "",
            "zerolinecolor": "#EBF0F8"
           }
          },
          "shapedefaults": {
           "line": {
            "color": "#2a3f5f"
           }
          },
          "ternary": {
           "aaxis": {
            "gridcolor": "#DFE8F3",
            "linecolor": "#A2B1C6",
            "ticks": ""
           },
           "baxis": {
            "gridcolor": "#DFE8F3",
            "linecolor": "#A2B1C6",
            "ticks": ""
           },
           "bgcolor": "white",
           "caxis": {
            "gridcolor": "#DFE8F3",
            "linecolor": "#A2B1C6",
            "ticks": ""
           }
          },
          "title": {
           "x": 0.05
          },
          "xaxis": {
           "automargin": true,
           "gridcolor": "#EBF0F8",
           "linecolor": "#EBF0F8",
           "ticks": "",
           "title": {
            "standoff": 15
           },
           "zerolinecolor": "#EBF0F8",
           "zerolinewidth": 2
          },
          "yaxis": {
           "automargin": true,
           "gridcolor": "#EBF0F8",
           "linecolor": "#EBF0F8",
           "ticks": "",
           "title": {
            "standoff": 15
           },
           "zerolinecolor": "#EBF0F8",
           "zerolinewidth": 2
          }
         }
        }
       }
      }
     },
     "metadata": {},
     "output_type": "display_data"
    }
   ],
   "source": [
    "row_names = [\"Operating Income\",  \"Loan Draw\", \"Equity Draw\", \"Final Escrow Recovery\", \"Project Cost\", \"Principal Payment\", \"Interest Payment\"]\n",
    "\n",
    "traces = []\n",
    "for ix, rn in enumerate(row_names):\n",
    "    if ix < 3:\n",
    "        traces.append(go.Bar(name=rn,x=gm.columns, y=gm.loc[rn]*1 ))\n",
    "    else:\n",
    "        traces.append(go.Bar(name=rn,x=gm.columns, y=gm.loc[rn]*-1 ))\n",
    "\n",
    "\n",
    "\n",
    "fig = go.Figure(data=traces)\n",
    "# Change the bar mode\n",
    "fig.update_layout(barmode='relative')\n",
    "fig.show()"
   ]
  },
  {
   "cell_type": "code",
   "execution_count": 155,
   "metadata": {},
   "outputs": [
    {
     "data": {
      "application/vnd.plotly.v1+json": {
       "config": {
        "plotlyServerURL": "https://plotly.com"
       },
       "data": [
        {
         "name": "Operating Income",
         "type": "bar",
         "x": [
          "2025-07-01T00:00:00",
          "2026-07-01T00:00:00",
          "2027-07-01T00:00:00",
          "2028-07-01T00:00:00",
          "2029-07-01T00:00:00",
          "2030-07-01T00:00:00",
          "2031-07-01T00:00:00",
          "2032-07-01T00:00:00",
          "2033-07-01T00:00:00",
          "2034-07-01T00:00:00",
          "2035-07-01T00:00:00",
          "2036-07-01T00:00:00",
          "2037-07-01T00:00:00",
          "2038-07-01T00:00:00",
          "2039-07-01T00:00:00",
          "2040-07-01T00:00:00",
          "2041-07-01T00:00:00",
          "2042-07-01T00:00:00",
          "2043-07-01T00:00:00",
          "2044-07-01T00:00:00",
          "2045-07-01T00:00:00"
         ],
         "y": [
          70284400,
          70425931.99999999,
          70562605.65999998,
          70694257.53829996,
          71945719.89724144,
          70941820.5947589,
          71057382.97321472,
          71167225.74544986,
          71271162.87798041,
          72494003.4712687,
          69770840.03865668,
          69813651.98396331,
          69848708.18262425,
          69875770.61074707,
          71019595.07319075,
          69904931.04818135,
          69906521.52803758,
          69899102.85590845,
          69882404.55842441,
          70981149.1741589,
          null
         ]
        },
        {
         "name": "Loan Draw",
         "type": "bar",
         "x": [
          "2025-07-01T00:00:00",
          "2026-07-01T00:00:00",
          "2027-07-01T00:00:00",
          "2028-07-01T00:00:00",
          "2029-07-01T00:00:00",
          "2030-07-01T00:00:00",
          "2031-07-01T00:00:00",
          "2032-07-01T00:00:00",
          "2033-07-01T00:00:00",
          "2034-07-01T00:00:00",
          "2035-07-01T00:00:00",
          "2036-07-01T00:00:00",
          "2037-07-01T00:00:00",
          "2038-07-01T00:00:00",
          "2039-07-01T00:00:00",
          "2040-07-01T00:00:00",
          "2041-07-01T00:00:00",
          "2042-07-01T00:00:00",
          "2043-07-01T00:00:00",
          "2044-07-01T00:00:00",
          "2045-07-01T00:00:00"
         ],
         "y": [
          0,
          0,
          0,
          0,
          0,
          0,
          0,
          0,
          0,
          0,
          0,
          0,
          0,
          0,
          0,
          0,
          0,
          0,
          0,
          0,
          0
         ]
        },
        {
         "name": "Equity Draw",
         "type": "bar",
         "x": [
          "2025-07-01T00:00:00",
          "2026-07-01T00:00:00",
          "2027-07-01T00:00:00",
          "2028-07-01T00:00:00",
          "2029-07-01T00:00:00",
          "2030-07-01T00:00:00",
          "2031-07-01T00:00:00",
          "2032-07-01T00:00:00",
          "2033-07-01T00:00:00",
          "2034-07-01T00:00:00",
          "2035-07-01T00:00:00",
          "2036-07-01T00:00:00",
          "2037-07-01T00:00:00",
          "2038-07-01T00:00:00",
          "2039-07-01T00:00:00",
          "2040-07-01T00:00:00",
          "2041-07-01T00:00:00",
          "2042-07-01T00:00:00",
          "2043-07-01T00:00:00",
          "2044-07-01T00:00:00",
          "2045-07-01T00:00:00"
         ],
         "y": [
          null,
          null,
          null,
          null,
          null,
          null,
          null,
          null,
          null,
          null,
          null,
          null,
          null,
          null,
          null,
          null,
          null,
          null,
          null,
          null,
          null
         ]
        },
        {
         "name": "Final Escrow Recovery",
         "type": "bar",
         "x": [
          "2025-07-01T00:00:00",
          "2026-07-01T00:00:00",
          "2027-07-01T00:00:00",
          "2028-07-01T00:00:00",
          "2029-07-01T00:00:00",
          "2030-07-01T00:00:00",
          "2031-07-01T00:00:00",
          "2032-07-01T00:00:00",
          "2033-07-01T00:00:00",
          "2034-07-01T00:00:00",
          "2035-07-01T00:00:00",
          "2036-07-01T00:00:00",
          "2037-07-01T00:00:00",
          "2038-07-01T00:00:00",
          "2039-07-01T00:00:00",
          "2040-07-01T00:00:00",
          "2041-07-01T00:00:00",
          "2042-07-01T00:00:00",
          "2043-07-01T00:00:00",
          "2044-07-01T00:00:00",
          "2045-07-01T00:00:00"
         ],
         "y": [
          null,
          null,
          null,
          null,
          null,
          null,
          null,
          null,
          null,
          null,
          null,
          null,
          null,
          null,
          null,
          null,
          null,
          null,
          null,
          null,
          18000000
         ]
        },
        {
         "name": "Project Cost",
         "type": "bar",
         "x": [
          "2025-07-01T00:00:00",
          "2026-07-01T00:00:00",
          "2027-07-01T00:00:00",
          "2028-07-01T00:00:00",
          "2029-07-01T00:00:00",
          "2030-07-01T00:00:00",
          "2031-07-01T00:00:00",
          "2032-07-01T00:00:00",
          "2033-07-01T00:00:00",
          "2034-07-01T00:00:00",
          "2035-07-01T00:00:00",
          "2036-07-01T00:00:00",
          "2037-07-01T00:00:00",
          "2038-07-01T00:00:00",
          "2039-07-01T00:00:00",
          "2040-07-01T00:00:00",
          "2041-07-01T00:00:00",
          "2042-07-01T00:00:00",
          "2043-07-01T00:00:00",
          "2044-07-01T00:00:00",
          "2045-07-01T00:00:00"
         ],
         "y": [
          null,
          null,
          null,
          null,
          null,
          null,
          null,
          null,
          null,
          null,
          null,
          null,
          null,
          null,
          null,
          null,
          null,
          null,
          null,
          null,
          null
         ]
        },
        {
         "name": "Principal Payment",
         "type": "bar",
         "x": [
          "2025-07-01T00:00:00",
          "2026-07-01T00:00:00",
          "2027-07-01T00:00:00",
          "2028-07-01T00:00:00",
          "2029-07-01T00:00:00",
          "2030-07-01T00:00:00",
          "2031-07-01T00:00:00",
          "2032-07-01T00:00:00",
          "2033-07-01T00:00:00",
          "2034-07-01T00:00:00",
          "2035-07-01T00:00:00",
          "2036-07-01T00:00:00",
          "2037-07-01T00:00:00",
          "2038-07-01T00:00:00",
          "2039-07-01T00:00:00",
          "2040-07-01T00:00:00",
          "2041-07-01T00:00:00",
          "2042-07-01T00:00:00",
          "2043-07-01T00:00:00",
          "2044-07-01T00:00:00",
          "2045-07-01T00:00:00"
         ],
         "y": [
          -11500000,
          -13594494,
          -14544335,
          -15906984,
          -16823430,
          -18940697,
          -19040508,
          -21934378,
          -22315288,
          -23814468,
          -24022852,
          -26080217,
          -26806415,
          -28936670,
          -29796834,
          -32562191,
          -33480523,
          -36617291,
          -37715560,
          -20629657,
          0
         ]
        },
        {
         "name": "Interest Payment",
         "type": "bar",
         "x": [
          "2025-07-01T00:00:00",
          "2026-07-01T00:00:00",
          "2027-07-01T00:00:00",
          "2028-07-01T00:00:00",
          "2029-07-01T00:00:00",
          "2030-07-01T00:00:00",
          "2031-07-01T00:00:00",
          "2032-07-01T00:00:00",
          "2033-07-01T00:00:00",
          "2034-07-01T00:00:00",
          "2035-07-01T00:00:00",
          "2036-07-01T00:00:00",
          "2037-07-01T00:00:00",
          "2038-07-01T00:00:00",
          "2039-07-01T00:00:00",
          "2040-07-01T00:00:00",
          "2041-07-01T00:00:00",
          "2042-07-01T00:00:00",
          "2043-07-01T00:00:00",
          "2044-07-01T00:00:00",
          "2045-07-01T00:00:00"
         ],
         "y": [
          -38122500,
          -31766250,
          -36110000,
          -29894750,
          -33982500,
          -27914900,
          -31303000,
          -25974450,
          -28773000,
          -23098250,
          -25185000,
          -19897000,
          -21792500,
          -17207950,
          -18204500,
          -13553600,
          -13075500,
          -9554500,
          -8211000,
          -2354150,
          0
         ]
        }
       ],
       "layout": {
        "barmode": "relative",
        "template": {
         "data": {
          "bar": [
           {
            "error_x": {
             "color": "#2a3f5f"
            },
            "error_y": {
             "color": "#2a3f5f"
            },
            "marker": {
             "line": {
              "color": "white",
              "width": 0.5
             },
             "pattern": {
              "fillmode": "overlay",
              "size": 10,
              "solidity": 0.2
             }
            },
            "type": "bar"
           }
          ],
          "barpolar": [
           {
            "marker": {
             "line": {
              "color": "white",
              "width": 0.5
             },
             "pattern": {
              "fillmode": "overlay",
              "size": 10,
              "solidity": 0.2
             }
            },
            "type": "barpolar"
           }
          ],
          "carpet": [
           {
            "aaxis": {
             "endlinecolor": "#2a3f5f",
             "gridcolor": "#C8D4E3",
             "linecolor": "#C8D4E3",
             "minorgridcolor": "#C8D4E3",
             "startlinecolor": "#2a3f5f"
            },
            "baxis": {
             "endlinecolor": "#2a3f5f",
             "gridcolor": "#C8D4E3",
             "linecolor": "#C8D4E3",
             "minorgridcolor": "#C8D4E3",
             "startlinecolor": "#2a3f5f"
            },
            "type": "carpet"
           }
          ],
          "choropleth": [
           {
            "colorbar": {
             "outlinewidth": 0,
             "ticks": ""
            },
            "type": "choropleth"
           }
          ],
          "contour": [
           {
            "colorbar": {
             "outlinewidth": 0,
             "ticks": ""
            },
            "colorscale": [
             [
              0,
              "#0d0887"
             ],
             [
              0.1111111111111111,
              "#46039f"
             ],
             [
              0.2222222222222222,
              "#7201a8"
             ],
             [
              0.3333333333333333,
              "#9c179e"
             ],
             [
              0.4444444444444444,
              "#bd3786"
             ],
             [
              0.5555555555555556,
              "#d8576b"
             ],
             [
              0.6666666666666666,
              "#ed7953"
             ],
             [
              0.7777777777777778,
              "#fb9f3a"
             ],
             [
              0.8888888888888888,
              "#fdca26"
             ],
             [
              1,
              "#f0f921"
             ]
            ],
            "type": "contour"
           }
          ],
          "contourcarpet": [
           {
            "colorbar": {
             "outlinewidth": 0,
             "ticks": ""
            },
            "type": "contourcarpet"
           }
          ],
          "heatmap": [
           {
            "colorbar": {
             "outlinewidth": 0,
             "ticks": ""
            },
            "colorscale": [
             [
              0,
              "#0d0887"
             ],
             [
              0.1111111111111111,
              "#46039f"
             ],
             [
              0.2222222222222222,
              "#7201a8"
             ],
             [
              0.3333333333333333,
              "#9c179e"
             ],
             [
              0.4444444444444444,
              "#bd3786"
             ],
             [
              0.5555555555555556,
              "#d8576b"
             ],
             [
              0.6666666666666666,
              "#ed7953"
             ],
             [
              0.7777777777777778,
              "#fb9f3a"
             ],
             [
              0.8888888888888888,
              "#fdca26"
             ],
             [
              1,
              "#f0f921"
             ]
            ],
            "type": "heatmap"
           }
          ],
          "heatmapgl": [
           {
            "colorbar": {
             "outlinewidth": 0,
             "ticks": ""
            },
            "colorscale": [
             [
              0,
              "#0d0887"
             ],
             [
              0.1111111111111111,
              "#46039f"
             ],
             [
              0.2222222222222222,
              "#7201a8"
             ],
             [
              0.3333333333333333,
              "#9c179e"
             ],
             [
              0.4444444444444444,
              "#bd3786"
             ],
             [
              0.5555555555555556,
              "#d8576b"
             ],
             [
              0.6666666666666666,
              "#ed7953"
             ],
             [
              0.7777777777777778,
              "#fb9f3a"
             ],
             [
              0.8888888888888888,
              "#fdca26"
             ],
             [
              1,
              "#f0f921"
             ]
            ],
            "type": "heatmapgl"
           }
          ],
          "histogram": [
           {
            "marker": {
             "pattern": {
              "fillmode": "overlay",
              "size": 10,
              "solidity": 0.2
             }
            },
            "type": "histogram"
           }
          ],
          "histogram2d": [
           {
            "colorbar": {
             "outlinewidth": 0,
             "ticks": ""
            },
            "colorscale": [
             [
              0,
              "#0d0887"
             ],
             [
              0.1111111111111111,
              "#46039f"
             ],
             [
              0.2222222222222222,
              "#7201a8"
             ],
             [
              0.3333333333333333,
              "#9c179e"
             ],
             [
              0.4444444444444444,
              "#bd3786"
             ],
             [
              0.5555555555555556,
              "#d8576b"
             ],
             [
              0.6666666666666666,
              "#ed7953"
             ],
             [
              0.7777777777777778,
              "#fb9f3a"
             ],
             [
              0.8888888888888888,
              "#fdca26"
             ],
             [
              1,
              "#f0f921"
             ]
            ],
            "type": "histogram2d"
           }
          ],
          "histogram2dcontour": [
           {
            "colorbar": {
             "outlinewidth": 0,
             "ticks": ""
            },
            "colorscale": [
             [
              0,
              "#0d0887"
             ],
             [
              0.1111111111111111,
              "#46039f"
             ],
             [
              0.2222222222222222,
              "#7201a8"
             ],
             [
              0.3333333333333333,
              "#9c179e"
             ],
             [
              0.4444444444444444,
              "#bd3786"
             ],
             [
              0.5555555555555556,
              "#d8576b"
             ],
             [
              0.6666666666666666,
              "#ed7953"
             ],
             [
              0.7777777777777778,
              "#fb9f3a"
             ],
             [
              0.8888888888888888,
              "#fdca26"
             ],
             [
              1,
              "#f0f921"
             ]
            ],
            "type": "histogram2dcontour"
           }
          ],
          "mesh3d": [
           {
            "colorbar": {
             "outlinewidth": 0,
             "ticks": ""
            },
            "type": "mesh3d"
           }
          ],
          "parcoords": [
           {
            "line": {
             "colorbar": {
              "outlinewidth": 0,
              "ticks": ""
             }
            },
            "type": "parcoords"
           }
          ],
          "pie": [
           {
            "automargin": true,
            "type": "pie"
           }
          ],
          "scatter": [
           {
            "fillpattern": {
             "fillmode": "overlay",
             "size": 10,
             "solidity": 0.2
            },
            "type": "scatter"
           }
          ],
          "scatter3d": [
           {
            "line": {
             "colorbar": {
              "outlinewidth": 0,
              "ticks": ""
             }
            },
            "marker": {
             "colorbar": {
              "outlinewidth": 0,
              "ticks": ""
             }
            },
            "type": "scatter3d"
           }
          ],
          "scattercarpet": [
           {
            "marker": {
             "colorbar": {
              "outlinewidth": 0,
              "ticks": ""
             }
            },
            "type": "scattercarpet"
           }
          ],
          "scattergeo": [
           {
            "marker": {
             "colorbar": {
              "outlinewidth": 0,
              "ticks": ""
             }
            },
            "type": "scattergeo"
           }
          ],
          "scattergl": [
           {
            "marker": {
             "colorbar": {
              "outlinewidth": 0,
              "ticks": ""
             }
            },
            "type": "scattergl"
           }
          ],
          "scattermapbox": [
           {
            "marker": {
             "colorbar": {
              "outlinewidth": 0,
              "ticks": ""
             }
            },
            "type": "scattermapbox"
           }
          ],
          "scatterpolar": [
           {
            "marker": {
             "colorbar": {
              "outlinewidth": 0,
              "ticks": ""
             }
            },
            "type": "scatterpolar"
           }
          ],
          "scatterpolargl": [
           {
            "marker": {
             "colorbar": {
              "outlinewidth": 0,
              "ticks": ""
             }
            },
            "type": "scatterpolargl"
           }
          ],
          "scatterternary": [
           {
            "marker": {
             "colorbar": {
              "outlinewidth": 0,
              "ticks": ""
             }
            },
            "type": "scatterternary"
           }
          ],
          "surface": [
           {
            "colorbar": {
             "outlinewidth": 0,
             "ticks": ""
            },
            "colorscale": [
             [
              0,
              "#0d0887"
             ],
             [
              0.1111111111111111,
              "#46039f"
             ],
             [
              0.2222222222222222,
              "#7201a8"
             ],
             [
              0.3333333333333333,
              "#9c179e"
             ],
             [
              0.4444444444444444,
              "#bd3786"
             ],
             [
              0.5555555555555556,
              "#d8576b"
             ],
             [
              0.6666666666666666,
              "#ed7953"
             ],
             [
              0.7777777777777778,
              "#fb9f3a"
             ],
             [
              0.8888888888888888,
              "#fdca26"
             ],
             [
              1,
              "#f0f921"
             ]
            ],
            "type": "surface"
           }
          ],
          "table": [
           {
            "cells": {
             "fill": {
              "color": "#EBF0F8"
             },
             "line": {
              "color": "white"
             }
            },
            "header": {
             "fill": {
              "color": "#C8D4E3"
             },
             "line": {
              "color": "white"
             }
            },
            "type": "table"
           }
          ]
         },
         "layout": {
          "annotationdefaults": {
           "arrowcolor": "#2a3f5f",
           "arrowhead": 0,
           "arrowwidth": 1
          },
          "autotypenumbers": "strict",
          "coloraxis": {
           "colorbar": {
            "outlinewidth": 0,
            "ticks": ""
           }
          },
          "colorscale": {
           "diverging": [
            [
             0,
             "#8e0152"
            ],
            [
             0.1,
             "#c51b7d"
            ],
            [
             0.2,
             "#de77ae"
            ],
            [
             0.3,
             "#f1b6da"
            ],
            [
             0.4,
             "#fde0ef"
            ],
            [
             0.5,
             "#f7f7f7"
            ],
            [
             0.6,
             "#e6f5d0"
            ],
            [
             0.7,
             "#b8e186"
            ],
            [
             0.8,
             "#7fbc41"
            ],
            [
             0.9,
             "#4d9221"
            ],
            [
             1,
             "#276419"
            ]
           ],
           "sequential": [
            [
             0,
             "#0d0887"
            ],
            [
             0.1111111111111111,
             "#46039f"
            ],
            [
             0.2222222222222222,
             "#7201a8"
            ],
            [
             0.3333333333333333,
             "#9c179e"
            ],
            [
             0.4444444444444444,
             "#bd3786"
            ],
            [
             0.5555555555555556,
             "#d8576b"
            ],
            [
             0.6666666666666666,
             "#ed7953"
            ],
            [
             0.7777777777777778,
             "#fb9f3a"
            ],
            [
             0.8888888888888888,
             "#fdca26"
            ],
            [
             1,
             "#f0f921"
            ]
           ],
           "sequentialminus": [
            [
             0,
             "#0d0887"
            ],
            [
             0.1111111111111111,
             "#46039f"
            ],
            [
             0.2222222222222222,
             "#7201a8"
            ],
            [
             0.3333333333333333,
             "#9c179e"
            ],
            [
             0.4444444444444444,
             "#bd3786"
            ],
            [
             0.5555555555555556,
             "#d8576b"
            ],
            [
             0.6666666666666666,
             "#ed7953"
            ],
            [
             0.7777777777777778,
             "#fb9f3a"
            ],
            [
             0.8888888888888888,
             "#fdca26"
            ],
            [
             1,
             "#f0f921"
            ]
           ]
          },
          "colorway": [
           "#449aba",
           "#8fdff2",
           "#2a3337",
           "#0f5876",
           "#81b8bc",
           "#3d7d82",
           "#9c9c9c",
           "#04545a",
           "#5c5656"
          ],
          "font": {
           "color": "#2a3f5f"
          },
          "geo": {
           "bgcolor": "white",
           "lakecolor": "white",
           "landcolor": "white",
           "showlakes": true,
           "showland": true,
           "subunitcolor": "#C8D4E3"
          },
          "hoverlabel": {
           "align": "left"
          },
          "hovermode": "closest",
          "mapbox": {
           "style": "light"
          },
          "paper_bgcolor": "white",
          "plot_bgcolor": "white",
          "polar": {
           "angularaxis": {
            "gridcolor": "#EBF0F8",
            "linecolor": "#EBF0F8",
            "ticks": ""
           },
           "bgcolor": "white",
           "radialaxis": {
            "gridcolor": "#EBF0F8",
            "linecolor": "#EBF0F8",
            "ticks": ""
           }
          },
          "scene": {
           "xaxis": {
            "backgroundcolor": "white",
            "gridcolor": "#DFE8F3",
            "gridwidth": 2,
            "linecolor": "#EBF0F8",
            "showbackground": true,
            "ticks": "",
            "zerolinecolor": "#EBF0F8"
           },
           "yaxis": {
            "backgroundcolor": "white",
            "gridcolor": "#DFE8F3",
            "gridwidth": 2,
            "linecolor": "#EBF0F8",
            "showbackground": true,
            "ticks": "",
            "zerolinecolor": "#EBF0F8"
           },
           "zaxis": {
            "backgroundcolor": "white",
            "gridcolor": "#DFE8F3",
            "gridwidth": 2,
            "linecolor": "#EBF0F8",
            "showbackground": true,
            "ticks": "",
            "zerolinecolor": "#EBF0F8"
           }
          },
          "shapedefaults": {
           "line": {
            "color": "#2a3f5f"
           }
          },
          "ternary": {
           "aaxis": {
            "gridcolor": "#DFE8F3",
            "linecolor": "#A2B1C6",
            "ticks": ""
           },
           "baxis": {
            "gridcolor": "#DFE8F3",
            "linecolor": "#A2B1C6",
            "ticks": ""
           },
           "bgcolor": "white",
           "caxis": {
            "gridcolor": "#DFE8F3",
            "linecolor": "#A2B1C6",
            "ticks": ""
           }
          },
          "title": {
           "x": 0.05
          },
          "xaxis": {
           "automargin": true,
           "gridcolor": "#EBF0F8",
           "linecolor": "#EBF0F8",
           "ticks": "",
           "title": {
            "standoff": 15
           },
           "zerolinecolor": "#EBF0F8",
           "zerolinewidth": 2
          },
          "yaxis": {
           "automargin": true,
           "gridcolor": "#EBF0F8",
           "linecolor": "#EBF0F8",
           "ticks": "",
           "title": {
            "standoff": 15
           },
           "zerolinecolor": "#EBF0F8",
           "zerolinewidth": 2
          }
         }
        }
       }
      }
     },
     "metadata": {},
     "output_type": "display_data"
    }
   ],
   "source": [
    "row_names = [\"Operating Income\",  \"Loan Draw\", \"Equity Draw\", \"Final Escrow Recovery\", \"Project Cost\", \"Principal Payment\", \"Interest Payment\"]\n",
    "\n",
    "traces = []\n",
    "for ix, rn in enumerate(row_names):\n",
    "    if ix <= 3:\n",
    "        traces.append(go.Bar(name=rn,x=gm.iloc[:, 2:].columns, y=gm.iloc[:, 2:].loc[rn]*1 ))\n",
    "    else:\n",
    "        traces.append(go.Bar(name=rn,x=gm.iloc[:, 2:].columns, y=gm.iloc[:, 2:].loc[rn]*-1 ))\n",
    "\n",
    "\n",
    "\n",
    "fig = go.Figure(data=traces)\n",
    "# Change the bar mode\n",
    "fig.update_layout(barmode='relative')\n",
    "fig.show()"
   ]
  },
  {
   "attachments": {},
   "cell_type": "markdown",
   "metadata": {},
   "source": [
    "## python model "
   ]
  },
  {
   "cell_type": "code",
   "execution_count": 4,
   "metadata": {},
   "outputs": [],
   "source": [
    "a = FinancialModel()\n",
    "a.run_base_case()\n",
    "df = a.df_out.iloc[:, 0:23]"
   ]
  },
  {
   "cell_type": "code",
   "execution_count": 161,
   "metadata": {},
   "outputs": [],
   "source": [
    "df.columns = time_cols[1:]"
   ]
  },
  {
   "cell_type": "code",
   "execution_count": 167,
   "metadata": {},
   "outputs": [
    {
     "data": {
      "application/vnd.plotly.v1+json": {
       "config": {
        "plotlyServerURL": "https://plotly.com"
       },
       "data": [
        {
         "name": "Revenue",
         "type": "bar",
         "x": [
          "2023-07-01T00:00:00",
          "2024-07-01T00:00:00",
          "2025-07-01T00:00:00",
          "2026-07-01T00:00:00",
          "2027-07-01T00:00:00",
          "2028-07-01T00:00:00",
          "2029-07-01T00:00:00",
          "2030-07-01T00:00:00",
          "2031-07-01T00:00:00",
          "2032-07-01T00:00:00",
          "2033-07-01T00:00:00",
          "2034-07-01T00:00:00",
          "2035-07-01T00:00:00",
          "2036-07-01T00:00:00",
          "2037-07-01T00:00:00",
          "2038-07-01T00:00:00",
          "2039-07-01T00:00:00",
          "2040-07-01T00:00:00",
          "2041-07-01T00:00:00",
          "2042-07-01T00:00:00",
          "2043-07-01T00:00:00",
          "2044-07-01T00:00:00",
          "2045-07-01T00:00:00"
         ],
         "y": [
          0,
          0,
          0,
          80541120,
          84568176,
          88796584.79999998,
          93236414.04000002,
          97898234.74199997,
          102793146.47909999,
          107932803.80305502,
          113329443.99320778,
          118995916.19286819,
          124945712.0025116,
          131192997.60263717,
          137752647.48276904,
          144640279.8569075,
          151872293.84975284,
          159465908.5422405,
          167439203.9693525,
          175811164.16782013,
          184601722.37621117,
          193831808.49502176,
          203523398.9197728
         ]
        },
        {
         "name": "Capital and Operating Expenses",
         "type": "bar",
         "x": [
          "2023-07-01T00:00:00",
          "2024-07-01T00:00:00",
          "2025-07-01T00:00:00",
          "2026-07-01T00:00:00",
          "2027-07-01T00:00:00",
          "2028-07-01T00:00:00",
          "2029-07-01T00:00:00",
          "2030-07-01T00:00:00",
          "2031-07-01T00:00:00",
          "2032-07-01T00:00:00",
          "2033-07-01T00:00:00",
          "2034-07-01T00:00:00",
          "2035-07-01T00:00:00",
          "2036-07-01T00:00:00",
          "2037-07-01T00:00:00",
          "2038-07-01T00:00:00",
          "2039-07-01T00:00:00",
          "2040-07-01T00:00:00",
          "2041-07-01T00:00:00",
          "2042-07-01T00:00:00",
          "2043-07-01T00:00:00",
          "2044-07-01T00:00:00",
          "2045-07-01T00:00:00"
         ],
         "y": [
          -104906000,
          -282103500,
          -308843550,
          -52926036.25,
          -46821988.78125,
          -51424246.375781246,
          -45473966.66017578,
          -49787312.20168017,
          -43998096.606722176,
          -47671540.621890225,
          -42635468.23743748,
          -45733807.79337341,
          -40362035.08820775,
          -44083751.49041294,
          -39118592.052673265,
          -41345003.6289901,
          -37099637.99471484,
          -38437757.969582714,
          -34143213.54382229,
          -34030378.00741784,
          -30883774.082603283,
          -29924030.059668362,
          -24179017.936160073
         ]
        },
        {
         "name": "Corporate Tax",
         "type": "bar",
         "x": [
          "2023-07-01T00:00:00",
          "2024-07-01T00:00:00",
          "2025-07-01T00:00:00",
          "2026-07-01T00:00:00",
          "2027-07-01T00:00:00",
          "2028-07-01T00:00:00",
          "2029-07-01T00:00:00",
          "2030-07-01T00:00:00",
          "2031-07-01T00:00:00",
          "2032-07-01T00:00:00",
          "2033-07-01T00:00:00",
          "2034-07-01T00:00:00",
          "2035-07-01T00:00:00",
          "2036-07-01T00:00:00",
          "2037-07-01T00:00:00",
          "2038-07-01T00:00:00",
          "2039-07-01T00:00:00",
          "2040-07-01T00:00:00",
          "2041-07-01T00:00:00",
          "2042-07-01T00:00:00",
          "2043-07-01T00:00:00",
          "2044-07-01T00:00:00",
          "2045-07-01T00:00:00"
         ],
         "y": [
          0,
          0,
          0,
          0,
          -673856.165625,
          -561701.527265621,
          -3678734.213947273,
          -3783276.76209594,
          -6988514.961713344,
          -7428378.954349438,
          -10558192.726731088,
          -11328632.51984843,
          -14725103.074291157,
          -15482773.833667265,
          -18940216.629028734,
          -20338582.868375216,
          -23781796.7565114,
          -25658445.17179734,
          -29338797.127659068,
          -31884235.84812069,
          -46115384.488082364,
          -49172333.53060602,
          -53803314.29508381
         ]
        },
        {
         "name": "Loan Repayments",
         "type": "bar",
         "x": [
          "2023-07-01T00:00:00",
          "2024-07-01T00:00:00",
          "2025-07-01T00:00:00",
          "2026-07-01T00:00:00",
          "2027-07-01T00:00:00",
          "2028-07-01T00:00:00",
          "2029-07-01T00:00:00",
          "2030-07-01T00:00:00",
          "2031-07-01T00:00:00",
          "2032-07-01T00:00:00",
          "2033-07-01T00:00:00",
          "2034-07-01T00:00:00",
          "2035-07-01T00:00:00",
          "2036-07-01T00:00:00",
          "2037-07-01T00:00:00",
          "2038-07-01T00:00:00",
          "2039-07-01T00:00:00",
          "2040-07-01T00:00:00",
          "2041-07-01T00:00:00",
          "2042-07-01T00:00:00",
          "2043-07-01T00:00:00",
          "2044-07-01T00:00:00",
          "2045-07-01T00:00:00"
         ],
         "y": [
          0,
          0,
          0,
          -11500000,
          -13594494,
          -14544335,
          -15906984,
          -16823430,
          -18940697,
          -19040508,
          -21934378,
          -22315288,
          -23814468,
          -24022852,
          -26080217,
          -26806415,
          -28936670,
          -29796834,
          -32562191,
          -33480523,
          -36617291,
          -37715560,
          -20629658
         ]
        },
        {
         "name": "HIPU Escrow Account",
         "type": "bar",
         "x": [
          "2023-07-01T00:00:00",
          "2024-07-01T00:00:00",
          "2025-07-01T00:00:00",
          "2026-07-01T00:00:00",
          "2027-07-01T00:00:00",
          "2028-07-01T00:00:00",
          "2029-07-01T00:00:00",
          "2030-07-01T00:00:00",
          "2031-07-01T00:00:00",
          "2032-07-01T00:00:00",
          "2033-07-01T00:00:00",
          "2034-07-01T00:00:00",
          "2035-07-01T00:00:00",
          "2036-07-01T00:00:00",
          "2037-07-01T00:00:00",
          "2038-07-01T00:00:00",
          "2039-07-01T00:00:00",
          "2040-07-01T00:00:00",
          "2041-07-01T00:00:00",
          "2042-07-01T00:00:00",
          "2043-07-01T00:00:00",
          "2044-07-01T00:00:00",
          "2045-07-01T00:00:00"
         ],
         "y": [
          -7000000,
          0,
          0,
          -22500000,
          1125000,
          2193750,
          3209062.5,
          4173609.375,
          5089928.90625,
          5960432.4609375,
          6787410.837890625,
          7573040.295996094,
          8319388.281196291,
          9028418.867136477,
          9701997.923779653,
          10341898.027590672,
          10949803.126211138,
          11527312.969900582,
          12075947.321405554,
          12597149.955335276,
          13092292.457568513,
          13562677.834690088,
          14009543.942955585
         ]
        },
        {
         "name": "Loan Draw",
         "type": "bar",
         "x": [
          "2023-07-01T00:00:00",
          "2024-07-01T00:00:00",
          "2025-07-01T00:00:00",
          "2026-07-01T00:00:00",
          "2027-07-01T00:00:00",
          "2028-07-01T00:00:00",
          "2029-07-01T00:00:00",
          "2030-07-01T00:00:00",
          "2031-07-01T00:00:00",
          "2032-07-01T00:00:00",
          "2033-07-01T00:00:00",
          "2034-07-01T00:00:00",
          "2035-07-01T00:00:00",
          "2036-07-01T00:00:00",
          "2037-07-01T00:00:00",
          "2038-07-01T00:00:00",
          "2039-07-01T00:00:00",
          "2040-07-01T00:00:00",
          "2041-07-01T00:00:00",
          "2042-07-01T00:00:00",
          "2043-07-01T00:00:00",
          "2044-07-01T00:00:00",
          "2045-07-01T00:00:00"
         ],
         "y": [
          550062792,
          0,
          0,
          0,
          0,
          0,
          0,
          0,
          0,
          0,
          0,
          0,
          0,
          0,
          0,
          0,
          0,
          0,
          0,
          0,
          0,
          0,
          0
         ]
        },
        {
         "name": "Equity Draw",
         "type": "bar",
         "x": [
          "2023-07-01T00:00:00",
          "2024-07-01T00:00:00",
          "2025-07-01T00:00:00",
          "2026-07-01T00:00:00",
          "2027-07-01T00:00:00",
          "2028-07-01T00:00:00",
          "2029-07-01T00:00:00",
          "2030-07-01T00:00:00",
          "2031-07-01T00:00:00",
          "2032-07-01T00:00:00",
          "2033-07-01T00:00:00",
          "2034-07-01T00:00:00",
          "2035-07-01T00:00:00",
          "2036-07-01T00:00:00",
          "2037-07-01T00:00:00",
          "2038-07-01T00:00:00",
          "2039-07-01T00:00:00",
          "2040-07-01T00:00:00",
          "2041-07-01T00:00:00",
          "2042-07-01T00:00:00",
          "2043-07-01T00:00:00",
          "2044-07-01T00:00:00",
          "2045-07-01T00:00:00"
         ],
         "y": [
          235741196.57142863,
          0,
          0,
          0,
          0,
          0,
          0,
          0,
          0,
          0,
          0,
          0,
          0,
          0,
          0,
          0,
          0,
          0,
          0,
          0,
          0,
          0,
          0
         ]
        }
       ],
       "layout": {
        "barmode": "relative",
        "template": {
         "data": {
          "bar": [
           {
            "error_x": {
             "color": "#2a3f5f"
            },
            "error_y": {
             "color": "#2a3f5f"
            },
            "marker": {
             "line": {
              "color": "white",
              "width": 0.5
             },
             "pattern": {
              "fillmode": "overlay",
              "size": 10,
              "solidity": 0.2
             }
            },
            "type": "bar"
           }
          ],
          "barpolar": [
           {
            "marker": {
             "line": {
              "color": "white",
              "width": 0.5
             },
             "pattern": {
              "fillmode": "overlay",
              "size": 10,
              "solidity": 0.2
             }
            },
            "type": "barpolar"
           }
          ],
          "carpet": [
           {
            "aaxis": {
             "endlinecolor": "#2a3f5f",
             "gridcolor": "#C8D4E3",
             "linecolor": "#C8D4E3",
             "minorgridcolor": "#C8D4E3",
             "startlinecolor": "#2a3f5f"
            },
            "baxis": {
             "endlinecolor": "#2a3f5f",
             "gridcolor": "#C8D4E3",
             "linecolor": "#C8D4E3",
             "minorgridcolor": "#C8D4E3",
             "startlinecolor": "#2a3f5f"
            },
            "type": "carpet"
           }
          ],
          "choropleth": [
           {
            "colorbar": {
             "outlinewidth": 0,
             "ticks": ""
            },
            "type": "choropleth"
           }
          ],
          "contour": [
           {
            "colorbar": {
             "outlinewidth": 0,
             "ticks": ""
            },
            "colorscale": [
             [
              0,
              "#0d0887"
             ],
             [
              0.1111111111111111,
              "#46039f"
             ],
             [
              0.2222222222222222,
              "#7201a8"
             ],
             [
              0.3333333333333333,
              "#9c179e"
             ],
             [
              0.4444444444444444,
              "#bd3786"
             ],
             [
              0.5555555555555556,
              "#d8576b"
             ],
             [
              0.6666666666666666,
              "#ed7953"
             ],
             [
              0.7777777777777778,
              "#fb9f3a"
             ],
             [
              0.8888888888888888,
              "#fdca26"
             ],
             [
              1,
              "#f0f921"
             ]
            ],
            "type": "contour"
           }
          ],
          "contourcarpet": [
           {
            "colorbar": {
             "outlinewidth": 0,
             "ticks": ""
            },
            "type": "contourcarpet"
           }
          ],
          "heatmap": [
           {
            "colorbar": {
             "outlinewidth": 0,
             "ticks": ""
            },
            "colorscale": [
             [
              0,
              "#0d0887"
             ],
             [
              0.1111111111111111,
              "#46039f"
             ],
             [
              0.2222222222222222,
              "#7201a8"
             ],
             [
              0.3333333333333333,
              "#9c179e"
             ],
             [
              0.4444444444444444,
              "#bd3786"
             ],
             [
              0.5555555555555556,
              "#d8576b"
             ],
             [
              0.6666666666666666,
              "#ed7953"
             ],
             [
              0.7777777777777778,
              "#fb9f3a"
             ],
             [
              0.8888888888888888,
              "#fdca26"
             ],
             [
              1,
              "#f0f921"
             ]
            ],
            "type": "heatmap"
           }
          ],
          "heatmapgl": [
           {
            "colorbar": {
             "outlinewidth": 0,
             "ticks": ""
            },
            "colorscale": [
             [
              0,
              "#0d0887"
             ],
             [
              0.1111111111111111,
              "#46039f"
             ],
             [
              0.2222222222222222,
              "#7201a8"
             ],
             [
              0.3333333333333333,
              "#9c179e"
             ],
             [
              0.4444444444444444,
              "#bd3786"
             ],
             [
              0.5555555555555556,
              "#d8576b"
             ],
             [
              0.6666666666666666,
              "#ed7953"
             ],
             [
              0.7777777777777778,
              "#fb9f3a"
             ],
             [
              0.8888888888888888,
              "#fdca26"
             ],
             [
              1,
              "#f0f921"
             ]
            ],
            "type": "heatmapgl"
           }
          ],
          "histogram": [
           {
            "marker": {
             "pattern": {
              "fillmode": "overlay",
              "size": 10,
              "solidity": 0.2
             }
            },
            "type": "histogram"
           }
          ],
          "histogram2d": [
           {
            "colorbar": {
             "outlinewidth": 0,
             "ticks": ""
            },
            "colorscale": [
             [
              0,
              "#0d0887"
             ],
             [
              0.1111111111111111,
              "#46039f"
             ],
             [
              0.2222222222222222,
              "#7201a8"
             ],
             [
              0.3333333333333333,
              "#9c179e"
             ],
             [
              0.4444444444444444,
              "#bd3786"
             ],
             [
              0.5555555555555556,
              "#d8576b"
             ],
             [
              0.6666666666666666,
              "#ed7953"
             ],
             [
              0.7777777777777778,
              "#fb9f3a"
             ],
             [
              0.8888888888888888,
              "#fdca26"
             ],
             [
              1,
              "#f0f921"
             ]
            ],
            "type": "histogram2d"
           }
          ],
          "histogram2dcontour": [
           {
            "colorbar": {
             "outlinewidth": 0,
             "ticks": ""
            },
            "colorscale": [
             [
              0,
              "#0d0887"
             ],
             [
              0.1111111111111111,
              "#46039f"
             ],
             [
              0.2222222222222222,
              "#7201a8"
             ],
             [
              0.3333333333333333,
              "#9c179e"
             ],
             [
              0.4444444444444444,
              "#bd3786"
             ],
             [
              0.5555555555555556,
              "#d8576b"
             ],
             [
              0.6666666666666666,
              "#ed7953"
             ],
             [
              0.7777777777777778,
              "#fb9f3a"
             ],
             [
              0.8888888888888888,
              "#fdca26"
             ],
             [
              1,
              "#f0f921"
             ]
            ],
            "type": "histogram2dcontour"
           }
          ],
          "mesh3d": [
           {
            "colorbar": {
             "outlinewidth": 0,
             "ticks": ""
            },
            "type": "mesh3d"
           }
          ],
          "parcoords": [
           {
            "line": {
             "colorbar": {
              "outlinewidth": 0,
              "ticks": ""
             }
            },
            "type": "parcoords"
           }
          ],
          "pie": [
           {
            "automargin": true,
            "type": "pie"
           }
          ],
          "scatter": [
           {
            "fillpattern": {
             "fillmode": "overlay",
             "size": 10,
             "solidity": 0.2
            },
            "type": "scatter"
           }
          ],
          "scatter3d": [
           {
            "line": {
             "colorbar": {
              "outlinewidth": 0,
              "ticks": ""
             }
            },
            "marker": {
             "colorbar": {
              "outlinewidth": 0,
              "ticks": ""
             }
            },
            "type": "scatter3d"
           }
          ],
          "scattercarpet": [
           {
            "marker": {
             "colorbar": {
              "outlinewidth": 0,
              "ticks": ""
             }
            },
            "type": "scattercarpet"
           }
          ],
          "scattergeo": [
           {
            "marker": {
             "colorbar": {
              "outlinewidth": 0,
              "ticks": ""
             }
            },
            "type": "scattergeo"
           }
          ],
          "scattergl": [
           {
            "marker": {
             "colorbar": {
              "outlinewidth": 0,
              "ticks": ""
             }
            },
            "type": "scattergl"
           }
          ],
          "scattermapbox": [
           {
            "marker": {
             "colorbar": {
              "outlinewidth": 0,
              "ticks": ""
             }
            },
            "type": "scattermapbox"
           }
          ],
          "scatterpolar": [
           {
            "marker": {
             "colorbar": {
              "outlinewidth": 0,
              "ticks": ""
             }
            },
            "type": "scatterpolar"
           }
          ],
          "scatterpolargl": [
           {
            "marker": {
             "colorbar": {
              "outlinewidth": 0,
              "ticks": ""
             }
            },
            "type": "scatterpolargl"
           }
          ],
          "scatterternary": [
           {
            "marker": {
             "colorbar": {
              "outlinewidth": 0,
              "ticks": ""
             }
            },
            "type": "scatterternary"
           }
          ],
          "surface": [
           {
            "colorbar": {
             "outlinewidth": 0,
             "ticks": ""
            },
            "colorscale": [
             [
              0,
              "#0d0887"
             ],
             [
              0.1111111111111111,
              "#46039f"
             ],
             [
              0.2222222222222222,
              "#7201a8"
             ],
             [
              0.3333333333333333,
              "#9c179e"
             ],
             [
              0.4444444444444444,
              "#bd3786"
             ],
             [
              0.5555555555555556,
              "#d8576b"
             ],
             [
              0.6666666666666666,
              "#ed7953"
             ],
             [
              0.7777777777777778,
              "#fb9f3a"
             ],
             [
              0.8888888888888888,
              "#fdca26"
             ],
             [
              1,
              "#f0f921"
             ]
            ],
            "type": "surface"
           }
          ],
          "table": [
           {
            "cells": {
             "fill": {
              "color": "#EBF0F8"
             },
             "line": {
              "color": "white"
             }
            },
            "header": {
             "fill": {
              "color": "#C8D4E3"
             },
             "line": {
              "color": "white"
             }
            },
            "type": "table"
           }
          ]
         },
         "layout": {
          "annotationdefaults": {
           "arrowcolor": "#2a3f5f",
           "arrowhead": 0,
           "arrowwidth": 1
          },
          "autotypenumbers": "strict",
          "coloraxis": {
           "colorbar": {
            "outlinewidth": 0,
            "ticks": ""
           }
          },
          "colorscale": {
           "diverging": [
            [
             0,
             "#8e0152"
            ],
            [
             0.1,
             "#c51b7d"
            ],
            [
             0.2,
             "#de77ae"
            ],
            [
             0.3,
             "#f1b6da"
            ],
            [
             0.4,
             "#fde0ef"
            ],
            [
             0.5,
             "#f7f7f7"
            ],
            [
             0.6,
             "#e6f5d0"
            ],
            [
             0.7,
             "#b8e186"
            ],
            [
             0.8,
             "#7fbc41"
            ],
            [
             0.9,
             "#4d9221"
            ],
            [
             1,
             "#276419"
            ]
           ],
           "sequential": [
            [
             0,
             "#0d0887"
            ],
            [
             0.1111111111111111,
             "#46039f"
            ],
            [
             0.2222222222222222,
             "#7201a8"
            ],
            [
             0.3333333333333333,
             "#9c179e"
            ],
            [
             0.4444444444444444,
             "#bd3786"
            ],
            [
             0.5555555555555556,
             "#d8576b"
            ],
            [
             0.6666666666666666,
             "#ed7953"
            ],
            [
             0.7777777777777778,
             "#fb9f3a"
            ],
            [
             0.8888888888888888,
             "#fdca26"
            ],
            [
             1,
             "#f0f921"
            ]
           ],
           "sequentialminus": [
            [
             0,
             "#0d0887"
            ],
            [
             0.1111111111111111,
             "#46039f"
            ],
            [
             0.2222222222222222,
             "#7201a8"
            ],
            [
             0.3333333333333333,
             "#9c179e"
            ],
            [
             0.4444444444444444,
             "#bd3786"
            ],
            [
             0.5555555555555556,
             "#d8576b"
            ],
            [
             0.6666666666666666,
             "#ed7953"
            ],
            [
             0.7777777777777778,
             "#fb9f3a"
            ],
            [
             0.8888888888888888,
             "#fdca26"
            ],
            [
             1,
             "#f0f921"
            ]
           ]
          },
          "colorway": [
           "#449aba",
           "#8fdff2",
           "#2a3337",
           "#0f5876",
           "#81b8bc",
           "#3d7d82",
           "#9c9c9c",
           "#04545a",
           "#5c5656"
          ],
          "font": {
           "color": "#2a3f5f"
          },
          "geo": {
           "bgcolor": "white",
           "lakecolor": "white",
           "landcolor": "white",
           "showlakes": true,
           "showland": true,
           "subunitcolor": "#C8D4E3"
          },
          "hoverlabel": {
           "align": "left"
          },
          "hovermode": "closest",
          "mapbox": {
           "style": "light"
          },
          "paper_bgcolor": "white",
          "plot_bgcolor": "white",
          "polar": {
           "angularaxis": {
            "gridcolor": "#EBF0F8",
            "linecolor": "#EBF0F8",
            "ticks": ""
           },
           "bgcolor": "white",
           "radialaxis": {
            "gridcolor": "#EBF0F8",
            "linecolor": "#EBF0F8",
            "ticks": ""
           }
          },
          "scene": {
           "xaxis": {
            "backgroundcolor": "white",
            "gridcolor": "#DFE8F3",
            "gridwidth": 2,
            "linecolor": "#EBF0F8",
            "showbackground": true,
            "ticks": "",
            "zerolinecolor": "#EBF0F8"
           },
           "yaxis": {
            "backgroundcolor": "white",
            "gridcolor": "#DFE8F3",
            "gridwidth": 2,
            "linecolor": "#EBF0F8",
            "showbackground": true,
            "ticks": "",
            "zerolinecolor": "#EBF0F8"
           },
           "zaxis": {
            "backgroundcolor": "white",
            "gridcolor": "#DFE8F3",
            "gridwidth": 2,
            "linecolor": "#EBF0F8",
            "showbackground": true,
            "ticks": "",
            "zerolinecolor": "#EBF0F8"
           }
          },
          "shapedefaults": {
           "line": {
            "color": "#2a3f5f"
           }
          },
          "ternary": {
           "aaxis": {
            "gridcolor": "#DFE8F3",
            "linecolor": "#A2B1C6",
            "ticks": ""
           },
           "baxis": {
            "gridcolor": "#DFE8F3",
            "linecolor": "#A2B1C6",
            "ticks": ""
           },
           "bgcolor": "white",
           "caxis": {
            "gridcolor": "#DFE8F3",
            "linecolor": "#A2B1C6",
            "ticks": ""
           }
          },
          "title": {
           "x": 0.05
          },
          "xaxis": {
           "automargin": true,
           "gridcolor": "#EBF0F8",
           "linecolor": "#EBF0F8",
           "ticks": "",
           "title": {
            "standoff": 15
           },
           "zerolinecolor": "#EBF0F8",
           "zerolinewidth": 2
          },
          "yaxis": {
           "automargin": true,
           "gridcolor": "#EBF0F8",
           "linecolor": "#EBF0F8",
           "ticks": "",
           "title": {
            "standoff": 15
           },
           "zerolinecolor": "#EBF0F8",
           "zerolinewidth": 2
          }
         }
        }
       }
      }
     },
     "metadata": {},
     "output_type": "display_data"
    }
   ],
   "source": [
    "row_names = [\"Revenue\", \"Total Expenses\", \"Corporate Tax Due\", \"Loan Repayments Due\", \"HIPU Escrow Account\", \"Loan Income\", \"Equity Income\"]\n",
    "\n",
    "graph_names = [\"Revenue\", \"Capital and Operating Expenses\", \"Corporate Tax\", \"Loan Repayments\", \"HIPU Escrow Account\", \"Loan Draw\", \"Equity Draw\"]\n",
    "\n",
    "traces = [go.Bar(name=gn,x=df.columns, y=df.loc[rn] ) for (gn, rn) in zip(graph_names, row_names)]\n",
    "\n",
    "fig = go.Figure(data=traces)\n",
    "# Change the bar mode\n",
    "fig.update_layout(barmode='relative')"
   ]
  },
  {
   "cell_type": "code",
   "execution_count": 165,
   "metadata": {},
   "outputs": [
    {
     "data": {
      "application/vnd.plotly.v1+json": {
       "config": {
        "plotlyServerURL": "https://plotly.com"
       },
       "data": [
        {
         "name": "Revenue",
         "type": "bar",
         "x": [
          "2026-07-01T00:00:00",
          "2027-07-01T00:00:00",
          "2028-07-01T00:00:00",
          "2029-07-01T00:00:00",
          "2030-07-01T00:00:00",
          "2031-07-01T00:00:00",
          "2032-07-01T00:00:00",
          "2033-07-01T00:00:00",
          "2034-07-01T00:00:00",
          "2035-07-01T00:00:00",
          "2036-07-01T00:00:00",
          "2037-07-01T00:00:00",
          "2038-07-01T00:00:00",
          "2039-07-01T00:00:00",
          "2040-07-01T00:00:00",
          "2041-07-01T00:00:00",
          "2042-07-01T00:00:00",
          "2043-07-01T00:00:00",
          "2044-07-01T00:00:00",
          "2045-07-01T00:00:00"
         ],
         "y": [
          80541120,
          84568176,
          88796584.79999998,
          93236414.04000002,
          97898234.74199997,
          102793146.47909999,
          107932803.80305502,
          113329443.99320778,
          118995916.19286819,
          124945712.0025116,
          131192997.60263717,
          137752647.48276904,
          144640279.8569075,
          151872293.84975284,
          159465908.5422405,
          167439203.9693525,
          175811164.16782013,
          184601722.37621117,
          193831808.49502176,
          203523398.9197728
         ]
        },
        {
         "name": "Capital and Operating Expenses",
         "type": "bar",
         "x": [
          "2026-07-01T00:00:00",
          "2027-07-01T00:00:00",
          "2028-07-01T00:00:00",
          "2029-07-01T00:00:00",
          "2030-07-01T00:00:00",
          "2031-07-01T00:00:00",
          "2032-07-01T00:00:00",
          "2033-07-01T00:00:00",
          "2034-07-01T00:00:00",
          "2035-07-01T00:00:00",
          "2036-07-01T00:00:00",
          "2037-07-01T00:00:00",
          "2038-07-01T00:00:00",
          "2039-07-01T00:00:00",
          "2040-07-01T00:00:00",
          "2041-07-01T00:00:00",
          "2042-07-01T00:00:00",
          "2043-07-01T00:00:00",
          "2044-07-01T00:00:00",
          "2045-07-01T00:00:00"
         ],
         "y": [
          -52926036.25,
          -46821988.78125,
          -51424246.375781246,
          -45473966.66017578,
          -49787312.20168017,
          -43998096.606722176,
          -47671540.621890225,
          -42635468.23743748,
          -45733807.79337341,
          -40362035.08820775,
          -44083751.49041294,
          -39118592.052673265,
          -41345003.6289901,
          -37099637.99471484,
          -38437757.969582714,
          -34143213.54382229,
          -34030378.00741784,
          -30883774.082603283,
          -29924030.059668362,
          -24179017.936160073
         ]
        },
        {
         "name": "Corporate Tax",
         "type": "bar",
         "x": [
          "2026-07-01T00:00:00",
          "2027-07-01T00:00:00",
          "2028-07-01T00:00:00",
          "2029-07-01T00:00:00",
          "2030-07-01T00:00:00",
          "2031-07-01T00:00:00",
          "2032-07-01T00:00:00",
          "2033-07-01T00:00:00",
          "2034-07-01T00:00:00",
          "2035-07-01T00:00:00",
          "2036-07-01T00:00:00",
          "2037-07-01T00:00:00",
          "2038-07-01T00:00:00",
          "2039-07-01T00:00:00",
          "2040-07-01T00:00:00",
          "2041-07-01T00:00:00",
          "2042-07-01T00:00:00",
          "2043-07-01T00:00:00",
          "2044-07-01T00:00:00",
          "2045-07-01T00:00:00"
         ],
         "y": [
          0,
          -673856.165625,
          -561701.527265621,
          -3678734.213947273,
          -3783276.76209594,
          -6988514.961713344,
          -7428378.954349438,
          -10558192.726731088,
          -11328632.51984843,
          -14725103.074291157,
          -15482773.833667265,
          -18940216.629028734,
          -20338582.868375216,
          -23781796.7565114,
          -25658445.17179734,
          -29338797.127659068,
          -31884235.84812069,
          -46115384.488082364,
          -49172333.53060602,
          -53803314.29508381
         ]
        },
        {
         "name": "Loan Repayments",
         "type": "bar",
         "x": [
          "2026-07-01T00:00:00",
          "2027-07-01T00:00:00",
          "2028-07-01T00:00:00",
          "2029-07-01T00:00:00",
          "2030-07-01T00:00:00",
          "2031-07-01T00:00:00",
          "2032-07-01T00:00:00",
          "2033-07-01T00:00:00",
          "2034-07-01T00:00:00",
          "2035-07-01T00:00:00",
          "2036-07-01T00:00:00",
          "2037-07-01T00:00:00",
          "2038-07-01T00:00:00",
          "2039-07-01T00:00:00",
          "2040-07-01T00:00:00",
          "2041-07-01T00:00:00",
          "2042-07-01T00:00:00",
          "2043-07-01T00:00:00",
          "2044-07-01T00:00:00",
          "2045-07-01T00:00:00"
         ],
         "y": [
          -11500000,
          -13594494,
          -14544335,
          -15906984,
          -16823430,
          -18940697,
          -19040508,
          -21934378,
          -22315288,
          -23814468,
          -24022852,
          -26080217,
          -26806415,
          -28936670,
          -29796834,
          -32562191,
          -33480523,
          -36617291,
          -37715560,
          -20629658
         ]
        },
        {
         "name": "HIPU Escrow Account",
         "type": "bar",
         "x": [
          "2026-07-01T00:00:00",
          "2027-07-01T00:00:00",
          "2028-07-01T00:00:00",
          "2029-07-01T00:00:00",
          "2030-07-01T00:00:00",
          "2031-07-01T00:00:00",
          "2032-07-01T00:00:00",
          "2033-07-01T00:00:00",
          "2034-07-01T00:00:00",
          "2035-07-01T00:00:00",
          "2036-07-01T00:00:00",
          "2037-07-01T00:00:00",
          "2038-07-01T00:00:00",
          "2039-07-01T00:00:00",
          "2040-07-01T00:00:00",
          "2041-07-01T00:00:00",
          "2042-07-01T00:00:00",
          "2043-07-01T00:00:00",
          "2044-07-01T00:00:00",
          "2045-07-01T00:00:00"
         ],
         "y": [
          -22500000,
          1125000,
          2193750,
          3209062.5,
          4173609.375,
          5089928.90625,
          5960432.4609375,
          6787410.837890625,
          7573040.295996094,
          8319388.281196291,
          9028418.867136477,
          9701997.923779653,
          10341898.027590672,
          10949803.126211138,
          11527312.969900582,
          12075947.321405554,
          12597149.955335276,
          13092292.457568513,
          13562677.834690088,
          14009543.942955585
         ]
        },
        {
         "name": "Loan Draw",
         "type": "bar",
         "x": [
          "2026-07-01T00:00:00",
          "2027-07-01T00:00:00",
          "2028-07-01T00:00:00",
          "2029-07-01T00:00:00",
          "2030-07-01T00:00:00",
          "2031-07-01T00:00:00",
          "2032-07-01T00:00:00",
          "2033-07-01T00:00:00",
          "2034-07-01T00:00:00",
          "2035-07-01T00:00:00",
          "2036-07-01T00:00:00",
          "2037-07-01T00:00:00",
          "2038-07-01T00:00:00",
          "2039-07-01T00:00:00",
          "2040-07-01T00:00:00",
          "2041-07-01T00:00:00",
          "2042-07-01T00:00:00",
          "2043-07-01T00:00:00",
          "2044-07-01T00:00:00",
          "2045-07-01T00:00:00"
         ],
         "y": [
          0,
          0,
          0,
          0,
          0,
          0,
          0,
          0,
          0,
          0,
          0,
          0,
          0,
          0,
          0,
          0,
          0,
          0,
          0,
          0
         ]
        },
        {
         "name": "Equity Draw",
         "type": "bar",
         "x": [
          "2026-07-01T00:00:00",
          "2027-07-01T00:00:00",
          "2028-07-01T00:00:00",
          "2029-07-01T00:00:00",
          "2030-07-01T00:00:00",
          "2031-07-01T00:00:00",
          "2032-07-01T00:00:00",
          "2033-07-01T00:00:00",
          "2034-07-01T00:00:00",
          "2035-07-01T00:00:00",
          "2036-07-01T00:00:00",
          "2037-07-01T00:00:00",
          "2038-07-01T00:00:00",
          "2039-07-01T00:00:00",
          "2040-07-01T00:00:00",
          "2041-07-01T00:00:00",
          "2042-07-01T00:00:00",
          "2043-07-01T00:00:00",
          "2044-07-01T00:00:00",
          "2045-07-01T00:00:00"
         ],
         "y": [
          0,
          0,
          0,
          0,
          0,
          0,
          0,
          0,
          0,
          0,
          0,
          0,
          0,
          0,
          0,
          0,
          0,
          0,
          0,
          0
         ]
        }
       ],
       "layout": {
        "barmode": "relative",
        "template": {
         "data": {
          "bar": [
           {
            "error_x": {
             "color": "#2a3f5f"
            },
            "error_y": {
             "color": "#2a3f5f"
            },
            "marker": {
             "line": {
              "color": "white",
              "width": 0.5
             },
             "pattern": {
              "fillmode": "overlay",
              "size": 10,
              "solidity": 0.2
             }
            },
            "type": "bar"
           }
          ],
          "barpolar": [
           {
            "marker": {
             "line": {
              "color": "white",
              "width": 0.5
             },
             "pattern": {
              "fillmode": "overlay",
              "size": 10,
              "solidity": 0.2
             }
            },
            "type": "barpolar"
           }
          ],
          "carpet": [
           {
            "aaxis": {
             "endlinecolor": "#2a3f5f",
             "gridcolor": "#C8D4E3",
             "linecolor": "#C8D4E3",
             "minorgridcolor": "#C8D4E3",
             "startlinecolor": "#2a3f5f"
            },
            "baxis": {
             "endlinecolor": "#2a3f5f",
             "gridcolor": "#C8D4E3",
             "linecolor": "#C8D4E3",
             "minorgridcolor": "#C8D4E3",
             "startlinecolor": "#2a3f5f"
            },
            "type": "carpet"
           }
          ],
          "choropleth": [
           {
            "colorbar": {
             "outlinewidth": 0,
             "ticks": ""
            },
            "type": "choropleth"
           }
          ],
          "contour": [
           {
            "colorbar": {
             "outlinewidth": 0,
             "ticks": ""
            },
            "colorscale": [
             [
              0,
              "#0d0887"
             ],
             [
              0.1111111111111111,
              "#46039f"
             ],
             [
              0.2222222222222222,
              "#7201a8"
             ],
             [
              0.3333333333333333,
              "#9c179e"
             ],
             [
              0.4444444444444444,
              "#bd3786"
             ],
             [
              0.5555555555555556,
              "#d8576b"
             ],
             [
              0.6666666666666666,
              "#ed7953"
             ],
             [
              0.7777777777777778,
              "#fb9f3a"
             ],
             [
              0.8888888888888888,
              "#fdca26"
             ],
             [
              1,
              "#f0f921"
             ]
            ],
            "type": "contour"
           }
          ],
          "contourcarpet": [
           {
            "colorbar": {
             "outlinewidth": 0,
             "ticks": ""
            },
            "type": "contourcarpet"
           }
          ],
          "heatmap": [
           {
            "colorbar": {
             "outlinewidth": 0,
             "ticks": ""
            },
            "colorscale": [
             [
              0,
              "#0d0887"
             ],
             [
              0.1111111111111111,
              "#46039f"
             ],
             [
              0.2222222222222222,
              "#7201a8"
             ],
             [
              0.3333333333333333,
              "#9c179e"
             ],
             [
              0.4444444444444444,
              "#bd3786"
             ],
             [
              0.5555555555555556,
              "#d8576b"
             ],
             [
              0.6666666666666666,
              "#ed7953"
             ],
             [
              0.7777777777777778,
              "#fb9f3a"
             ],
             [
              0.8888888888888888,
              "#fdca26"
             ],
             [
              1,
              "#f0f921"
             ]
            ],
            "type": "heatmap"
           }
          ],
          "heatmapgl": [
           {
            "colorbar": {
             "outlinewidth": 0,
             "ticks": ""
            },
            "colorscale": [
             [
              0,
              "#0d0887"
             ],
             [
              0.1111111111111111,
              "#46039f"
             ],
             [
              0.2222222222222222,
              "#7201a8"
             ],
             [
              0.3333333333333333,
              "#9c179e"
             ],
             [
              0.4444444444444444,
              "#bd3786"
             ],
             [
              0.5555555555555556,
              "#d8576b"
             ],
             [
              0.6666666666666666,
              "#ed7953"
             ],
             [
              0.7777777777777778,
              "#fb9f3a"
             ],
             [
              0.8888888888888888,
              "#fdca26"
             ],
             [
              1,
              "#f0f921"
             ]
            ],
            "type": "heatmapgl"
           }
          ],
          "histogram": [
           {
            "marker": {
             "pattern": {
              "fillmode": "overlay",
              "size": 10,
              "solidity": 0.2
             }
            },
            "type": "histogram"
           }
          ],
          "histogram2d": [
           {
            "colorbar": {
             "outlinewidth": 0,
             "ticks": ""
            },
            "colorscale": [
             [
              0,
              "#0d0887"
             ],
             [
              0.1111111111111111,
              "#46039f"
             ],
             [
              0.2222222222222222,
              "#7201a8"
             ],
             [
              0.3333333333333333,
              "#9c179e"
             ],
             [
              0.4444444444444444,
              "#bd3786"
             ],
             [
              0.5555555555555556,
              "#d8576b"
             ],
             [
              0.6666666666666666,
              "#ed7953"
             ],
             [
              0.7777777777777778,
              "#fb9f3a"
             ],
             [
              0.8888888888888888,
              "#fdca26"
             ],
             [
              1,
              "#f0f921"
             ]
            ],
            "type": "histogram2d"
           }
          ],
          "histogram2dcontour": [
           {
            "colorbar": {
             "outlinewidth": 0,
             "ticks": ""
            },
            "colorscale": [
             [
              0,
              "#0d0887"
             ],
             [
              0.1111111111111111,
              "#46039f"
             ],
             [
              0.2222222222222222,
              "#7201a8"
             ],
             [
              0.3333333333333333,
              "#9c179e"
             ],
             [
              0.4444444444444444,
              "#bd3786"
             ],
             [
              0.5555555555555556,
              "#d8576b"
             ],
             [
              0.6666666666666666,
              "#ed7953"
             ],
             [
              0.7777777777777778,
              "#fb9f3a"
             ],
             [
              0.8888888888888888,
              "#fdca26"
             ],
             [
              1,
              "#f0f921"
             ]
            ],
            "type": "histogram2dcontour"
           }
          ],
          "mesh3d": [
           {
            "colorbar": {
             "outlinewidth": 0,
             "ticks": ""
            },
            "type": "mesh3d"
           }
          ],
          "parcoords": [
           {
            "line": {
             "colorbar": {
              "outlinewidth": 0,
              "ticks": ""
             }
            },
            "type": "parcoords"
           }
          ],
          "pie": [
           {
            "automargin": true,
            "type": "pie"
           }
          ],
          "scatter": [
           {
            "fillpattern": {
             "fillmode": "overlay",
             "size": 10,
             "solidity": 0.2
            },
            "type": "scatter"
           }
          ],
          "scatter3d": [
           {
            "line": {
             "colorbar": {
              "outlinewidth": 0,
              "ticks": ""
             }
            },
            "marker": {
             "colorbar": {
              "outlinewidth": 0,
              "ticks": ""
             }
            },
            "type": "scatter3d"
           }
          ],
          "scattercarpet": [
           {
            "marker": {
             "colorbar": {
              "outlinewidth": 0,
              "ticks": ""
             }
            },
            "type": "scattercarpet"
           }
          ],
          "scattergeo": [
           {
            "marker": {
             "colorbar": {
              "outlinewidth": 0,
              "ticks": ""
             }
            },
            "type": "scattergeo"
           }
          ],
          "scattergl": [
           {
            "marker": {
             "colorbar": {
              "outlinewidth": 0,
              "ticks": ""
             }
            },
            "type": "scattergl"
           }
          ],
          "scattermapbox": [
           {
            "marker": {
             "colorbar": {
              "outlinewidth": 0,
              "ticks": ""
             }
            },
            "type": "scattermapbox"
           }
          ],
          "scatterpolar": [
           {
            "marker": {
             "colorbar": {
              "outlinewidth": 0,
              "ticks": ""
             }
            },
            "type": "scatterpolar"
           }
          ],
          "scatterpolargl": [
           {
            "marker": {
             "colorbar": {
              "outlinewidth": 0,
              "ticks": ""
             }
            },
            "type": "scatterpolargl"
           }
          ],
          "scatterternary": [
           {
            "marker": {
             "colorbar": {
              "outlinewidth": 0,
              "ticks": ""
             }
            },
            "type": "scatterternary"
           }
          ],
          "surface": [
           {
            "colorbar": {
             "outlinewidth": 0,
             "ticks": ""
            },
            "colorscale": [
             [
              0,
              "#0d0887"
             ],
             [
              0.1111111111111111,
              "#46039f"
             ],
             [
              0.2222222222222222,
              "#7201a8"
             ],
             [
              0.3333333333333333,
              "#9c179e"
             ],
             [
              0.4444444444444444,
              "#bd3786"
             ],
             [
              0.5555555555555556,
              "#d8576b"
             ],
             [
              0.6666666666666666,
              "#ed7953"
             ],
             [
              0.7777777777777778,
              "#fb9f3a"
             ],
             [
              0.8888888888888888,
              "#fdca26"
             ],
             [
              1,
              "#f0f921"
             ]
            ],
            "type": "surface"
           }
          ],
          "table": [
           {
            "cells": {
             "fill": {
              "color": "#EBF0F8"
             },
             "line": {
              "color": "white"
             }
            },
            "header": {
             "fill": {
              "color": "#C8D4E3"
             },
             "line": {
              "color": "white"
             }
            },
            "type": "table"
           }
          ]
         },
         "layout": {
          "annotationdefaults": {
           "arrowcolor": "#2a3f5f",
           "arrowhead": 0,
           "arrowwidth": 1
          },
          "autotypenumbers": "strict",
          "coloraxis": {
           "colorbar": {
            "outlinewidth": 0,
            "ticks": ""
           }
          },
          "colorscale": {
           "diverging": [
            [
             0,
             "#8e0152"
            ],
            [
             0.1,
             "#c51b7d"
            ],
            [
             0.2,
             "#de77ae"
            ],
            [
             0.3,
             "#f1b6da"
            ],
            [
             0.4,
             "#fde0ef"
            ],
            [
             0.5,
             "#f7f7f7"
            ],
            [
             0.6,
             "#e6f5d0"
            ],
            [
             0.7,
             "#b8e186"
            ],
            [
             0.8,
             "#7fbc41"
            ],
            [
             0.9,
             "#4d9221"
            ],
            [
             1,
             "#276419"
            ]
           ],
           "sequential": [
            [
             0,
             "#0d0887"
            ],
            [
             0.1111111111111111,
             "#46039f"
            ],
            [
             0.2222222222222222,
             "#7201a8"
            ],
            [
             0.3333333333333333,
             "#9c179e"
            ],
            [
             0.4444444444444444,
             "#bd3786"
            ],
            [
             0.5555555555555556,
             "#d8576b"
            ],
            [
             0.6666666666666666,
             "#ed7953"
            ],
            [
             0.7777777777777778,
             "#fb9f3a"
            ],
            [
             0.8888888888888888,
             "#fdca26"
            ],
            [
             1,
             "#f0f921"
            ]
           ],
           "sequentialminus": [
            [
             0,
             "#0d0887"
            ],
            [
             0.1111111111111111,
             "#46039f"
            ],
            [
             0.2222222222222222,
             "#7201a8"
            ],
            [
             0.3333333333333333,
             "#9c179e"
            ],
            [
             0.4444444444444444,
             "#bd3786"
            ],
            [
             0.5555555555555556,
             "#d8576b"
            ],
            [
             0.6666666666666666,
             "#ed7953"
            ],
            [
             0.7777777777777778,
             "#fb9f3a"
            ],
            [
             0.8888888888888888,
             "#fdca26"
            ],
            [
             1,
             "#f0f921"
            ]
           ]
          },
          "colorway": [
           "#449aba",
           "#8fdff2",
           "#2a3337",
           "#0f5876",
           "#81b8bc",
           "#3d7d82",
           "#9c9c9c",
           "#04545a",
           "#5c5656"
          ],
          "font": {
           "color": "#2a3f5f"
          },
          "geo": {
           "bgcolor": "white",
           "lakecolor": "white",
           "landcolor": "white",
           "showlakes": true,
           "showland": true,
           "subunitcolor": "#C8D4E3"
          },
          "hoverlabel": {
           "align": "left"
          },
          "hovermode": "closest",
          "mapbox": {
           "style": "light"
          },
          "paper_bgcolor": "white",
          "plot_bgcolor": "white",
          "polar": {
           "angularaxis": {
            "gridcolor": "#EBF0F8",
            "linecolor": "#EBF0F8",
            "ticks": ""
           },
           "bgcolor": "white",
           "radialaxis": {
            "gridcolor": "#EBF0F8",
            "linecolor": "#EBF0F8",
            "ticks": ""
           }
          },
          "scene": {
           "xaxis": {
            "backgroundcolor": "white",
            "gridcolor": "#DFE8F3",
            "gridwidth": 2,
            "linecolor": "#EBF0F8",
            "showbackground": true,
            "ticks": "",
            "zerolinecolor": "#EBF0F8"
           },
           "yaxis": {
            "backgroundcolor": "white",
            "gridcolor": "#DFE8F3",
            "gridwidth": 2,
            "linecolor": "#EBF0F8",
            "showbackground": true,
            "ticks": "",
            "zerolinecolor": "#EBF0F8"
           },
           "zaxis": {
            "backgroundcolor": "white",
            "gridcolor": "#DFE8F3",
            "gridwidth": 2,
            "linecolor": "#EBF0F8",
            "showbackground": true,
            "ticks": "",
            "zerolinecolor": "#EBF0F8"
           }
          },
          "shapedefaults": {
           "line": {
            "color": "#2a3f5f"
           }
          },
          "ternary": {
           "aaxis": {
            "gridcolor": "#DFE8F3",
            "linecolor": "#A2B1C6",
            "ticks": ""
           },
           "baxis": {
            "gridcolor": "#DFE8F3",
            "linecolor": "#A2B1C6",
            "ticks": ""
           },
           "bgcolor": "white",
           "caxis": {
            "gridcolor": "#DFE8F3",
            "linecolor": "#A2B1C6",
            "ticks": ""
           }
          },
          "title": {
           "x": 0.05
          },
          "xaxis": {
           "automargin": true,
           "gridcolor": "#EBF0F8",
           "linecolor": "#EBF0F8",
           "ticks": "",
           "title": {
            "standoff": 15
           },
           "zerolinecolor": "#EBF0F8",
           "zerolinewidth": 2
          },
          "yaxis": {
           "automargin": true,
           "gridcolor": "#EBF0F8",
           "linecolor": "#EBF0F8",
           "ticks": "",
           "title": {
            "standoff": 15
           },
           "zerolinecolor": "#EBF0F8",
           "zerolinewidth": 2
          }
         }
        }
       }
      }
     },
     "metadata": {},
     "output_type": "display_data"
    }
   ],
   "source": [
    "row_names = [\"Revenue\", \"Total Expenses\", \"Corporate Tax Due\", \"Loan Repayments Due\", \"HIPU Escrow Account\", \"Loan Income\", \"Equity Income\"]\n",
    "\n",
    "graph_names = [\"Revenue\", \"Capital and Operating Expenses\", \"Corporate Tax\", \"Loan Repayments\", \"HIPU Escrow Account\", \"Loan Draw\", \"Equity Draw\"]\n",
    "\n",
    "traces = [go.Bar(name=gn,x=df.iloc[:, 3:].columns, y=df.iloc[:, 3:].loc[rn] ) for (gn, rn) in zip(graph_names, row_names)]\n",
    "\n",
    "fig = go.Figure(data=traces)\n",
    "# Change the bar mode\n",
    "fig.update_layout(barmode='relative')\n",
    "\n",
    "\n",
    "# operating "
   ]
  },
  {
   "cell_type": "code",
   "execution_count": 166,
   "metadata": {},
   "outputs": [
    {
     "data": {
      "application/vnd.plotly.v1+json": {
       "config": {
        "plotlyServerURL": "https://plotly.com"
       },
       "data": [
        {
         "name": "Revenue",
         "type": "bar",
         "x": [
          "2023-07-01T00:00:00",
          "2024-07-01T00:00:00",
          "2025-07-01T00:00:00"
         ],
         "y": [
          0,
          0,
          0
         ]
        },
        {
         "name": "Capital and Operating Expenses",
         "type": "bar",
         "x": [
          "2023-07-01T00:00:00",
          "2024-07-01T00:00:00",
          "2025-07-01T00:00:00"
         ],
         "y": [
          -104906000,
          -282103500,
          -308843550
         ]
        },
        {
         "name": "Corporate Tax",
         "type": "bar",
         "x": [
          "2023-07-01T00:00:00",
          "2024-07-01T00:00:00",
          "2025-07-01T00:00:00"
         ],
         "y": [
          0,
          0,
          0
         ]
        },
        {
         "name": "Loan Repayments",
         "type": "bar",
         "x": [
          "2023-07-01T00:00:00",
          "2024-07-01T00:00:00",
          "2025-07-01T00:00:00"
         ],
         "y": [
          0,
          0,
          0
         ]
        },
        {
         "name": "HIPU Escrow Account",
         "type": "bar",
         "x": [
          "2023-07-01T00:00:00",
          "2024-07-01T00:00:00",
          "2025-07-01T00:00:00"
         ],
         "y": [
          -7000000,
          0,
          0
         ]
        },
        {
         "name": "Loan Draw",
         "type": "bar",
         "x": [
          "2023-07-01T00:00:00",
          "2024-07-01T00:00:00",
          "2025-07-01T00:00:00"
         ],
         "y": [
          550062792,
          0,
          0
         ]
        },
        {
         "name": "Equity Draw",
         "type": "bar",
         "x": [
          "2023-07-01T00:00:00",
          "2024-07-01T00:00:00",
          "2025-07-01T00:00:00"
         ],
         "y": [
          235741196.57142863,
          0,
          0
         ]
        }
       ],
       "layout": {
        "barmode": "relative",
        "template": {
         "data": {
          "bar": [
           {
            "error_x": {
             "color": "#2a3f5f"
            },
            "error_y": {
             "color": "#2a3f5f"
            },
            "marker": {
             "line": {
              "color": "white",
              "width": 0.5
             },
             "pattern": {
              "fillmode": "overlay",
              "size": 10,
              "solidity": 0.2
             }
            },
            "type": "bar"
           }
          ],
          "barpolar": [
           {
            "marker": {
             "line": {
              "color": "white",
              "width": 0.5
             },
             "pattern": {
              "fillmode": "overlay",
              "size": 10,
              "solidity": 0.2
             }
            },
            "type": "barpolar"
           }
          ],
          "carpet": [
           {
            "aaxis": {
             "endlinecolor": "#2a3f5f",
             "gridcolor": "#C8D4E3",
             "linecolor": "#C8D4E3",
             "minorgridcolor": "#C8D4E3",
             "startlinecolor": "#2a3f5f"
            },
            "baxis": {
             "endlinecolor": "#2a3f5f",
             "gridcolor": "#C8D4E3",
             "linecolor": "#C8D4E3",
             "minorgridcolor": "#C8D4E3",
             "startlinecolor": "#2a3f5f"
            },
            "type": "carpet"
           }
          ],
          "choropleth": [
           {
            "colorbar": {
             "outlinewidth": 0,
             "ticks": ""
            },
            "type": "choropleth"
           }
          ],
          "contour": [
           {
            "colorbar": {
             "outlinewidth": 0,
             "ticks": ""
            },
            "colorscale": [
             [
              0,
              "#0d0887"
             ],
             [
              0.1111111111111111,
              "#46039f"
             ],
             [
              0.2222222222222222,
              "#7201a8"
             ],
             [
              0.3333333333333333,
              "#9c179e"
             ],
             [
              0.4444444444444444,
              "#bd3786"
             ],
             [
              0.5555555555555556,
              "#d8576b"
             ],
             [
              0.6666666666666666,
              "#ed7953"
             ],
             [
              0.7777777777777778,
              "#fb9f3a"
             ],
             [
              0.8888888888888888,
              "#fdca26"
             ],
             [
              1,
              "#f0f921"
             ]
            ],
            "type": "contour"
           }
          ],
          "contourcarpet": [
           {
            "colorbar": {
             "outlinewidth": 0,
             "ticks": ""
            },
            "type": "contourcarpet"
           }
          ],
          "heatmap": [
           {
            "colorbar": {
             "outlinewidth": 0,
             "ticks": ""
            },
            "colorscale": [
             [
              0,
              "#0d0887"
             ],
             [
              0.1111111111111111,
              "#46039f"
             ],
             [
              0.2222222222222222,
              "#7201a8"
             ],
             [
              0.3333333333333333,
              "#9c179e"
             ],
             [
              0.4444444444444444,
              "#bd3786"
             ],
             [
              0.5555555555555556,
              "#d8576b"
             ],
             [
              0.6666666666666666,
              "#ed7953"
             ],
             [
              0.7777777777777778,
              "#fb9f3a"
             ],
             [
              0.8888888888888888,
              "#fdca26"
             ],
             [
              1,
              "#f0f921"
             ]
            ],
            "type": "heatmap"
           }
          ],
          "heatmapgl": [
           {
            "colorbar": {
             "outlinewidth": 0,
             "ticks": ""
            },
            "colorscale": [
             [
              0,
              "#0d0887"
             ],
             [
              0.1111111111111111,
              "#46039f"
             ],
             [
              0.2222222222222222,
              "#7201a8"
             ],
             [
              0.3333333333333333,
              "#9c179e"
             ],
             [
              0.4444444444444444,
              "#bd3786"
             ],
             [
              0.5555555555555556,
              "#d8576b"
             ],
             [
              0.6666666666666666,
              "#ed7953"
             ],
             [
              0.7777777777777778,
              "#fb9f3a"
             ],
             [
              0.8888888888888888,
              "#fdca26"
             ],
             [
              1,
              "#f0f921"
             ]
            ],
            "type": "heatmapgl"
           }
          ],
          "histogram": [
           {
            "marker": {
             "pattern": {
              "fillmode": "overlay",
              "size": 10,
              "solidity": 0.2
             }
            },
            "type": "histogram"
           }
          ],
          "histogram2d": [
           {
            "colorbar": {
             "outlinewidth": 0,
             "ticks": ""
            },
            "colorscale": [
             [
              0,
              "#0d0887"
             ],
             [
              0.1111111111111111,
              "#46039f"
             ],
             [
              0.2222222222222222,
              "#7201a8"
             ],
             [
              0.3333333333333333,
              "#9c179e"
             ],
             [
              0.4444444444444444,
              "#bd3786"
             ],
             [
              0.5555555555555556,
              "#d8576b"
             ],
             [
              0.6666666666666666,
              "#ed7953"
             ],
             [
              0.7777777777777778,
              "#fb9f3a"
             ],
             [
              0.8888888888888888,
              "#fdca26"
             ],
             [
              1,
              "#f0f921"
             ]
            ],
            "type": "histogram2d"
           }
          ],
          "histogram2dcontour": [
           {
            "colorbar": {
             "outlinewidth": 0,
             "ticks": ""
            },
            "colorscale": [
             [
              0,
              "#0d0887"
             ],
             [
              0.1111111111111111,
              "#46039f"
             ],
             [
              0.2222222222222222,
              "#7201a8"
             ],
             [
              0.3333333333333333,
              "#9c179e"
             ],
             [
              0.4444444444444444,
              "#bd3786"
             ],
             [
              0.5555555555555556,
              "#d8576b"
             ],
             [
              0.6666666666666666,
              "#ed7953"
             ],
             [
              0.7777777777777778,
              "#fb9f3a"
             ],
             [
              0.8888888888888888,
              "#fdca26"
             ],
             [
              1,
              "#f0f921"
             ]
            ],
            "type": "histogram2dcontour"
           }
          ],
          "mesh3d": [
           {
            "colorbar": {
             "outlinewidth": 0,
             "ticks": ""
            },
            "type": "mesh3d"
           }
          ],
          "parcoords": [
           {
            "line": {
             "colorbar": {
              "outlinewidth": 0,
              "ticks": ""
             }
            },
            "type": "parcoords"
           }
          ],
          "pie": [
           {
            "automargin": true,
            "type": "pie"
           }
          ],
          "scatter": [
           {
            "fillpattern": {
             "fillmode": "overlay",
             "size": 10,
             "solidity": 0.2
            },
            "type": "scatter"
           }
          ],
          "scatter3d": [
           {
            "line": {
             "colorbar": {
              "outlinewidth": 0,
              "ticks": ""
             }
            },
            "marker": {
             "colorbar": {
              "outlinewidth": 0,
              "ticks": ""
             }
            },
            "type": "scatter3d"
           }
          ],
          "scattercarpet": [
           {
            "marker": {
             "colorbar": {
              "outlinewidth": 0,
              "ticks": ""
             }
            },
            "type": "scattercarpet"
           }
          ],
          "scattergeo": [
           {
            "marker": {
             "colorbar": {
              "outlinewidth": 0,
              "ticks": ""
             }
            },
            "type": "scattergeo"
           }
          ],
          "scattergl": [
           {
            "marker": {
             "colorbar": {
              "outlinewidth": 0,
              "ticks": ""
             }
            },
            "type": "scattergl"
           }
          ],
          "scattermapbox": [
           {
            "marker": {
             "colorbar": {
              "outlinewidth": 0,
              "ticks": ""
             }
            },
            "type": "scattermapbox"
           }
          ],
          "scatterpolar": [
           {
            "marker": {
             "colorbar": {
              "outlinewidth": 0,
              "ticks": ""
             }
            },
            "type": "scatterpolar"
           }
          ],
          "scatterpolargl": [
           {
            "marker": {
             "colorbar": {
              "outlinewidth": 0,
              "ticks": ""
             }
            },
            "type": "scatterpolargl"
           }
          ],
          "scatterternary": [
           {
            "marker": {
             "colorbar": {
              "outlinewidth": 0,
              "ticks": ""
             }
            },
            "type": "scatterternary"
           }
          ],
          "surface": [
           {
            "colorbar": {
             "outlinewidth": 0,
             "ticks": ""
            },
            "colorscale": [
             [
              0,
              "#0d0887"
             ],
             [
              0.1111111111111111,
              "#46039f"
             ],
             [
              0.2222222222222222,
              "#7201a8"
             ],
             [
              0.3333333333333333,
              "#9c179e"
             ],
             [
              0.4444444444444444,
              "#bd3786"
             ],
             [
              0.5555555555555556,
              "#d8576b"
             ],
             [
              0.6666666666666666,
              "#ed7953"
             ],
             [
              0.7777777777777778,
              "#fb9f3a"
             ],
             [
              0.8888888888888888,
              "#fdca26"
             ],
             [
              1,
              "#f0f921"
             ]
            ],
            "type": "surface"
           }
          ],
          "table": [
           {
            "cells": {
             "fill": {
              "color": "#EBF0F8"
             },
             "line": {
              "color": "white"
             }
            },
            "header": {
             "fill": {
              "color": "#C8D4E3"
             },
             "line": {
              "color": "white"
             }
            },
            "type": "table"
           }
          ]
         },
         "layout": {
          "annotationdefaults": {
           "arrowcolor": "#2a3f5f",
           "arrowhead": 0,
           "arrowwidth": 1
          },
          "autotypenumbers": "strict",
          "coloraxis": {
           "colorbar": {
            "outlinewidth": 0,
            "ticks": ""
           }
          },
          "colorscale": {
           "diverging": [
            [
             0,
             "#8e0152"
            ],
            [
             0.1,
             "#c51b7d"
            ],
            [
             0.2,
             "#de77ae"
            ],
            [
             0.3,
             "#f1b6da"
            ],
            [
             0.4,
             "#fde0ef"
            ],
            [
             0.5,
             "#f7f7f7"
            ],
            [
             0.6,
             "#e6f5d0"
            ],
            [
             0.7,
             "#b8e186"
            ],
            [
             0.8,
             "#7fbc41"
            ],
            [
             0.9,
             "#4d9221"
            ],
            [
             1,
             "#276419"
            ]
           ],
           "sequential": [
            [
             0,
             "#0d0887"
            ],
            [
             0.1111111111111111,
             "#46039f"
            ],
            [
             0.2222222222222222,
             "#7201a8"
            ],
            [
             0.3333333333333333,
             "#9c179e"
            ],
            [
             0.4444444444444444,
             "#bd3786"
            ],
            [
             0.5555555555555556,
             "#d8576b"
            ],
            [
             0.6666666666666666,
             "#ed7953"
            ],
            [
             0.7777777777777778,
             "#fb9f3a"
            ],
            [
             0.8888888888888888,
             "#fdca26"
            ],
            [
             1,
             "#f0f921"
            ]
           ],
           "sequentialminus": [
            [
             0,
             "#0d0887"
            ],
            [
             0.1111111111111111,
             "#46039f"
            ],
            [
             0.2222222222222222,
             "#7201a8"
            ],
            [
             0.3333333333333333,
             "#9c179e"
            ],
            [
             0.4444444444444444,
             "#bd3786"
            ],
            [
             0.5555555555555556,
             "#d8576b"
            ],
            [
             0.6666666666666666,
             "#ed7953"
            ],
            [
             0.7777777777777778,
             "#fb9f3a"
            ],
            [
             0.8888888888888888,
             "#fdca26"
            ],
            [
             1,
             "#f0f921"
            ]
           ]
          },
          "colorway": [
           "#449aba",
           "#8fdff2",
           "#2a3337",
           "#0f5876",
           "#81b8bc",
           "#3d7d82",
           "#9c9c9c",
           "#04545a",
           "#5c5656"
          ],
          "font": {
           "color": "#2a3f5f"
          },
          "geo": {
           "bgcolor": "white",
           "lakecolor": "white",
           "landcolor": "white",
           "showlakes": true,
           "showland": true,
           "subunitcolor": "#C8D4E3"
          },
          "hoverlabel": {
           "align": "left"
          },
          "hovermode": "closest",
          "mapbox": {
           "style": "light"
          },
          "paper_bgcolor": "white",
          "plot_bgcolor": "white",
          "polar": {
           "angularaxis": {
            "gridcolor": "#EBF0F8",
            "linecolor": "#EBF0F8",
            "ticks": ""
           },
           "bgcolor": "white",
           "radialaxis": {
            "gridcolor": "#EBF0F8",
            "linecolor": "#EBF0F8",
            "ticks": ""
           }
          },
          "scene": {
           "xaxis": {
            "backgroundcolor": "white",
            "gridcolor": "#DFE8F3",
            "gridwidth": 2,
            "linecolor": "#EBF0F8",
            "showbackground": true,
            "ticks": "",
            "zerolinecolor": "#EBF0F8"
           },
           "yaxis": {
            "backgroundcolor": "white",
            "gridcolor": "#DFE8F3",
            "gridwidth": 2,
            "linecolor": "#EBF0F8",
            "showbackground": true,
            "ticks": "",
            "zerolinecolor": "#EBF0F8"
           },
           "zaxis": {
            "backgroundcolor": "white",
            "gridcolor": "#DFE8F3",
            "gridwidth": 2,
            "linecolor": "#EBF0F8",
            "showbackground": true,
            "ticks": "",
            "zerolinecolor": "#EBF0F8"
           }
          },
          "shapedefaults": {
           "line": {
            "color": "#2a3f5f"
           }
          },
          "ternary": {
           "aaxis": {
            "gridcolor": "#DFE8F3",
            "linecolor": "#A2B1C6",
            "ticks": ""
           },
           "baxis": {
            "gridcolor": "#DFE8F3",
            "linecolor": "#A2B1C6",
            "ticks": ""
           },
           "bgcolor": "white",
           "caxis": {
            "gridcolor": "#DFE8F3",
            "linecolor": "#A2B1C6",
            "ticks": ""
           }
          },
          "title": {
           "x": 0.05
          },
          "xaxis": {
           "automargin": true,
           "gridcolor": "#EBF0F8",
           "linecolor": "#EBF0F8",
           "ticks": "",
           "title": {
            "standoff": 15
           },
           "zerolinecolor": "#EBF0F8",
           "zerolinewidth": 2
          },
          "yaxis": {
           "automargin": true,
           "gridcolor": "#EBF0F8",
           "linecolor": "#EBF0F8",
           "ticks": "",
           "title": {
            "standoff": 15
           },
           "zerolinecolor": "#EBF0F8",
           "zerolinewidth": 2
          }
         }
        }
       }
      }
     },
     "metadata": {},
     "output_type": "display_data"
    }
   ],
   "source": [
    "traces = [go.Bar(name=gn,x=df.iloc[:, 0:3].columns, y=df.iloc[:, 0:3].loc[rn] ) for (gn, rn) in zip(graph_names, row_names)]\n",
    "\n",
    "fig = go.Figure(data=traces)\n",
    "# Change the bar mode\n",
    "fig.update_layout(barmode='relative')\n"
   ]
  },
  {
   "cell_type": "code",
   "execution_count": null,
   "metadata": {},
   "outputs": [],
   "source": [
    "traces = [go.Bar(name=gn,x=df.columns, y=df.loc[rn] ) for (gn, rn) in zip(graph_names, row_names)]\n",
    "\n",
    "fig = go.Figure(data=traces)\n",
    "# Change the bar mode\n",
    "fig.update_layout(barmode='relative')"
   ]
  },
  {
   "cell_type": "code",
   "execution_count": 163,
   "metadata": {},
   "outputs": [
    {
     "data": {
      "application/vnd.plotly.v1+json": {
       "config": {
        "plotlyServerURL": "https://plotly.com"
       },
       "data": [
        {
         "name": "Cash Flow",
         "type": "bar",
         "x": [
          "2023-07-01T00:00:00",
          "2024-07-01T00:00:00",
          "2025-07-01T00:00:00",
          "2026-07-01T00:00:00",
          "2027-07-01T00:00:00",
          "2028-07-01T00:00:00",
          "2029-07-01T00:00:00",
          "2030-07-01T00:00:00",
          "2031-07-01T00:00:00",
          "2032-07-01T00:00:00",
          "2033-07-01T00:00:00",
          "2034-07-01T00:00:00",
          "2035-07-01T00:00:00",
          "2036-07-01T00:00:00",
          "2037-07-01T00:00:00",
          "2038-07-01T00:00:00",
          "2039-07-01T00:00:00",
          "2040-07-01T00:00:00",
          "2041-07-01T00:00:00",
          "2042-07-01T00:00:00",
          "2043-07-01T00:00:00",
          "2044-07-01T00:00:00",
          "2045-07-01T00:00:00"
         ],
         "y": [
          438156792,
          -282103500,
          -308843550,
          -6384916.25,
          24602837.053125,
          24460051.896953113,
          31385791.66587697,
          31677825.153223857,
          37955766.81691447,
          39752808.68775286,
          44988815.86692983,
          47191228.17564243,
          54363494.121208996,
          56632039.145693436,
          63315619.72484669,
          66492176.38713285,
          73003992.22473773,
          77100184.37076104,
          83470949.61927672,
          89013177.26761688,
          84077565.26309404,
          90582562.73943748,
          118920952.63148448
         ]
        },
        {
         "name": "Cash Balance",
         "type": "bar",
         "x": [
          "2023-07-01T00:00:00",
          "2024-07-01T00:00:00",
          "2025-07-01T00:00:00",
          "2026-07-01T00:00:00",
          "2027-07-01T00:00:00",
          "2028-07-01T00:00:00",
          "2029-07-01T00:00:00",
          "2030-07-01T00:00:00",
          "2031-07-01T00:00:00",
          "2032-07-01T00:00:00",
          "2033-07-01T00:00:00",
          "2034-07-01T00:00:00",
          "2035-07-01T00:00:00",
          "2036-07-01T00:00:00",
          "2037-07-01T00:00:00",
          "2038-07-01T00:00:00",
          "2039-07-01T00:00:00",
          "2040-07-01T00:00:00",
          "2041-07-01T00:00:00",
          "2042-07-01T00:00:00",
          "2043-07-01T00:00:00",
          "2044-07-01T00:00:00",
          "2045-07-01T00:00:00"
         ],
         "y": [
          438156792,
          156053292,
          -152790258,
          -159175174.25,
          -134572337.196875,
          -110112285.2999219,
          -78726493.63404493,
          -47048668.48082107,
          -9092901.663906604,
          30659907.023846254,
          75648722.89077608,
          122839951.06641851,
          177203445.1876275,
          233835484.33332092,
          297151104.0581676,
          363643280.44530046,
          436647272.6700382,
          513747457.04079926,
          597218406.660076,
          686231583.9276929,
          770309149.190787,
          860891711.9302244,
          979812664.5617089
         ]
        }
       ],
       "layout": {
        "template": {
         "data": {
          "bar": [
           {
            "error_x": {
             "color": "#2a3f5f"
            },
            "error_y": {
             "color": "#2a3f5f"
            },
            "marker": {
             "line": {
              "color": "white",
              "width": 0.5
             },
             "pattern": {
              "fillmode": "overlay",
              "size": 10,
              "solidity": 0.2
             }
            },
            "type": "bar"
           }
          ],
          "barpolar": [
           {
            "marker": {
             "line": {
              "color": "white",
              "width": 0.5
             },
             "pattern": {
              "fillmode": "overlay",
              "size": 10,
              "solidity": 0.2
             }
            },
            "type": "barpolar"
           }
          ],
          "carpet": [
           {
            "aaxis": {
             "endlinecolor": "#2a3f5f",
             "gridcolor": "#C8D4E3",
             "linecolor": "#C8D4E3",
             "minorgridcolor": "#C8D4E3",
             "startlinecolor": "#2a3f5f"
            },
            "baxis": {
             "endlinecolor": "#2a3f5f",
             "gridcolor": "#C8D4E3",
             "linecolor": "#C8D4E3",
             "minorgridcolor": "#C8D4E3",
             "startlinecolor": "#2a3f5f"
            },
            "type": "carpet"
           }
          ],
          "choropleth": [
           {
            "colorbar": {
             "outlinewidth": 0,
             "ticks": ""
            },
            "type": "choropleth"
           }
          ],
          "contour": [
           {
            "colorbar": {
             "outlinewidth": 0,
             "ticks": ""
            },
            "colorscale": [
             [
              0,
              "#0d0887"
             ],
             [
              0.1111111111111111,
              "#46039f"
             ],
             [
              0.2222222222222222,
              "#7201a8"
             ],
             [
              0.3333333333333333,
              "#9c179e"
             ],
             [
              0.4444444444444444,
              "#bd3786"
             ],
             [
              0.5555555555555556,
              "#d8576b"
             ],
             [
              0.6666666666666666,
              "#ed7953"
             ],
             [
              0.7777777777777778,
              "#fb9f3a"
             ],
             [
              0.8888888888888888,
              "#fdca26"
             ],
             [
              1,
              "#f0f921"
             ]
            ],
            "type": "contour"
           }
          ],
          "contourcarpet": [
           {
            "colorbar": {
             "outlinewidth": 0,
             "ticks": ""
            },
            "type": "contourcarpet"
           }
          ],
          "heatmap": [
           {
            "colorbar": {
             "outlinewidth": 0,
             "ticks": ""
            },
            "colorscale": [
             [
              0,
              "#0d0887"
             ],
             [
              0.1111111111111111,
              "#46039f"
             ],
             [
              0.2222222222222222,
              "#7201a8"
             ],
             [
              0.3333333333333333,
              "#9c179e"
             ],
             [
              0.4444444444444444,
              "#bd3786"
             ],
             [
              0.5555555555555556,
              "#d8576b"
             ],
             [
              0.6666666666666666,
              "#ed7953"
             ],
             [
              0.7777777777777778,
              "#fb9f3a"
             ],
             [
              0.8888888888888888,
              "#fdca26"
             ],
             [
              1,
              "#f0f921"
             ]
            ],
            "type": "heatmap"
           }
          ],
          "heatmapgl": [
           {
            "colorbar": {
             "outlinewidth": 0,
             "ticks": ""
            },
            "colorscale": [
             [
              0,
              "#0d0887"
             ],
             [
              0.1111111111111111,
              "#46039f"
             ],
             [
              0.2222222222222222,
              "#7201a8"
             ],
             [
              0.3333333333333333,
              "#9c179e"
             ],
             [
              0.4444444444444444,
              "#bd3786"
             ],
             [
              0.5555555555555556,
              "#d8576b"
             ],
             [
              0.6666666666666666,
              "#ed7953"
             ],
             [
              0.7777777777777778,
              "#fb9f3a"
             ],
             [
              0.8888888888888888,
              "#fdca26"
             ],
             [
              1,
              "#f0f921"
             ]
            ],
            "type": "heatmapgl"
           }
          ],
          "histogram": [
           {
            "marker": {
             "pattern": {
              "fillmode": "overlay",
              "size": 10,
              "solidity": 0.2
             }
            },
            "type": "histogram"
           }
          ],
          "histogram2d": [
           {
            "colorbar": {
             "outlinewidth": 0,
             "ticks": ""
            },
            "colorscale": [
             [
              0,
              "#0d0887"
             ],
             [
              0.1111111111111111,
              "#46039f"
             ],
             [
              0.2222222222222222,
              "#7201a8"
             ],
             [
              0.3333333333333333,
              "#9c179e"
             ],
             [
              0.4444444444444444,
              "#bd3786"
             ],
             [
              0.5555555555555556,
              "#d8576b"
             ],
             [
              0.6666666666666666,
              "#ed7953"
             ],
             [
              0.7777777777777778,
              "#fb9f3a"
             ],
             [
              0.8888888888888888,
              "#fdca26"
             ],
             [
              1,
              "#f0f921"
             ]
            ],
            "type": "histogram2d"
           }
          ],
          "histogram2dcontour": [
           {
            "colorbar": {
             "outlinewidth": 0,
             "ticks": ""
            },
            "colorscale": [
             [
              0,
              "#0d0887"
             ],
             [
              0.1111111111111111,
              "#46039f"
             ],
             [
              0.2222222222222222,
              "#7201a8"
             ],
             [
              0.3333333333333333,
              "#9c179e"
             ],
             [
              0.4444444444444444,
              "#bd3786"
             ],
             [
              0.5555555555555556,
              "#d8576b"
             ],
             [
              0.6666666666666666,
              "#ed7953"
             ],
             [
              0.7777777777777778,
              "#fb9f3a"
             ],
             [
              0.8888888888888888,
              "#fdca26"
             ],
             [
              1,
              "#f0f921"
             ]
            ],
            "type": "histogram2dcontour"
           }
          ],
          "mesh3d": [
           {
            "colorbar": {
             "outlinewidth": 0,
             "ticks": ""
            },
            "type": "mesh3d"
           }
          ],
          "parcoords": [
           {
            "line": {
             "colorbar": {
              "outlinewidth": 0,
              "ticks": ""
             }
            },
            "type": "parcoords"
           }
          ],
          "pie": [
           {
            "automargin": true,
            "type": "pie"
           }
          ],
          "scatter": [
           {
            "fillpattern": {
             "fillmode": "overlay",
             "size": 10,
             "solidity": 0.2
            },
            "type": "scatter"
           }
          ],
          "scatter3d": [
           {
            "line": {
             "colorbar": {
              "outlinewidth": 0,
              "ticks": ""
             }
            },
            "marker": {
             "colorbar": {
              "outlinewidth": 0,
              "ticks": ""
             }
            },
            "type": "scatter3d"
           }
          ],
          "scattercarpet": [
           {
            "marker": {
             "colorbar": {
              "outlinewidth": 0,
              "ticks": ""
             }
            },
            "type": "scattercarpet"
           }
          ],
          "scattergeo": [
           {
            "marker": {
             "colorbar": {
              "outlinewidth": 0,
              "ticks": ""
             }
            },
            "type": "scattergeo"
           }
          ],
          "scattergl": [
           {
            "marker": {
             "colorbar": {
              "outlinewidth": 0,
              "ticks": ""
             }
            },
            "type": "scattergl"
           }
          ],
          "scattermapbox": [
           {
            "marker": {
             "colorbar": {
              "outlinewidth": 0,
              "ticks": ""
             }
            },
            "type": "scattermapbox"
           }
          ],
          "scatterpolar": [
           {
            "marker": {
             "colorbar": {
              "outlinewidth": 0,
              "ticks": ""
             }
            },
            "type": "scatterpolar"
           }
          ],
          "scatterpolargl": [
           {
            "marker": {
             "colorbar": {
              "outlinewidth": 0,
              "ticks": ""
             }
            },
            "type": "scatterpolargl"
           }
          ],
          "scatterternary": [
           {
            "marker": {
             "colorbar": {
              "outlinewidth": 0,
              "ticks": ""
             }
            },
            "type": "scatterternary"
           }
          ],
          "surface": [
           {
            "colorbar": {
             "outlinewidth": 0,
             "ticks": ""
            },
            "colorscale": [
             [
              0,
              "#0d0887"
             ],
             [
              0.1111111111111111,
              "#46039f"
             ],
             [
              0.2222222222222222,
              "#7201a8"
             ],
             [
              0.3333333333333333,
              "#9c179e"
             ],
             [
              0.4444444444444444,
              "#bd3786"
             ],
             [
              0.5555555555555556,
              "#d8576b"
             ],
             [
              0.6666666666666666,
              "#ed7953"
             ],
             [
              0.7777777777777778,
              "#fb9f3a"
             ],
             [
              0.8888888888888888,
              "#fdca26"
             ],
             [
              1,
              "#f0f921"
             ]
            ],
            "type": "surface"
           }
          ],
          "table": [
           {
            "cells": {
             "fill": {
              "color": "#EBF0F8"
             },
             "line": {
              "color": "white"
             }
            },
            "header": {
             "fill": {
              "color": "#C8D4E3"
             },
             "line": {
              "color": "white"
             }
            },
            "type": "table"
           }
          ]
         },
         "layout": {
          "annotationdefaults": {
           "arrowcolor": "#2a3f5f",
           "arrowhead": 0,
           "arrowwidth": 1
          },
          "autotypenumbers": "strict",
          "coloraxis": {
           "colorbar": {
            "outlinewidth": 0,
            "ticks": ""
           }
          },
          "colorscale": {
           "diverging": [
            [
             0,
             "#8e0152"
            ],
            [
             0.1,
             "#c51b7d"
            ],
            [
             0.2,
             "#de77ae"
            ],
            [
             0.3,
             "#f1b6da"
            ],
            [
             0.4,
             "#fde0ef"
            ],
            [
             0.5,
             "#f7f7f7"
            ],
            [
             0.6,
             "#e6f5d0"
            ],
            [
             0.7,
             "#b8e186"
            ],
            [
             0.8,
             "#7fbc41"
            ],
            [
             0.9,
             "#4d9221"
            ],
            [
             1,
             "#276419"
            ]
           ],
           "sequential": [
            [
             0,
             "#0d0887"
            ],
            [
             0.1111111111111111,
             "#46039f"
            ],
            [
             0.2222222222222222,
             "#7201a8"
            ],
            [
             0.3333333333333333,
             "#9c179e"
            ],
            [
             0.4444444444444444,
             "#bd3786"
            ],
            [
             0.5555555555555556,
             "#d8576b"
            ],
            [
             0.6666666666666666,
             "#ed7953"
            ],
            [
             0.7777777777777778,
             "#fb9f3a"
            ],
            [
             0.8888888888888888,
             "#fdca26"
            ],
            [
             1,
             "#f0f921"
            ]
           ],
           "sequentialminus": [
            [
             0,
             "#0d0887"
            ],
            [
             0.1111111111111111,
             "#46039f"
            ],
            [
             0.2222222222222222,
             "#7201a8"
            ],
            [
             0.3333333333333333,
             "#9c179e"
            ],
            [
             0.4444444444444444,
             "#bd3786"
            ],
            [
             0.5555555555555556,
             "#d8576b"
            ],
            [
             0.6666666666666666,
             "#ed7953"
            ],
            [
             0.7777777777777778,
             "#fb9f3a"
            ],
            [
             0.8888888888888888,
             "#fdca26"
            ],
            [
             1,
             "#f0f921"
            ]
           ]
          },
          "colorway": [
           "#449aba",
           "#8fdff2",
           "#2a3337",
           "#0f5876",
           "#81b8bc",
           "#3d7d82",
           "#9c9c9c",
           "#04545a",
           "#5c5656"
          ],
          "font": {
           "color": "#2a3f5f"
          },
          "geo": {
           "bgcolor": "white",
           "lakecolor": "white",
           "landcolor": "white",
           "showlakes": true,
           "showland": true,
           "subunitcolor": "#C8D4E3"
          },
          "hoverlabel": {
           "align": "left"
          },
          "hovermode": "closest",
          "mapbox": {
           "style": "light"
          },
          "paper_bgcolor": "white",
          "plot_bgcolor": "white",
          "polar": {
           "angularaxis": {
            "gridcolor": "#EBF0F8",
            "linecolor": "#EBF0F8",
            "ticks": ""
           },
           "bgcolor": "white",
           "radialaxis": {
            "gridcolor": "#EBF0F8",
            "linecolor": "#EBF0F8",
            "ticks": ""
           }
          },
          "scene": {
           "xaxis": {
            "backgroundcolor": "white",
            "gridcolor": "#DFE8F3",
            "gridwidth": 2,
            "linecolor": "#EBF0F8",
            "showbackground": true,
            "ticks": "",
            "zerolinecolor": "#EBF0F8"
           },
           "yaxis": {
            "backgroundcolor": "white",
            "gridcolor": "#DFE8F3",
            "gridwidth": 2,
            "linecolor": "#EBF0F8",
            "showbackground": true,
            "ticks": "",
            "zerolinecolor": "#EBF0F8"
           },
           "zaxis": {
            "backgroundcolor": "white",
            "gridcolor": "#DFE8F3",
            "gridwidth": 2,
            "linecolor": "#EBF0F8",
            "showbackground": true,
            "ticks": "",
            "zerolinecolor": "#EBF0F8"
           }
          },
          "shapedefaults": {
           "line": {
            "color": "#2a3f5f"
           }
          },
          "ternary": {
           "aaxis": {
            "gridcolor": "#DFE8F3",
            "linecolor": "#A2B1C6",
            "ticks": ""
           },
           "baxis": {
            "gridcolor": "#DFE8F3",
            "linecolor": "#A2B1C6",
            "ticks": ""
           },
           "bgcolor": "white",
           "caxis": {
            "gridcolor": "#DFE8F3",
            "linecolor": "#A2B1C6",
            "ticks": ""
           }
          },
          "title": {
           "x": 0.05
          },
          "xaxis": {
           "automargin": true,
           "gridcolor": "#EBF0F8",
           "linecolor": "#EBF0F8",
           "ticks": "",
           "title": {
            "standoff": 15
           },
           "zerolinecolor": "#EBF0F8",
           "zerolinewidth": 2
          },
          "yaxis": {
           "automargin": true,
           "gridcolor": "#EBF0F8",
           "linecolor": "#EBF0F8",
           "ticks": "",
           "title": {
            "standoff": 15
           },
           "zerolinecolor": "#EBF0F8",
           "zerolinewidth": 2
          }
         }
        }
       }
      }
     },
     "metadata": {},
     "output_type": "display_data"
    }
   ],
   "source": [
    "# cash balance \n",
    "graph_names = [\"Cash Flow\", \"Cash Balance\"]\n",
    "row_names = [\"Cash Flow\", \"Cumulative Cash Flow\"]\n",
    "\n",
    "traces = [go.Bar(name=gn,x=df.columns, y=df.loc[rn] ) for (gn, rn) in zip(graph_names, row_names)]\n",
    "\n",
    "fig = go.Figure(data=traces)\n",
    "\n",
    "fig.show()"
   ]
  },
  {
   "cell_type": "code",
   "execution_count": 61,
   "metadata": {},
   "outputs": [
    {
     "data": {
      "application/vnd.plotly.v1+json": {
       "config": {
        "plotlyServerURL": "https://plotly.com"
       },
       "data": [
        {
         "name": "Cash Flow",
         "type": "bar",
         "x": [
          "Financial Close - July 2023",
          "Construction Year 1 - July 2024",
          "Commisioning and Construction Year 2 - July 2025",
          "July 2026 - Year 1",
          "July 2027 - Year 2",
          "July 2028 - Year 3",
          "July 2029 - Year 4",
          "July 2030 - Year 5",
          "July 2031 - Year 6",
          "July 2032 - Year 7",
          "July 2033 - Year 8",
          "July 2034 - Year 9",
          "July 2035 - Year 10",
          "July 2036 - Year 11",
          "July 2037 - Year 12",
          "July 2038 - Year 13",
          "July 2039 - Year 14",
          "July 2040 - Year 15",
          "July 2041 - Year 16",
          "July 2042 - Year 17",
          "July 2043 - Year 18",
          "July 2044 - Year 19",
          "July 2045 - Year 20"
         ],
         "y": [
          438156792,
          -282103500,
          -308843550,
          -6384916.25,
          24602837.053125,
          24460051.896953113,
          31385791.66587697,
          31677825.153223857,
          37955766.81691447,
          39752808.68775286,
          44988815.86692983,
          47191228.17564243,
          54363494.121208996,
          56632039.145693436,
          63315619.72484669,
          66492176.38713285,
          73003992.22473773,
          77100184.37076104,
          83470949.61927672,
          89013177.26761688,
          84077565.26309404,
          90582562.73943748,
          118920952.63148448
         ]
        },
        {
         "name": "Cash Balance",
         "type": "bar",
         "x": [
          "Financial Close - July 2023",
          "Construction Year 1 - July 2024",
          "Commisioning and Construction Year 2 - July 2025",
          "July 2026 - Year 1",
          "July 2027 - Year 2",
          "July 2028 - Year 3",
          "July 2029 - Year 4",
          "July 2030 - Year 5",
          "July 2031 - Year 6",
          "July 2032 - Year 7",
          "July 2033 - Year 8",
          "July 2034 - Year 9",
          "July 2035 - Year 10",
          "July 2036 - Year 11",
          "July 2037 - Year 12",
          "July 2038 - Year 13",
          "July 2039 - Year 14",
          "July 2040 - Year 15",
          "July 2041 - Year 16",
          "July 2042 - Year 17",
          "July 2043 - Year 18",
          "July 2044 - Year 19",
          "July 2045 - Year 20"
         ],
         "y": [
          438156792,
          156053292,
          -152790258,
          -159175174.25,
          -134572337.196875,
          -110112285.2999219,
          -78726493.63404493,
          -47048668.48082107,
          -9092901.663906604,
          30659907.023846254,
          75648722.89077608,
          122839951.06641851,
          177203445.1876275,
          233835484.33332092,
          297151104.0581676,
          363643280.44530046,
          436647272.6700382,
          513747457.04079926,
          597218406.660076,
          686231583.9276929,
          770309149.190787,
          860891711.9302244,
          979812664.5617089
         ]
        }
       ],
       "layout": {
        "template": {
         "data": {
          "bar": [
           {
            "error_x": {
             "color": "#2a3f5f"
            },
            "error_y": {
             "color": "#2a3f5f"
            },
            "marker": {
             "line": {
              "color": "white",
              "width": 0.5
             },
             "pattern": {
              "fillmode": "overlay",
              "size": 10,
              "solidity": 0.2
             }
            },
            "type": "bar"
           }
          ],
          "barpolar": [
           {
            "marker": {
             "line": {
              "color": "white",
              "width": 0.5
             },
             "pattern": {
              "fillmode": "overlay",
              "size": 10,
              "solidity": 0.2
             }
            },
            "type": "barpolar"
           }
          ],
          "carpet": [
           {
            "aaxis": {
             "endlinecolor": "#2a3f5f",
             "gridcolor": "#C8D4E3",
             "linecolor": "#C8D4E3",
             "minorgridcolor": "#C8D4E3",
             "startlinecolor": "#2a3f5f"
            },
            "baxis": {
             "endlinecolor": "#2a3f5f",
             "gridcolor": "#C8D4E3",
             "linecolor": "#C8D4E3",
             "minorgridcolor": "#C8D4E3",
             "startlinecolor": "#2a3f5f"
            },
            "type": "carpet"
           }
          ],
          "choropleth": [
           {
            "colorbar": {
             "outlinewidth": 0,
             "ticks": ""
            },
            "type": "choropleth"
           }
          ],
          "contour": [
           {
            "colorbar": {
             "outlinewidth": 0,
             "ticks": ""
            },
            "colorscale": [
             [
              0,
              "#0d0887"
             ],
             [
              0.1111111111111111,
              "#46039f"
             ],
             [
              0.2222222222222222,
              "#7201a8"
             ],
             [
              0.3333333333333333,
              "#9c179e"
             ],
             [
              0.4444444444444444,
              "#bd3786"
             ],
             [
              0.5555555555555556,
              "#d8576b"
             ],
             [
              0.6666666666666666,
              "#ed7953"
             ],
             [
              0.7777777777777778,
              "#fb9f3a"
             ],
             [
              0.8888888888888888,
              "#fdca26"
             ],
             [
              1,
              "#f0f921"
             ]
            ],
            "type": "contour"
           }
          ],
          "contourcarpet": [
           {
            "colorbar": {
             "outlinewidth": 0,
             "ticks": ""
            },
            "type": "contourcarpet"
           }
          ],
          "heatmap": [
           {
            "colorbar": {
             "outlinewidth": 0,
             "ticks": ""
            },
            "colorscale": [
             [
              0,
              "#0d0887"
             ],
             [
              0.1111111111111111,
              "#46039f"
             ],
             [
              0.2222222222222222,
              "#7201a8"
             ],
             [
              0.3333333333333333,
              "#9c179e"
             ],
             [
              0.4444444444444444,
              "#bd3786"
             ],
             [
              0.5555555555555556,
              "#d8576b"
             ],
             [
              0.6666666666666666,
              "#ed7953"
             ],
             [
              0.7777777777777778,
              "#fb9f3a"
             ],
             [
              0.8888888888888888,
              "#fdca26"
             ],
             [
              1,
              "#f0f921"
             ]
            ],
            "type": "heatmap"
           }
          ],
          "heatmapgl": [
           {
            "colorbar": {
             "outlinewidth": 0,
             "ticks": ""
            },
            "colorscale": [
             [
              0,
              "#0d0887"
             ],
             [
              0.1111111111111111,
              "#46039f"
             ],
             [
              0.2222222222222222,
              "#7201a8"
             ],
             [
              0.3333333333333333,
              "#9c179e"
             ],
             [
              0.4444444444444444,
              "#bd3786"
             ],
             [
              0.5555555555555556,
              "#d8576b"
             ],
             [
              0.6666666666666666,
              "#ed7953"
             ],
             [
              0.7777777777777778,
              "#fb9f3a"
             ],
             [
              0.8888888888888888,
              "#fdca26"
             ],
             [
              1,
              "#f0f921"
             ]
            ],
            "type": "heatmapgl"
           }
          ],
          "histogram": [
           {
            "marker": {
             "pattern": {
              "fillmode": "overlay",
              "size": 10,
              "solidity": 0.2
             }
            },
            "type": "histogram"
           }
          ],
          "histogram2d": [
           {
            "colorbar": {
             "outlinewidth": 0,
             "ticks": ""
            },
            "colorscale": [
             [
              0,
              "#0d0887"
             ],
             [
              0.1111111111111111,
              "#46039f"
             ],
             [
              0.2222222222222222,
              "#7201a8"
             ],
             [
              0.3333333333333333,
              "#9c179e"
             ],
             [
              0.4444444444444444,
              "#bd3786"
             ],
             [
              0.5555555555555556,
              "#d8576b"
             ],
             [
              0.6666666666666666,
              "#ed7953"
             ],
             [
              0.7777777777777778,
              "#fb9f3a"
             ],
             [
              0.8888888888888888,
              "#fdca26"
             ],
             [
              1,
              "#f0f921"
             ]
            ],
            "type": "histogram2d"
           }
          ],
          "histogram2dcontour": [
           {
            "colorbar": {
             "outlinewidth": 0,
             "ticks": ""
            },
            "colorscale": [
             [
              0,
              "#0d0887"
             ],
             [
              0.1111111111111111,
              "#46039f"
             ],
             [
              0.2222222222222222,
              "#7201a8"
             ],
             [
              0.3333333333333333,
              "#9c179e"
             ],
             [
              0.4444444444444444,
              "#bd3786"
             ],
             [
              0.5555555555555556,
              "#d8576b"
             ],
             [
              0.6666666666666666,
              "#ed7953"
             ],
             [
              0.7777777777777778,
              "#fb9f3a"
             ],
             [
              0.8888888888888888,
              "#fdca26"
             ],
             [
              1,
              "#f0f921"
             ]
            ],
            "type": "histogram2dcontour"
           }
          ],
          "mesh3d": [
           {
            "colorbar": {
             "outlinewidth": 0,
             "ticks": ""
            },
            "type": "mesh3d"
           }
          ],
          "parcoords": [
           {
            "line": {
             "colorbar": {
              "outlinewidth": 0,
              "ticks": ""
             }
            },
            "type": "parcoords"
           }
          ],
          "pie": [
           {
            "automargin": true,
            "type": "pie"
           }
          ],
          "scatter": [
           {
            "fillpattern": {
             "fillmode": "overlay",
             "size": 10,
             "solidity": 0.2
            },
            "type": "scatter"
           }
          ],
          "scatter3d": [
           {
            "line": {
             "colorbar": {
              "outlinewidth": 0,
              "ticks": ""
             }
            },
            "marker": {
             "colorbar": {
              "outlinewidth": 0,
              "ticks": ""
             }
            },
            "type": "scatter3d"
           }
          ],
          "scattercarpet": [
           {
            "marker": {
             "colorbar": {
              "outlinewidth": 0,
              "ticks": ""
             }
            },
            "type": "scattercarpet"
           }
          ],
          "scattergeo": [
           {
            "marker": {
             "colorbar": {
              "outlinewidth": 0,
              "ticks": ""
             }
            },
            "type": "scattergeo"
           }
          ],
          "scattergl": [
           {
            "marker": {
             "colorbar": {
              "outlinewidth": 0,
              "ticks": ""
             }
            },
            "type": "scattergl"
           }
          ],
          "scattermapbox": [
           {
            "marker": {
             "colorbar": {
              "outlinewidth": 0,
              "ticks": ""
             }
            },
            "type": "scattermapbox"
           }
          ],
          "scatterpolar": [
           {
            "marker": {
             "colorbar": {
              "outlinewidth": 0,
              "ticks": ""
             }
            },
            "type": "scatterpolar"
           }
          ],
          "scatterpolargl": [
           {
            "marker": {
             "colorbar": {
              "outlinewidth": 0,
              "ticks": ""
             }
            },
            "type": "scatterpolargl"
           }
          ],
          "scatterternary": [
           {
            "marker": {
             "colorbar": {
              "outlinewidth": 0,
              "ticks": ""
             }
            },
            "type": "scatterternary"
           }
          ],
          "surface": [
           {
            "colorbar": {
             "outlinewidth": 0,
             "ticks": ""
            },
            "colorscale": [
             [
              0,
              "#0d0887"
             ],
             [
              0.1111111111111111,
              "#46039f"
             ],
             [
              0.2222222222222222,
              "#7201a8"
             ],
             [
              0.3333333333333333,
              "#9c179e"
             ],
             [
              0.4444444444444444,
              "#bd3786"
             ],
             [
              0.5555555555555556,
              "#d8576b"
             ],
             [
              0.6666666666666666,
              "#ed7953"
             ],
             [
              0.7777777777777778,
              "#fb9f3a"
             ],
             [
              0.8888888888888888,
              "#fdca26"
             ],
             [
              1,
              "#f0f921"
             ]
            ],
            "type": "surface"
           }
          ],
          "table": [
           {
            "cells": {
             "fill": {
              "color": "#EBF0F8"
             },
             "line": {
              "color": "white"
             }
            },
            "header": {
             "fill": {
              "color": "#C8D4E3"
             },
             "line": {
              "color": "white"
             }
            },
            "type": "table"
           }
          ]
         },
         "layout": {
          "annotationdefaults": {
           "arrowcolor": "#2a3f5f",
           "arrowhead": 0,
           "arrowwidth": 1
          },
          "autotypenumbers": "strict",
          "coloraxis": {
           "colorbar": {
            "outlinewidth": 0,
            "ticks": ""
           }
          },
          "colorscale": {
           "diverging": [
            [
             0,
             "#8e0152"
            ],
            [
             0.1,
             "#c51b7d"
            ],
            [
             0.2,
             "#de77ae"
            ],
            [
             0.3,
             "#f1b6da"
            ],
            [
             0.4,
             "#fde0ef"
            ],
            [
             0.5,
             "#f7f7f7"
            ],
            [
             0.6,
             "#e6f5d0"
            ],
            [
             0.7,
             "#b8e186"
            ],
            [
             0.8,
             "#7fbc41"
            ],
            [
             0.9,
             "#4d9221"
            ],
            [
             1,
             "#276419"
            ]
           ],
           "sequential": [
            [
             0,
             "#0d0887"
            ],
            [
             0.1111111111111111,
             "#46039f"
            ],
            [
             0.2222222222222222,
             "#7201a8"
            ],
            [
             0.3333333333333333,
             "#9c179e"
            ],
            [
             0.4444444444444444,
             "#bd3786"
            ],
            [
             0.5555555555555556,
             "#d8576b"
            ],
            [
             0.6666666666666666,
             "#ed7953"
            ],
            [
             0.7777777777777778,
             "#fb9f3a"
            ],
            [
             0.8888888888888888,
             "#fdca26"
            ],
            [
             1,
             "#f0f921"
            ]
           ],
           "sequentialminus": [
            [
             0,
             "#0d0887"
            ],
            [
             0.1111111111111111,
             "#46039f"
            ],
            [
             0.2222222222222222,
             "#7201a8"
            ],
            [
             0.3333333333333333,
             "#9c179e"
            ],
            [
             0.4444444444444444,
             "#bd3786"
            ],
            [
             0.5555555555555556,
             "#d8576b"
            ],
            [
             0.6666666666666666,
             "#ed7953"
            ],
            [
             0.7777777777777778,
             "#fb9f3a"
            ],
            [
             0.8888888888888888,
             "#fdca26"
            ],
            [
             1,
             "#f0f921"
            ]
           ]
          },
          "colorway": [
           "#449aba",
           "#8fdff2",
           "#2a3337",
           "#0f5876",
           "#81b8bc",
           "#3d7d82",
           "#9c9c9c",
           "#04545a",
           "#5c5656"
          ],
          "font": {
           "color": "#2a3f5f"
          },
          "geo": {
           "bgcolor": "white",
           "lakecolor": "white",
           "landcolor": "white",
           "showlakes": true,
           "showland": true,
           "subunitcolor": "#C8D4E3"
          },
          "hoverlabel": {
           "align": "left"
          },
          "hovermode": "closest",
          "mapbox": {
           "style": "light"
          },
          "paper_bgcolor": "white",
          "plot_bgcolor": "white",
          "polar": {
           "angularaxis": {
            "gridcolor": "#EBF0F8",
            "linecolor": "#EBF0F8",
            "ticks": ""
           },
           "bgcolor": "white",
           "radialaxis": {
            "gridcolor": "#EBF0F8",
            "linecolor": "#EBF0F8",
            "ticks": ""
           }
          },
          "scene": {
           "xaxis": {
            "backgroundcolor": "white",
            "gridcolor": "#DFE8F3",
            "gridwidth": 2,
            "linecolor": "#EBF0F8",
            "showbackground": true,
            "ticks": "",
            "zerolinecolor": "#EBF0F8"
           },
           "yaxis": {
            "backgroundcolor": "white",
            "gridcolor": "#DFE8F3",
            "gridwidth": 2,
            "linecolor": "#EBF0F8",
            "showbackground": true,
            "ticks": "",
            "zerolinecolor": "#EBF0F8"
           },
           "zaxis": {
            "backgroundcolor": "white",
            "gridcolor": "#DFE8F3",
            "gridwidth": 2,
            "linecolor": "#EBF0F8",
            "showbackground": true,
            "ticks": "",
            "zerolinecolor": "#EBF0F8"
           }
          },
          "shapedefaults": {
           "line": {
            "color": "#2a3f5f"
           }
          },
          "ternary": {
           "aaxis": {
            "gridcolor": "#DFE8F3",
            "linecolor": "#A2B1C6",
            "ticks": ""
           },
           "baxis": {
            "gridcolor": "#DFE8F3",
            "linecolor": "#A2B1C6",
            "ticks": ""
           },
           "bgcolor": "white",
           "caxis": {
            "gridcolor": "#DFE8F3",
            "linecolor": "#A2B1C6",
            "ticks": ""
           }
          },
          "title": {
           "x": 0.05
          },
          "xaxis": {
           "automargin": true,
           "gridcolor": "#EBF0F8",
           "linecolor": "#EBF0F8",
           "ticks": "",
           "title": {
            "standoff": 15
           },
           "zerolinecolor": "#EBF0F8",
           "zerolinewidth": 2
          },
          "yaxis": {
           "automargin": true,
           "gridcolor": "#EBF0F8",
           "linecolor": "#EBF0F8",
           "ticks": "",
           "title": {
            "standoff": 15
           },
           "zerolinecolor": "#EBF0F8",
           "zerolinewidth": 2
          }
         }
        }
       }
      }
     },
     "metadata": {},
     "output_type": "display_data"
    }
   ],
   "source": []
  }
 ],
 "metadata": {
  "kernelspec": {
   "display_name": "classenv",
   "language": "python",
   "name": "python3"
  },
  "language_info": {
   "codemirror_mode": {
    "name": "ipython",
    "version": 3
   },
   "file_extension": ".py",
   "mimetype": "text/x-python",
   "name": "python",
   "nbconvert_exporter": "python",
   "pygments_lexer": "ipython3",
   "version": "3.9.15"
  },
  "orig_nbformat": 4
 },
 "nbformat": 4,
 "nbformat_minor": 2
}
