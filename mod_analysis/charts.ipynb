{
 "cells": [
  {
   "cell_type": "code",
   "execution_count": 54,
   "metadata": {},
   "outputs": [],
   "source": [
    "import plotly.graph_objects as go\n",
    "from plotly.subplots import make_subplots\n",
    "from model import * \n",
    "import plotly.colors as pc\n",
    "import plotly.io as pio"
   ]
  },
  {
   "cell_type": "code",
   "execution_count": 45,
   "metadata": {},
   "outputs": [],
   "source": [
    "with open(\"colors.txt\", \"r\") as colors:\n",
    "\tlines = colors.readlines()\t\n",
    "theme_colors = [l.replace(\"\\n\", \"\") for l in lines]\n",
    "\n",
    "\n",
    "pio.templates[\"finance_theme\"] = go.layout.Template(\n",
    "    layout=go.Layout(\n",
    "        colorway=theme_colors\n",
    "    )\n",
    ")"
   ]
  },
  {
   "cell_type": "code",
   "execution_count": 55,
   "metadata": {},
   "outputs": [],
   "source": [
    "\n",
    ")"
   ]
  },
  {
   "cell_type": "code",
   "execution_count": 57,
   "metadata": {},
   "outputs": [],
   "source": [
    "pio.templates.default = 'plotly_white+finance_theme'"
   ]
  },
  {
   "cell_type": "code",
   "execution_count": 50,
   "metadata": {},
   "outputs": [],
   "source": [
    "pc.DEFAULT_PLOTLY_COLORS = theme_colors"
   ]
  },
  {
   "cell_type": "code",
   "execution_count": 4,
   "metadata": {},
   "outputs": [],
   "source": [
    "a = FinancialModel()\n",
    "a.run_base_case()"
   ]
  },
  {
   "cell_type": "code",
   "execution_count": 22,
   "metadata": {},
   "outputs": [],
   "source": [
    "df = a.df_out.iloc[:, 0:23]"
   ]
  },
  {
   "cell_type": "code",
   "execution_count": 51,
   "metadata": {},
   "outputs": [],
   "source": [
    "row_names = [\"Revenue\", \"Total Expenses\", \"Corporate Tax Due\", \"Loan Repayments Due\", \"HIPU Escrow Account\", \"Loan Income\", \"Equity Income\"]\n",
    "\n",
    "graph_names = [\"Revenue\", \"Capital and Operating Expenses\", \"Corporate Tax\", \"Loan Repayments\", \"HIPU Escrow Account\", \"Loan Income\", \"Equity Income\"]\n",
    "\n",
    "traces = [go.Bar(name=gn,x=df.columns, y=df.loc[rn] ) for (gn, rn) in zip(graph_names, row_names)]\n",
    "\n",
    "\n"
   ]
  },
  {
   "cell_type": "code",
   "execution_count": 58,
   "metadata": {},
   "outputs": [
    {
     "data": {
      "application/vnd.plotly.v1+json": {
       "config": {
        "plotlyServerURL": "https://plotly.com"
       },
       "data": [
        {
         "name": "Revenue",
         "type": "bar",
         "x": [
          "Financial Close - July 2023",
          "Construction Year 1 - July 2024",
          "Commisioning and Construction Year 2 - July 2025",
          "July 2026 - Year 1",
          "July 2027 - Year 2",
          "July 2028 - Year 3",
          "July 2029 - Year 4",
          "July 2030 - Year 5",
          "July 2031 - Year 6",
          "July 2032 - Year 7",
          "July 2033 - Year 8",
          "July 2034 - Year 9",
          "July 2035 - Year 10",
          "July 2036 - Year 11",
          "July 2037 - Year 12",
          "July 2038 - Year 13",
          "July 2039 - Year 14",
          "July 2040 - Year 15",
          "July 2041 - Year 16",
          "July 2042 - Year 17",
          "July 2043 - Year 18",
          "July 2044 - Year 19",
          "July 2045 - Year 20"
         ],
         "y": [
          0,
          0,
          0,
          80541120,
          84568176,
          88796584.79999998,
          93236414.04000002,
          97898234.74199997,
          102793146.47909999,
          107932803.80305502,
          113329443.99320778,
          118995916.19286819,
          124945712.0025116,
          131192997.60263717,
          137752647.48276904,
          144640279.8569075,
          151872293.84975284,
          159465908.5422405,
          167439203.9693525,
          175811164.16782013,
          184601722.37621117,
          193831808.49502176,
          203523398.9197728
         ]
        },
        {
         "name": "Capital and Operating Expenses",
         "type": "bar",
         "x": [
          "Financial Close - July 2023",
          "Construction Year 1 - July 2024",
          "Commisioning and Construction Year 2 - July 2025",
          "July 2026 - Year 1",
          "July 2027 - Year 2",
          "July 2028 - Year 3",
          "July 2029 - Year 4",
          "July 2030 - Year 5",
          "July 2031 - Year 6",
          "July 2032 - Year 7",
          "July 2033 - Year 8",
          "July 2034 - Year 9",
          "July 2035 - Year 10",
          "July 2036 - Year 11",
          "July 2037 - Year 12",
          "July 2038 - Year 13",
          "July 2039 - Year 14",
          "July 2040 - Year 15",
          "July 2041 - Year 16",
          "July 2042 - Year 17",
          "July 2043 - Year 18",
          "July 2044 - Year 19",
          "July 2045 - Year 20"
         ],
         "y": [
          -104906000,
          -282103500,
          -308843550,
          -52926036.25,
          -46821988.78125,
          -51424246.375781246,
          -45473966.66017578,
          -49787312.20168017,
          -43998096.606722176,
          -47671540.621890225,
          -42635468.23743748,
          -45733807.79337341,
          -40362035.08820775,
          -44083751.49041294,
          -39118592.052673265,
          -41345003.6289901,
          -37099637.99471484,
          -38437757.969582714,
          -34143213.54382229,
          -34030378.00741784,
          -30883774.082603283,
          -29924030.059668362,
          -24179017.936160073
         ]
        },
        {
         "name": "Corporate Tax",
         "type": "bar",
         "x": [
          "Financial Close - July 2023",
          "Construction Year 1 - July 2024",
          "Commisioning and Construction Year 2 - July 2025",
          "July 2026 - Year 1",
          "July 2027 - Year 2",
          "July 2028 - Year 3",
          "July 2029 - Year 4",
          "July 2030 - Year 5",
          "July 2031 - Year 6",
          "July 2032 - Year 7",
          "July 2033 - Year 8",
          "July 2034 - Year 9",
          "July 2035 - Year 10",
          "July 2036 - Year 11",
          "July 2037 - Year 12",
          "July 2038 - Year 13",
          "July 2039 - Year 14",
          "July 2040 - Year 15",
          "July 2041 - Year 16",
          "July 2042 - Year 17",
          "July 2043 - Year 18",
          "July 2044 - Year 19",
          "July 2045 - Year 20"
         ],
         "y": [
          0,
          0,
          0,
          0,
          -673856.165625,
          -561701.527265621,
          -3678734.213947273,
          -3783276.76209594,
          -6988514.961713344,
          -7428378.954349438,
          -10558192.726731088,
          -11328632.51984843,
          -14725103.074291157,
          -15482773.833667265,
          -18940216.629028734,
          -20338582.868375216,
          -23781796.7565114,
          -25658445.17179734,
          -29338797.127659068,
          -31884235.84812069,
          -46115384.488082364,
          -49172333.53060602,
          -53803314.29508381
         ]
        },
        {
         "name": "Loan Repayments",
         "type": "bar",
         "x": [
          "Financial Close - July 2023",
          "Construction Year 1 - July 2024",
          "Commisioning and Construction Year 2 - July 2025",
          "July 2026 - Year 1",
          "July 2027 - Year 2",
          "July 2028 - Year 3",
          "July 2029 - Year 4",
          "July 2030 - Year 5",
          "July 2031 - Year 6",
          "July 2032 - Year 7",
          "July 2033 - Year 8",
          "July 2034 - Year 9",
          "July 2035 - Year 10",
          "July 2036 - Year 11",
          "July 2037 - Year 12",
          "July 2038 - Year 13",
          "July 2039 - Year 14",
          "July 2040 - Year 15",
          "July 2041 - Year 16",
          "July 2042 - Year 17",
          "July 2043 - Year 18",
          "July 2044 - Year 19",
          "July 2045 - Year 20"
         ],
         "y": [
          0,
          0,
          0,
          -11500000,
          -13594494,
          -14544335,
          -15906984,
          -16823430,
          -18940697,
          -19040508,
          -21934378,
          -22315288,
          -23814468,
          -24022852,
          -26080217,
          -26806415,
          -28936670,
          -29796834,
          -32562191,
          -33480523,
          -36617291,
          -37715560,
          -20629658
         ]
        },
        {
         "name": "HIPU Escrow Account",
         "type": "bar",
         "x": [
          "Financial Close - July 2023",
          "Construction Year 1 - July 2024",
          "Commisioning and Construction Year 2 - July 2025",
          "July 2026 - Year 1",
          "July 2027 - Year 2",
          "July 2028 - Year 3",
          "July 2029 - Year 4",
          "July 2030 - Year 5",
          "July 2031 - Year 6",
          "July 2032 - Year 7",
          "July 2033 - Year 8",
          "July 2034 - Year 9",
          "July 2035 - Year 10",
          "July 2036 - Year 11",
          "July 2037 - Year 12",
          "July 2038 - Year 13",
          "July 2039 - Year 14",
          "July 2040 - Year 15",
          "July 2041 - Year 16",
          "July 2042 - Year 17",
          "July 2043 - Year 18",
          "July 2044 - Year 19",
          "July 2045 - Year 20"
         ],
         "y": [
          -7000000,
          0,
          0,
          -22500000,
          1125000,
          2193750,
          3209062.5,
          4173609.375,
          5089928.90625,
          5960432.4609375,
          6787410.837890625,
          7573040.295996094,
          8319388.281196291,
          9028418.867136477,
          9701997.923779653,
          10341898.027590672,
          10949803.126211138,
          11527312.969900582,
          12075947.321405554,
          12597149.955335276,
          13092292.457568513,
          13562677.834690088,
          14009543.942955585
         ]
        },
        {
         "name": "Loan Income",
         "type": "bar",
         "x": [
          "Financial Close - July 2023",
          "Construction Year 1 - July 2024",
          "Commisioning and Construction Year 2 - July 2025",
          "July 2026 - Year 1",
          "July 2027 - Year 2",
          "July 2028 - Year 3",
          "July 2029 - Year 4",
          "July 2030 - Year 5",
          "July 2031 - Year 6",
          "July 2032 - Year 7",
          "July 2033 - Year 8",
          "July 2034 - Year 9",
          "July 2035 - Year 10",
          "July 2036 - Year 11",
          "July 2037 - Year 12",
          "July 2038 - Year 13",
          "July 2039 - Year 14",
          "July 2040 - Year 15",
          "July 2041 - Year 16",
          "July 2042 - Year 17",
          "July 2043 - Year 18",
          "July 2044 - Year 19",
          "July 2045 - Year 20"
         ],
         "y": [
          550062792,
          0,
          0,
          0,
          0,
          0,
          0,
          0,
          0,
          0,
          0,
          0,
          0,
          0,
          0,
          0,
          0,
          0,
          0,
          0,
          0,
          0,
          0
         ]
        },
        {
         "name": "Equity Income",
         "type": "bar",
         "x": [
          "Financial Close - July 2023",
          "Construction Year 1 - July 2024",
          "Commisioning and Construction Year 2 - July 2025",
          "July 2026 - Year 1",
          "July 2027 - Year 2",
          "July 2028 - Year 3",
          "July 2029 - Year 4",
          "July 2030 - Year 5",
          "July 2031 - Year 6",
          "July 2032 - Year 7",
          "July 2033 - Year 8",
          "July 2034 - Year 9",
          "July 2035 - Year 10",
          "July 2036 - Year 11",
          "July 2037 - Year 12",
          "July 2038 - Year 13",
          "July 2039 - Year 14",
          "July 2040 - Year 15",
          "July 2041 - Year 16",
          "July 2042 - Year 17",
          "July 2043 - Year 18",
          "July 2044 - Year 19",
          "July 2045 - Year 20"
         ],
         "y": [
          235741196.57142863,
          0,
          0,
          0,
          0,
          0,
          0,
          0,
          0,
          0,
          0,
          0,
          0,
          0,
          0,
          0,
          0,
          0,
          0,
          0,
          0,
          0,
          0
         ]
        }
       ],
       "layout": {
        "barmode": "relative",
        "template": {
         "data": {
          "bar": [
           {
            "error_x": {
             "color": "#2a3f5f"
            },
            "error_y": {
             "color": "#2a3f5f"
            },
            "marker": {
             "line": {
              "color": "white",
              "width": 0.5
             },
             "pattern": {
              "fillmode": "overlay",
              "size": 10,
              "solidity": 0.2
             }
            },
            "type": "bar"
           }
          ],
          "barpolar": [
           {
            "marker": {
             "line": {
              "color": "white",
              "width": 0.5
             },
             "pattern": {
              "fillmode": "overlay",
              "size": 10,
              "solidity": 0.2
             }
            },
            "type": "barpolar"
           }
          ],
          "carpet": [
           {
            "aaxis": {
             "endlinecolor": "#2a3f5f",
             "gridcolor": "#C8D4E3",
             "linecolor": "#C8D4E3",
             "minorgridcolor": "#C8D4E3",
             "startlinecolor": "#2a3f5f"
            },
            "baxis": {
             "endlinecolor": "#2a3f5f",
             "gridcolor": "#C8D4E3",
             "linecolor": "#C8D4E3",
             "minorgridcolor": "#C8D4E3",
             "startlinecolor": "#2a3f5f"
            },
            "type": "carpet"
           }
          ],
          "choropleth": [
           {
            "colorbar": {
             "outlinewidth": 0,
             "ticks": ""
            },
            "type": "choropleth"
           }
          ],
          "contour": [
           {
            "colorbar": {
             "outlinewidth": 0,
             "ticks": ""
            },
            "colorscale": [
             [
              0,
              "#0d0887"
             ],
             [
              0.1111111111111111,
              "#46039f"
             ],
             [
              0.2222222222222222,
              "#7201a8"
             ],
             [
              0.3333333333333333,
              "#9c179e"
             ],
             [
              0.4444444444444444,
              "#bd3786"
             ],
             [
              0.5555555555555556,
              "#d8576b"
             ],
             [
              0.6666666666666666,
              "#ed7953"
             ],
             [
              0.7777777777777778,
              "#fb9f3a"
             ],
             [
              0.8888888888888888,
              "#fdca26"
             ],
             [
              1,
              "#f0f921"
             ]
            ],
            "type": "contour"
           }
          ],
          "contourcarpet": [
           {
            "colorbar": {
             "outlinewidth": 0,
             "ticks": ""
            },
            "type": "contourcarpet"
           }
          ],
          "heatmap": [
           {
            "colorbar": {
             "outlinewidth": 0,
             "ticks": ""
            },
            "colorscale": [
             [
              0,
              "#0d0887"
             ],
             [
              0.1111111111111111,
              "#46039f"
             ],
             [
              0.2222222222222222,
              "#7201a8"
             ],
             [
              0.3333333333333333,
              "#9c179e"
             ],
             [
              0.4444444444444444,
              "#bd3786"
             ],
             [
              0.5555555555555556,
              "#d8576b"
             ],
             [
              0.6666666666666666,
              "#ed7953"
             ],
             [
              0.7777777777777778,
              "#fb9f3a"
             ],
             [
              0.8888888888888888,
              "#fdca26"
             ],
             [
              1,
              "#f0f921"
             ]
            ],
            "type": "heatmap"
           }
          ],
          "heatmapgl": [
           {
            "colorbar": {
             "outlinewidth": 0,
             "ticks": ""
            },
            "colorscale": [
             [
              0,
              "#0d0887"
             ],
             [
              0.1111111111111111,
              "#46039f"
             ],
             [
              0.2222222222222222,
              "#7201a8"
             ],
             [
              0.3333333333333333,
              "#9c179e"
             ],
             [
              0.4444444444444444,
              "#bd3786"
             ],
             [
              0.5555555555555556,
              "#d8576b"
             ],
             [
              0.6666666666666666,
              "#ed7953"
             ],
             [
              0.7777777777777778,
              "#fb9f3a"
             ],
             [
              0.8888888888888888,
              "#fdca26"
             ],
             [
              1,
              "#f0f921"
             ]
            ],
            "type": "heatmapgl"
           }
          ],
          "histogram": [
           {
            "marker": {
             "pattern": {
              "fillmode": "overlay",
              "size": 10,
              "solidity": 0.2
             }
            },
            "type": "histogram"
           }
          ],
          "histogram2d": [
           {
            "colorbar": {
             "outlinewidth": 0,
             "ticks": ""
            },
            "colorscale": [
             [
              0,
              "#0d0887"
             ],
             [
              0.1111111111111111,
              "#46039f"
             ],
             [
              0.2222222222222222,
              "#7201a8"
             ],
             [
              0.3333333333333333,
              "#9c179e"
             ],
             [
              0.4444444444444444,
              "#bd3786"
             ],
             [
              0.5555555555555556,
              "#d8576b"
             ],
             [
              0.6666666666666666,
              "#ed7953"
             ],
             [
              0.7777777777777778,
              "#fb9f3a"
             ],
             [
              0.8888888888888888,
              "#fdca26"
             ],
             [
              1,
              "#f0f921"
             ]
            ],
            "type": "histogram2d"
           }
          ],
          "histogram2dcontour": [
           {
            "colorbar": {
             "outlinewidth": 0,
             "ticks": ""
            },
            "colorscale": [
             [
              0,
              "#0d0887"
             ],
             [
              0.1111111111111111,
              "#46039f"
             ],
             [
              0.2222222222222222,
              "#7201a8"
             ],
             [
              0.3333333333333333,
              "#9c179e"
             ],
             [
              0.4444444444444444,
              "#bd3786"
             ],
             [
              0.5555555555555556,
              "#d8576b"
             ],
             [
              0.6666666666666666,
              "#ed7953"
             ],
             [
              0.7777777777777778,
              "#fb9f3a"
             ],
             [
              0.8888888888888888,
              "#fdca26"
             ],
             [
              1,
              "#f0f921"
             ]
            ],
            "type": "histogram2dcontour"
           }
          ],
          "mesh3d": [
           {
            "colorbar": {
             "outlinewidth": 0,
             "ticks": ""
            },
            "type": "mesh3d"
           }
          ],
          "parcoords": [
           {
            "line": {
             "colorbar": {
              "outlinewidth": 0,
              "ticks": ""
             }
            },
            "type": "parcoords"
           }
          ],
          "pie": [
           {
            "automargin": true,
            "type": "pie"
           }
          ],
          "scatter": [
           {
            "fillpattern": {
             "fillmode": "overlay",
             "size": 10,
             "solidity": 0.2
            },
            "type": "scatter"
           }
          ],
          "scatter3d": [
           {
            "line": {
             "colorbar": {
              "outlinewidth": 0,
              "ticks": ""
             }
            },
            "marker": {
             "colorbar": {
              "outlinewidth": 0,
              "ticks": ""
             }
            },
            "type": "scatter3d"
           }
          ],
          "scattercarpet": [
           {
            "marker": {
             "colorbar": {
              "outlinewidth": 0,
              "ticks": ""
             }
            },
            "type": "scattercarpet"
           }
          ],
          "scattergeo": [
           {
            "marker": {
             "colorbar": {
              "outlinewidth": 0,
              "ticks": ""
             }
            },
            "type": "scattergeo"
           }
          ],
          "scattergl": [
           {
            "marker": {
             "colorbar": {
              "outlinewidth": 0,
              "ticks": ""
             }
            },
            "type": "scattergl"
           }
          ],
          "scattermapbox": [
           {
            "marker": {
             "colorbar": {
              "outlinewidth": 0,
              "ticks": ""
             }
            },
            "type": "scattermapbox"
           }
          ],
          "scatterpolar": [
           {
            "marker": {
             "colorbar": {
              "outlinewidth": 0,
              "ticks": ""
             }
            },
            "type": "scatterpolar"
           }
          ],
          "scatterpolargl": [
           {
            "marker": {
             "colorbar": {
              "outlinewidth": 0,
              "ticks": ""
             }
            },
            "type": "scatterpolargl"
           }
          ],
          "scatterternary": [
           {
            "marker": {
             "colorbar": {
              "outlinewidth": 0,
              "ticks": ""
             }
            },
            "type": "scatterternary"
           }
          ],
          "surface": [
           {
            "colorbar": {
             "outlinewidth": 0,
             "ticks": ""
            },
            "colorscale": [
             [
              0,
              "#0d0887"
             ],
             [
              0.1111111111111111,
              "#46039f"
             ],
             [
              0.2222222222222222,
              "#7201a8"
             ],
             [
              0.3333333333333333,
              "#9c179e"
             ],
             [
              0.4444444444444444,
              "#bd3786"
             ],
             [
              0.5555555555555556,
              "#d8576b"
             ],
             [
              0.6666666666666666,
              "#ed7953"
             ],
             [
              0.7777777777777778,
              "#fb9f3a"
             ],
             [
              0.8888888888888888,
              "#fdca26"
             ],
             [
              1,
              "#f0f921"
             ]
            ],
            "type": "surface"
           }
          ],
          "table": [
           {
            "cells": {
             "fill": {
              "color": "#EBF0F8"
             },
             "line": {
              "color": "white"
             }
            },
            "header": {
             "fill": {
              "color": "#C8D4E3"
             },
             "line": {
              "color": "white"
             }
            },
            "type": "table"
           }
          ]
         },
         "layout": {
          "annotationdefaults": {
           "arrowcolor": "#2a3f5f",
           "arrowhead": 0,
           "arrowwidth": 1
          },
          "autotypenumbers": "strict",
          "coloraxis": {
           "colorbar": {
            "outlinewidth": 0,
            "ticks": ""
           }
          },
          "colorscale": {
           "diverging": [
            [
             0,
             "#8e0152"
            ],
            [
             0.1,
             "#c51b7d"
            ],
            [
             0.2,
             "#de77ae"
            ],
            [
             0.3,
             "#f1b6da"
            ],
            [
             0.4,
             "#fde0ef"
            ],
            [
             0.5,
             "#f7f7f7"
            ],
            [
             0.6,
             "#e6f5d0"
            ],
            [
             0.7,
             "#b8e186"
            ],
            [
             0.8,
             "#7fbc41"
            ],
            [
             0.9,
             "#4d9221"
            ],
            [
             1,
             "#276419"
            ]
           ],
           "sequential": [
            [
             0,
             "#0d0887"
            ],
            [
             0.1111111111111111,
             "#46039f"
            ],
            [
             0.2222222222222222,
             "#7201a8"
            ],
            [
             0.3333333333333333,
             "#9c179e"
            ],
            [
             0.4444444444444444,
             "#bd3786"
            ],
            [
             0.5555555555555556,
             "#d8576b"
            ],
            [
             0.6666666666666666,
             "#ed7953"
            ],
            [
             0.7777777777777778,
             "#fb9f3a"
            ],
            [
             0.8888888888888888,
             "#fdca26"
            ],
            [
             1,
             "#f0f921"
            ]
           ],
           "sequentialminus": [
            [
             0,
             "#0d0887"
            ],
            [
             0.1111111111111111,
             "#46039f"
            ],
            [
             0.2222222222222222,
             "#7201a8"
            ],
            [
             0.3333333333333333,
             "#9c179e"
            ],
            [
             0.4444444444444444,
             "#bd3786"
            ],
            [
             0.5555555555555556,
             "#d8576b"
            ],
            [
             0.6666666666666666,
             "#ed7953"
            ],
            [
             0.7777777777777778,
             "#fb9f3a"
            ],
            [
             0.8888888888888888,
             "#fdca26"
            ],
            [
             1,
             "#f0f921"
            ]
           ]
          },
          "colorway": [
           "#449aba",
           "#8fdff2",
           "#2a3337",
           "#0f5876",
           "#81b8bc",
           "#3d7d82",
           "#9c9c9c",
           "#04545a",
           "#5c5656"
          ],
          "font": {
           "color": "#2a3f5f"
          },
          "geo": {
           "bgcolor": "white",
           "lakecolor": "white",
           "landcolor": "white",
           "showlakes": true,
           "showland": true,
           "subunitcolor": "#C8D4E3"
          },
          "hoverlabel": {
           "align": "left"
          },
          "hovermode": "closest",
          "mapbox": {
           "style": "light"
          },
          "paper_bgcolor": "white",
          "plot_bgcolor": "white",
          "polar": {
           "angularaxis": {
            "gridcolor": "#EBF0F8",
            "linecolor": "#EBF0F8",
            "ticks": ""
           },
           "bgcolor": "white",
           "radialaxis": {
            "gridcolor": "#EBF0F8",
            "linecolor": "#EBF0F8",
            "ticks": ""
           }
          },
          "scene": {
           "xaxis": {
            "backgroundcolor": "white",
            "gridcolor": "#DFE8F3",
            "gridwidth": 2,
            "linecolor": "#EBF0F8",
            "showbackground": true,
            "ticks": "",
            "zerolinecolor": "#EBF0F8"
           },
           "yaxis": {
            "backgroundcolor": "white",
            "gridcolor": "#DFE8F3",
            "gridwidth": 2,
            "linecolor": "#EBF0F8",
            "showbackground": true,
            "ticks": "",
            "zerolinecolor": "#EBF0F8"
           },
           "zaxis": {
            "backgroundcolor": "white",
            "gridcolor": "#DFE8F3",
            "gridwidth": 2,
            "linecolor": "#EBF0F8",
            "showbackground": true,
            "ticks": "",
            "zerolinecolor": "#EBF0F8"
           }
          },
          "shapedefaults": {
           "line": {
            "color": "#2a3f5f"
           }
          },
          "ternary": {
           "aaxis": {
            "gridcolor": "#DFE8F3",
            "linecolor": "#A2B1C6",
            "ticks": ""
           },
           "baxis": {
            "gridcolor": "#DFE8F3",
            "linecolor": "#A2B1C6",
            "ticks": ""
           },
           "bgcolor": "white",
           "caxis": {
            "gridcolor": "#DFE8F3",
            "linecolor": "#A2B1C6",
            "ticks": ""
           }
          },
          "title": {
           "x": 0.05
          },
          "xaxis": {
           "automargin": true,
           "gridcolor": "#EBF0F8",
           "linecolor": "#EBF0F8",
           "ticks": "",
           "title": {
            "standoff": 15
           },
           "zerolinecolor": "#EBF0F8",
           "zerolinewidth": 2
          },
          "yaxis": {
           "automargin": true,
           "gridcolor": "#EBF0F8",
           "linecolor": "#EBF0F8",
           "ticks": "",
           "title": {
            "standoff": 15
           },
           "zerolinecolor": "#EBF0F8",
           "zerolinewidth": 2
          }
         }
        }
       }
      }
     },
     "metadata": {},
     "output_type": "display_data"
    }
   ],
   "source": [
    "\n",
    "fig = go.Figure(data=traces)\n",
    "# Change the bar mode\n",
    "fig.update_layout(barmode='relative')\n",
    "\n",
    "\n",
    "# fig.update_layout(title='Forecasts')\n",
    "\n",
    "fig.show()"
   ]
  },
  {
   "cell_type": "code",
   "execution_count": 46,
   "metadata": {},
   "outputs": [],
   "source": [
    "# cash balance \n",
    "graph_names = [\"Cash Flow\", \"Cash Balance\"]\n",
    "row_names = [\"Cash Flow\", \"Cumulative Cash Flow\"]\n",
    "\n",
    "traces = [go.Bar(name=gn,x=df.columns, y=df.loc[rn] ) for (gn, rn) in zip(graph_names, row_names)]"
   ]
  },
  {
   "cell_type": "code",
   "execution_count": 47,
   "metadata": {},
   "outputs": [
    {
     "ename": "TypeError",
     "evalue": "invalid Figure property: color_discrete_sequence\ncolor\nBad property path:\ncolor_discrete_sequence\n^^^^^",
     "output_type": "error",
     "traceback": [
      "\u001b[0;31m---------------------------------------------------------------------------\u001b[0m",
      "\u001b[0;31mTypeError\u001b[0m                                 Traceback (most recent call last)",
      "Cell \u001b[0;32mIn[47], line 1\u001b[0m\n\u001b[0;32m----> 1\u001b[0m fig \u001b[39m=\u001b[39m go\u001b[39m.\u001b[39;49mFigure(data\u001b[39m=\u001b[39;49mtraces, color_discrete_sequence\u001b[39m=\u001b[39;49mtheme_colors)\n\u001b[1;32m      2\u001b[0m \u001b[39m# Change the bar mode\u001b[39;00m\n\u001b[1;32m      3\u001b[0m \u001b[39m# fig.update_layout(barmode='stack')\u001b[39;00m\n\u001b[1;32m      4\u001b[0m \n\u001b[1;32m      5\u001b[0m \u001b[39m# fig.update_layout(title='Cash Flow Projections')\u001b[39;00m\n\u001b[1;32m      7\u001b[0m fig\u001b[39m.\u001b[39mshow()\n",
      "File \u001b[0;32m~/_ClassCode/classenv/lib/python3.9/site-packages/plotly/graph_objs/_figure.py:629\u001b[0m, in \u001b[0;36mFigure.__init__\u001b[0;34m(self, data, layout, frames, skip_invalid, **kwargs)\u001b[0m\n\u001b[1;32m      5\u001b[0m \u001b[39mdef\u001b[39;00m \u001b[39m__init__\u001b[39m(\n\u001b[1;32m      6\u001b[0m     \u001b[39mself\u001b[39m, data\u001b[39m=\u001b[39m\u001b[39mNone\u001b[39;00m, layout\u001b[39m=\u001b[39m\u001b[39mNone\u001b[39;00m, frames\u001b[39m=\u001b[39m\u001b[39mNone\u001b[39;00m, skip_invalid\u001b[39m=\u001b[39m\u001b[39mFalse\u001b[39;00m, \u001b[39m*\u001b[39m\u001b[39m*\u001b[39mkwargs\n\u001b[1;32m      7\u001b[0m ):\n\u001b[1;32m      8\u001b[0m \u001b[39m    \u001b[39m\u001b[39m\"\"\"\u001b[39;00m\n\u001b[1;32m      9\u001b[0m \u001b[39m    Create a new :class:Figure instance\u001b[39;00m\n\u001b[1;32m     10\u001b[0m \n\u001b[0;32m   (...)\u001b[0m\n\u001b[1;32m    627\u001b[0m \u001b[39m        is invalid AND skip_invalid is False\u001b[39;00m\n\u001b[1;32m    628\u001b[0m \u001b[39m    \"\"\"\u001b[39;00m\n\u001b[0;32m--> 629\u001b[0m     \u001b[39msuper\u001b[39;49m(Figure, \u001b[39mself\u001b[39;49m)\u001b[39m.\u001b[39;49m\u001b[39m__init__\u001b[39;49m(data, layout, frames, skip_invalid, \u001b[39m*\u001b[39;49m\u001b[39m*\u001b[39;49mkwargs)\n",
      "File \u001b[0;32m~/_ClassCode/classenv/lib/python3.9/site-packages/plotly/basedatatypes.py:647\u001b[0m, in \u001b[0;36mBaseFigure.__init__\u001b[0;34m(self, data, layout_plotly, frames, skip_invalid, **kwargs)\u001b[0m\n\u001b[1;32m    640\u001b[0m                 type_err \u001b[39m=\u001b[39m \u001b[39mTypeError\u001b[39;00m(\u001b[39m\"\u001b[39m\u001b[39minvalid Figure property: \u001b[39m\u001b[39m{}\u001b[39;00m\u001b[39m\"\u001b[39m\u001b[39m.\u001b[39mformat(k))\n\u001b[1;32m    641\u001b[0m                 type_err\u001b[39m.\u001b[39margs \u001b[39m=\u001b[39m (\n\u001b[1;32m    642\u001b[0m                     type_err\u001b[39m.\u001b[39margs[\u001b[39m0\u001b[39m]\n\u001b[1;32m    643\u001b[0m                     \u001b[39m+\u001b[39m \u001b[39m\"\"\"\u001b[39m\n\u001b[1;32m    644\u001b[0m \u001b[39m%s\u001b[39;00m\u001b[39m\"\"\"\u001b[39m\n\u001b[1;32m    645\u001b[0m                     \u001b[39m%\u001b[39m (err\u001b[39m.\u001b[39margs[\u001b[39m0\u001b[39m],),\n\u001b[1;32m    646\u001b[0m                 )\n\u001b[0;32m--> 647\u001b[0m                 \u001b[39mraise\u001b[39;00m type_err\n",
      "\u001b[0;31mTypeError\u001b[0m: invalid Figure property: color_discrete_sequence\ncolor\nBad property path:\ncolor_discrete_sequence\n^^^^^"
     ]
    }
   ],
   "source": [
    "fig = go.Figure(data=traces, color_discrete_sequence=theme_colors)\n",
    "# Change the bar mode\n",
    "# fig.update_layout(barmode='stack')\n",
    "\n",
    "# fig.update_layout(title='Cash Flow Projections')\n",
    "\n",
    "fig.show()"
   ]
  }
 ],
 "metadata": {
  "kernelspec": {
   "display_name": "classenv",
   "language": "python",
   "name": "python3"
  },
  "language_info": {
   "codemirror_mode": {
    "name": "ipython",
    "version": 3
   },
   "file_extension": ".py",
   "mimetype": "text/x-python",
   "name": "python",
   "nbconvert_exporter": "python",
   "pygments_lexer": "ipython3",
   "version": "3.9.15"
  },
  "orig_nbformat": 4
 },
 "nbformat": 4,
 "nbformat_minor": 2
}
