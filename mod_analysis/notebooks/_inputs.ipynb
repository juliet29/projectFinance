{
 "cells": [
  {
   "cell_type": "code",
   "execution_count": 12,
   "metadata": {},
   "outputs": [],
   "source": [
    "import pandas as pd\n",
    "from data import * \n",
    "import numpy as np"
   ]
  },
  {
   "attachments": {},
   "cell_type": "markdown",
   "metadata": {},
   "source": [
    "# Debt Service "
   ]
  },
  {
   "cell_type": "code",
   "execution_count": 14,
   "metadata": {},
   "outputs": [],
   "source": [
    "ds = pd.read_csv(\"debt_service.csv\", skiprows=[0,1], names=[\"Year\", \"Interest Payment\", \"Prinicpal Payment\", \"Fees\"], dtype=np.float64)\n",
    "ds = ds.T"
   ]
  },
  {
   "attachments": {},
   "cell_type": "markdown",
   "metadata": {},
   "source": [
    "# General Expenses"
   ]
  },
  {
   "cell_type": "code",
   "execution_count": 2,
   "metadata": {},
   "outputs": [],
   "source": [
    "def make_two_index_df(d_orig):\n",
    "    d = d_orig.copy()\n",
    "    # make entries into arrays\n",
    "    for inner_dict in d.values():\n",
    "        for k, v in inner_dict.items():\n",
    "            inner_dict[k] = [v]\n",
    "    # arrange the dictionary to have tuples \n",
    "    reform_d = {(outerKey, innerKey): values for outerKey, innerDict in d.items() for innerKey, values in innerDict.items()}\n",
    "    # make the multi index dictionary \n",
    "    df = pd.DataFrame(reform_d, index=[\"Values\"])\n",
    "    df = df.T\n",
    "    return df\n"
   ]
  },
  {
   "attachments": {},
   "cell_type": "markdown",
   "metadata": {},
   "source": [
    "## construction phase "
   ]
  },
  {
   "cell_type": "code",
   "execution_count": 3,
   "metadata": {},
   "outputs": [],
   "source": [
    "d = {\n",
    "    \"Pre-Financial Close Expenses\": pre_fc_costs,\n",
    "    \"Financial Close Expenses\": fc_costs,\n",
    "    \"Construction Period Even Split Monthly Expenses\": monthly_split_costs,\n",
    "    \"Construction Period Custom Schedule Monthly Expenses\": epc_data\n",
    "}\n"
   ]
  },
  {
   "cell_type": "code",
   "execution_count": 4,
   "metadata": {},
   "outputs": [
    {
     "data": {
      "text/html": [
       "<div>\n",
       "<style scoped>\n",
       "    .dataframe tbody tr th:only-of-type {\n",
       "        vertical-align: middle;\n",
       "    }\n",
       "\n",
       "    .dataframe tbody tr th {\n",
       "        vertical-align: top;\n",
       "    }\n",
       "\n",
       "    .dataframe thead th {\n",
       "        text-align: right;\n",
       "    }\n",
       "</style>\n",
       "<table border=\"1\" class=\"dataframe\">\n",
       "  <thead>\n",
       "    <tr style=\"text-align: right;\">\n",
       "      <th></th>\n",
       "      <th></th>\n",
       "      <th>Values</th>\n",
       "    </tr>\n",
       "  </thead>\n",
       "  <tbody>\n",
       "    <tr>\n",
       "      <th rowspan=\"2\" valign=\"top\">Pre-Financial Close Expenses</th>\n",
       "      <th>Wetland Construction Permit</th>\n",
       "      <td>3000000.0</td>\n",
       "    </tr>\n",
       "    <tr>\n",
       "      <th>State Environmental Monitoring Fee</th>\n",
       "      <td>800000.0</td>\n",
       "    </tr>\n",
       "    <tr>\n",
       "      <th rowspan=\"5\" valign=\"top\">Financial Close Expenses</th>\n",
       "      <th>Land</th>\n",
       "      <td>12500000.0</td>\n",
       "    </tr>\n",
       "    <tr>\n",
       "      <th>Development Expenses</th>\n",
       "      <td>28500000.0</td>\n",
       "    </tr>\n",
       "    <tr>\n",
       "      <th>Development Fees</th>\n",
       "      <td>14700000.0</td>\n",
       "    </tr>\n",
       "    <tr>\n",
       "      <th>Closing Costs</th>\n",
       "      <td>14392000.0</td>\n",
       "    </tr>\n",
       "    <tr>\n",
       "      <th>Contingency Fees</th>\n",
       "      <td>30754000.0</td>\n",
       "    </tr>\n",
       "    <tr>\n",
       "      <th rowspan=\"3\" valign=\"top\">Construction Period Even Split Monthly Expenses</th>\n",
       "      <th>Interest and Fees</th>\n",
       "      <td>56853000.0</td>\n",
       "    </tr>\n",
       "    <tr>\n",
       "      <th>Insurance and Fees</th>\n",
       "      <td>25000000.0</td>\n",
       "    </tr>\n",
       "    <tr>\n",
       "      <th>Management and Oversight</th>\n",
       "      <td>8150000.0</td>\n",
       "    </tr>\n",
       "    <tr>\n",
       "      <th>Construction Period Custom Schedule Monthly Expenses</th>\n",
       "      <th>EPC Cost</th>\n",
       "      <td>455000000.0</td>\n",
       "    </tr>\n",
       "  </tbody>\n",
       "</table>\n",
       "</div>"
      ],
      "text/plain": [
       "                                                                                            Values\n",
       "Pre-Financial Close Expenses                       Wetland Construction Permit           3000000.0\n",
       "                                                   State Environmental Monitoring Fee     800000.0\n",
       "Financial Close Expenses                           Land                                 12500000.0\n",
       "                                                   Development Expenses                 28500000.0\n",
       "                                                   Development Fees                     14700000.0\n",
       "                                                   Closing Costs                        14392000.0\n",
       "                                                   Contingency Fees                     30754000.0\n",
       "Construction Period Even Split Monthly Expenses    Interest and Fees                    56853000.0\n",
       "                                                   Insurance and Fees                   25000000.0\n",
       "                                                   Management and Oversight              8150000.0\n",
       "Construction Period Custom Schedule Monthly Exp... EPC Cost                            455000000.0"
      ]
     },
     "execution_count": 4,
     "metadata": {},
     "output_type": "execute_result"
    }
   ],
   "source": [
    "const_phase_inputs = make_two_index_df(d)\n",
    "const_phase_inputs"
   ]
  },
  {
   "attachments": {},
   "cell_type": "markdown",
   "metadata": {},
   "source": [
    "## operations"
   ]
  },
  {
   "cell_type": "code",
   "execution_count": 5,
   "metadata": {},
   "outputs": [],
   "source": [
    "oper_d = {\n",
    "    \"Commisioning Fees\": comm_fees,\n",
    "    \"Operating Fees to External Entities\": other_fees\n",
    "}"
   ]
  },
  {
   "cell_type": "code",
   "execution_count": 6,
   "metadata": {},
   "outputs": [],
   "source": [
    "oper_phase_inputs = make_two_index_df(oper_d)"
   ]
  },
  {
   "cell_type": "code",
   "execution_count": 7,
   "metadata": {},
   "outputs": [
    {
     "data": {
      "text/html": [
       "<div>\n",
       "<style scoped>\n",
       "    .dataframe tbody tr th:only-of-type {\n",
       "        vertical-align: middle;\n",
       "    }\n",
       "\n",
       "    .dataframe tbody tr th {\n",
       "        vertical-align: top;\n",
       "    }\n",
       "\n",
       "    .dataframe thead th {\n",
       "        text-align: right;\n",
       "    }\n",
       "</style>\n",
       "<table border=\"1\" class=\"dataframe\">\n",
       "  <thead>\n",
       "    <tr style=\"text-align: right;\">\n",
       "      <th></th>\n",
       "      <th></th>\n",
       "      <th>Values</th>\n",
       "    </tr>\n",
       "  </thead>\n",
       "  <tbody>\n",
       "    <tr>\n",
       "      <th rowspan=\"3\" valign=\"top\">Commisioning Fees</th>\n",
       "      <th>ABSCO Interconnection Fee</th>\n",
       "      <td>2500000.0</td>\n",
       "    </tr>\n",
       "    <tr>\n",
       "      <th>ABSCO Network Upgrades</th>\n",
       "      <td>5200000.0</td>\n",
       "    </tr>\n",
       "    <tr>\n",
       "      <th>HIPU Interconnection Fee</th>\n",
       "      <td>2000000.0</td>\n",
       "    </tr>\n",
       "    <tr>\n",
       "      <th rowspan=\"4\" valign=\"top\">Operating Fees to External Entities</th>\n",
       "      <th>Quarterly MaintCo Maintennance Fee</th>\n",
       "      <td>690000.0</td>\n",
       "    </tr>\n",
       "    <tr>\n",
       "      <th>Annual Fisheries Mitigation Permit</th>\n",
       "      <td>130000.0</td>\n",
       "    </tr>\n",
       "    <tr>\n",
       "      <th>Monthly HIPU Interconection Fee, Decade 1</th>\n",
       "      <td>110000.0</td>\n",
       "    </tr>\n",
       "    <tr>\n",
       "      <th>Monthly HIPU Interconection Fee, Post-Decade 1</th>\n",
       "      <td>220000.0</td>\n",
       "    </tr>\n",
       "  </tbody>\n",
       "</table>\n",
       "</div>"
      ],
      "text/plain": [
       "                                                                                       Values\n",
       "Commisioning Fees                   ABSCO Interconnection Fee                       2500000.0\n",
       "                                    ABSCO Network Upgrades                          5200000.0\n",
       "                                    HIPU Interconnection Fee                        2000000.0\n",
       "Operating Fees to External Entities Quarterly MaintCo Maintennance Fee               690000.0\n",
       "                                    Annual Fisheries Mitigation Permit               130000.0\n",
       "                                    Monthly HIPU Interconection Fee, Decade 1        110000.0\n",
       "                                    Monthly HIPU Interconection Fee, Post-Decade 1   220000.0"
      ]
     },
     "execution_count": 7,
     "metadata": {},
     "output_type": "execute_result"
    }
   ],
   "source": [
    "oper_phase_inputs"
   ]
  },
  {
   "attachments": {},
   "cell_type": "markdown",
   "metadata": {},
   "source": [
    "## corporate (construction and operations)"
   ]
  },
  {
   "cell_type": "code",
   "execution_count": 8,
   "metadata": {},
   "outputs": [],
   "source": [
    "corp_inputs = make_two_index_df(corporate_costs)"
   ]
  },
  {
   "cell_type": "code",
   "execution_count": 9,
   "metadata": {},
   "outputs": [
    {
     "data": {
      "text/html": [
       "<div>\n",
       "<style scoped>\n",
       "    .dataframe tbody tr th:only-of-type {\n",
       "        vertical-align: middle;\n",
       "    }\n",
       "\n",
       "    .dataframe tbody tr th {\n",
       "        vertical-align: top;\n",
       "    }\n",
       "\n",
       "    .dataframe thead th {\n",
       "        text-align: right;\n",
       "    }\n",
       "</style>\n",
       "<table border=\"1\" class=\"dataframe\">\n",
       "  <thead>\n",
       "    <tr style=\"text-align: right;\">\n",
       "      <th></th>\n",
       "      <th></th>\n",
       "      <th>Values</th>\n",
       "    </tr>\n",
       "  </thead>\n",
       "  <tbody>\n",
       "    <tr>\n",
       "      <th>General</th>\n",
       "      <th>Corporate Resources</th>\n",
       "      <td>1900000.0</td>\n",
       "    </tr>\n",
       "    <tr>\n",
       "      <th rowspan=\"6\" valign=\"top\">Outside Reources</th>\n",
       "      <th>Engineering</th>\n",
       "      <td>220000.0</td>\n",
       "    </tr>\n",
       "    <tr>\n",
       "      <th>Legal</th>\n",
       "      <td>315000.0</td>\n",
       "    </tr>\n",
       "    <tr>\n",
       "      <th>Accounting</th>\n",
       "      <td>180000.0</td>\n",
       "    </tr>\n",
       "    <tr>\n",
       "      <th>Community Relations</th>\n",
       "      <td>80000.0</td>\n",
       "    </tr>\n",
       "    <tr>\n",
       "      <th>Industry Relations</th>\n",
       "      <td>20000.0</td>\n",
       "    </tr>\n",
       "    <tr>\n",
       "      <th>Misc.</th>\n",
       "      <td>50000.0</td>\n",
       "    </tr>\n",
       "    <tr>\n",
       "      <th rowspan=\"7\" valign=\"top\">Overhead</th>\n",
       "      <th>Station Power Service</th>\n",
       "      <td>285000.0</td>\n",
       "    </tr>\n",
       "    <tr>\n",
       "      <th>Utilities</th>\n",
       "      <td>65000.0</td>\n",
       "    </tr>\n",
       "    <tr>\n",
       "      <th>Rent</th>\n",
       "      <td>82000.0</td>\n",
       "    </tr>\n",
       "    <tr>\n",
       "      <th>Telecommunications</th>\n",
       "      <td>50000.0</td>\n",
       "    </tr>\n",
       "    <tr>\n",
       "      <th>Travel/Office</th>\n",
       "      <td>260000.0</td>\n",
       "    </tr>\n",
       "    <tr>\n",
       "      <th>Misc.</th>\n",
       "      <td>200000.0</td>\n",
       "    </tr>\n",
       "    <tr>\n",
       "      <th>Contingency</th>\n",
       "      <td>120000.0</td>\n",
       "    </tr>\n",
       "    <tr>\n",
       "      <th rowspan=\"4\" valign=\"top\">Other Annual Costs</th>\n",
       "      <th>Insurance</th>\n",
       "      <td>2500000.0</td>\n",
       "    </tr>\n",
       "    <tr>\n",
       "      <th>Property Taxes</th>\n",
       "      <td>2550000.0</td>\n",
       "    </tr>\n",
       "    <tr>\n",
       "      <th>Cable Easment</th>\n",
       "      <td>700000.0</td>\n",
       "    </tr>\n",
       "    <tr>\n",
       "      <th>Contribution to Stanford Global Project Center</th>\n",
       "      <td>25000.0</td>\n",
       "    </tr>\n",
       "  </tbody>\n",
       "</table>\n",
       "</div>"
      ],
      "text/plain": [
       "                                                                      Values\n",
       "General            Corporate Resources                             1900000.0\n",
       "Outside Reources   Engineering                                      220000.0\n",
       "                   Legal                                            315000.0\n",
       "                   Accounting                                       180000.0\n",
       "                   Community Relations                               80000.0\n",
       "                   Industry Relations                                20000.0\n",
       "                   Misc.                                             50000.0\n",
       "Overhead           Station Power Service                            285000.0\n",
       "                   Utilities                                         65000.0\n",
       "                   Rent                                              82000.0\n",
       "                   Telecommunications                                50000.0\n",
       "                   Travel/Office                                    260000.0\n",
       "                   Misc.                                            200000.0\n",
       "                   Contingency                                      120000.0\n",
       "Other Annual Costs Insurance                                       2500000.0\n",
       "                   Property Taxes                                  2550000.0\n",
       "                   Cable Easment                                    700000.0\n",
       "                   Contribution to Stanford Global Project Center    25000.0"
      ]
     },
     "execution_count": 9,
     "metadata": {},
     "output_type": "execute_result"
    }
   ],
   "source": [
    "corp_inputs"
   ]
  }
 ],
 "metadata": {
  "kernelspec": {
   "display_name": "classenv",
   "language": "python",
   "name": "python3"
  },
  "language_info": {
   "codemirror_mode": {
    "name": "ipython",
    "version": 3
   },
   "file_extension": ".py",
   "mimetype": "text/x-python",
   "name": "python",
   "nbconvert_exporter": "python",
   "pygments_lexer": "ipython3",
   "version": "3.9.15"
  },
  "orig_nbformat": 4,
  "vscode": {
   "interpreter": {
    "hash": "b5427df08fa9462ce49012024a0cee8fab38196eae0b5512946c62eeb41cd97e"
   }
  }
 },
 "nbformat": 4,
 "nbformat_minor": 2
}
