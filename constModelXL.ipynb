{
 "cells": [
  {
   "cell_type": "code",
   "execution_count": 26,
   "metadata": {},
   "outputs": [],
   "source": [
    "import pandas as pd\n",
    "import numpy as np\n",
    "import xlsxwriter\n",
    "from datetime import datetime\n",
    "from xlsxwriter.utility import xl_rowcol_to_cell, xl_cell_to_rowcol"
   ]
  },
  {
   "attachments": {},
   "cell_type": "markdown",
   "metadata": {},
   "source": [
    "# Setup"
   ]
  },
  {
   "attachments": {},
   "cell_type": "markdown",
   "metadata": {},
   "source": [
    "## set up workbook "
   ]
  },
  {
   "cell_type": "code",
   "execution_count": 27,
   "metadata": {},
   "outputs": [],
   "source": [
    "workbook = xlsxwriter.Workbook('IslandEnergy.xlsx')\n",
    "ws_const_in = workbook.add_worksheet(name=\"Construction Period Cost Inputs\")\n",
    "ws_const_calc = workbook.add_worksheet(name=\"Construction Period Calcs\")\n",
    "\n",
    "# dictionary of references \n",
    "refd= {}\n",
    "refd[\"sheetnames\"] = list(workbook.sheetnames.keys())\n",
    "refd[\"gen_startrow\"] = 4 "
   ]
  },
  {
   "attachments": {},
   "cell_type": "markdown",
   "metadata": {},
   "source": [
    "## formatting "
   ]
  },
  {
   "cell_type": "code",
   "execution_count": 28,
   "metadata": {},
   "outputs": [],
   "source": [
    "# Add a bold format to use to highlight cells.\n",
    "bold_format = workbook.add_format({'bold': True})\n",
    "\n",
    "# Add a number format for cells with money.\n",
    "money_format = workbook.add_format({'num_format': '$#,##0'})\n",
    "\n",
    "# create format to use in merged range \n",
    "merge_format = workbook.add_format({\n",
    "    'bold': 1,\n",
    "    # 'border': 1,\n",
    "    # 'align': 'center',\n",
    "    # 'valign': 'vcenter',\n",
    "    # 'fg_color': 'yellow'\n",
    "    })"
   ]
  },
  {
   "attachments": {},
   "cell_type": "markdown",
   "metadata": {},
   "source": [
    "## worksheet formatting "
   ]
  },
  {
   "cell_type": "code",
   "execution_count": 29,
   "metadata": {},
   "outputs": [],
   "source": [
    "# Page Headers \n",
    "for name, sheet in workbook.sheetnames.items():\n",
    "    sheet.write('A1', 'Project Name', bold_format)\n",
    "    sheet.write('A2', 'Sheet Name', bold_format)\n",
    "    sheet.merge_range('B1:C1', \"Island Energy\", bold_format)\n",
    "    sheet.merge_range('B2:C2', name, bold_format)\n",
    "    sheet.set_column(0, 30, 20)"
   ]
  },
  {
   "attachments": {},
   "cell_type": "markdown",
   "metadata": {},
   "source": [
    "# Inputs "
   ]
  },
  {
   "attachments": {},
   "cell_type": "markdown",
   "metadata": {},
   "source": [
    "## construction period inputs"
   ]
  },
  {
   "cell_type": "code",
   "execution_count": 30,
   "metadata": {},
   "outputs": [],
   "source": [
    "# data \n",
    "# payments at financial close  \n",
    "# TODO put these in a dif file \n",
    "fc_costs = {\n",
    "    \"Land\": 12.5e6,\n",
    "    \"Development Expenses\": 28.5e6,\n",
    "    \"Development Fees\": 14.7e6,\n",
    "    \"Closing Costs\" : 14.392e6,\n",
    "    \"Contingency Fees\": 30.754e6\n",
    "}\n",
    "\n",
    "# eng, procurement, const base cost \n",
    "epc_cost = 455e6\n",
    "\n",
    "# other payments over course of construction period \n",
    "split_costs = {\n",
    "\"Interest and Fees\" : 56.853e6,\n",
    "\"Insurance and Fees\" : 25e6,\n",
    "\"Management and Oversight \": 8.15e6\n",
    "}"
   ]
  },
  {
   "cell_type": "code",
   "execution_count": 31,
   "metadata": {},
   "outputs": [],
   "source": [
    "# costs paid at financial close \n",
    "ws_const_in.merge_range('A4:B4', 'Costs Paid at Financial Close', merge_format)\n",
    "\n",
    "refd[\"cpi\"] = {}\n",
    "refd[\"cpi\"][\"heading_row\"] = xl_cell_to_rowcol('A4') \n",
    "\n",
    "\n",
    "row = refd[\"cpi\"][\"heading_row\"][0]+1\n",
    "refd[\"cpi\"][\"fc_close_sr\"] = row\n",
    "col = 0\n",
    "for k,v in fc_costs.items():\n",
    "    ws_const_in.write(row, col, k)\n",
    "    ws_const_in.write(row, col+1, v, money_format)\n",
    "    row += 1\n",
    "\n"
   ]
  },
  {
   "cell_type": "code",
   "execution_count": 32,
   "metadata": {},
   "outputs": [],
   "source": [
    "# costs paid over construction period \n",
    "\n",
    "# skip a row to make header \n",
    "row+=1\n",
    "ws_const_in.merge_range(row, 0, row, 1, 'Costs Paid Over Construction Period', merge_format)\n",
    "\n",
    "row+=1\n",
    "ws_const_in.write(row, col, \"EPC Cost\")\n",
    "ws_const_in.write(row, col+1, epc_cost)\n",
    "\n",
    "row+=1\n",
    "refd[\"cpi\"][\"split_sr\"] = row\n",
    "for k,v in split_costs.items():\n",
    "    ws_const_in.write(row, col, k)\n",
    "    ws_const_in.write(row, col+1, v, money_format)\n",
    "    row += 1"
   ]
  },
  {
   "attachments": {},
   "cell_type": "markdown",
   "metadata": {},
   "source": [
    "# Calculations "
   ]
  },
  {
   "attachments": {},
   "cell_type": "markdown",
   "metadata": {},
   "source": [
    "## construction calculations "
   ]
  },
  {
   "cell_type": "code",
   "execution_count": 33,
   "metadata": {},
   "outputs": [],
   "source": [
    "months = range(1,25)"
   ]
  },
  {
   "cell_type": "code",
   "execution_count": 34,
   "metadata": {},
   "outputs": [],
   "source": [
    "# TODO: EPC payment schedule \n",
    "\n",
    "headings = [\"Payment Schedule Category\", \"Payment Name\", \"Financial Close\"] + list(months) # TOOD -> make this nice, month 1 + date \n",
    "\n",
    "col=0\n",
    "for heading in headings:\n",
    "    ws_const_calc.write(refd[\"gen_startrow\"], col, heading, bold_format)\n",
    "    col +=1\n"
   ]
  },
  {
   "cell_type": "code",
   "execution_count": 35,
   "metadata": {},
   "outputs": [],
   "source": [
    "# # costs paid monthly - split costs \n",
    "# len_split_costs = len(list(split_costs.keys()))\n",
    "\n",
    "# refd[\"cc\"] = {}\n",
    "# refd[\"cc\"][\"monthly_exp_sr\"] = refd[\"gen_startrow\"] + 1\n",
    "\n",
    "# # TODO monthly costs merge in vertical \n",
    "# sheet.merge_range(refd[\"cc\"][\"monthly_exp_sr\"], 0, refd[\"cc\"][\"monthly_exp_sr\"]+len_split_costs-1, 0, \"Monthly Split Costs\", bold_format)\n",
    "\n",
    "# # local columns\n",
    "# name_col = 1\n",
    "# eqn_start_col = 2\n",
    "# # local row \n",
    "# row = refd[\"cc\"][\"monthly_exp_sr\"]\n",
    "# # for iterating over the foreign sheet\n",
    "# i=0 \n",
    "\n",
    "# for cost in range(len_split_costs):\n",
    "#     # get cell name from other sheet \n",
    "#     name_cell = xl_rowcol_to_cell(refd[\"cpi\"][\"split_sr\"]+i, 0)\n",
    "#     # write heading \n",
    "#     ws_const_calc.write_formula(row, name_col, f\"='{refd['sheetnames'][0]}'!{name_cell}\")\n",
    "\n",
    "#     # do monthly calculation \n",
    "#     for month in months:\n",
    "#         # get cell name from other sheet \n",
    "#         data_cell = xl_rowcol_to_cell(refd[\"cpi\"][\"split_sr\"]+i, 1)\n",
    "#     # do calculation \n",
    "#         ws_const_calc.write_formula(row, eqn_start_col+month, f\"='{refd['sheetnames'][0]}'!{data_cell}/24\", money_format)\n",
    "\n",
    "#     # iterate over foreign and local sheet \n",
    "#     row+=1\n",
    "#     i+=1\n"
   ]
  },
  {
   "cell_type": "code",
   "execution_count": 36,
   "metadata": {},
   "outputs": [],
   "source": [
    "def calc_on_inputs(local_start_row, foreign_start_row, input_data, merge_name):\n",
    "    # costs paid at financial close \n",
    "    len_data = len(list(input_data.keys()))\n",
    "\n",
    "    # documenting start and end of this area, not needed in this fx \n",
    "    # refd[\"cc\"][\"fc_sr\"] = refd[\"cc\"][\"monthly_exp_sr\"] + 1\n",
    "\n",
    "    # TODO monthly costs merge in vertical \n",
    "    sheet.merge_range(local_start_row+1, 0, local_start_row+len_data, 0, merge_name, bold_format)\n",
    "\n",
    "    # local columns\n",
    "    name_col = 1\n",
    "    eqn_start_col = 2\n",
    "    # local row \n",
    "    row = local_start_row+1\n",
    "    # for iterating over the foreign sheet\n",
    "    i=0 \n",
    "\n",
    "    for cost in range(len_data):\n",
    "        # get cell name from other sheet \n",
    "        name_cell = xl_rowcol_to_cell(foreign_start_row+i, 0)\n",
    "        # write heading \n",
    "        ws_const_calc.write_formula(row, name_col, f\"='{refd['sheetnames'][0]}'!{name_cell}\") #TODO change sheetname to be more broad later \n",
    "\n",
    "        # do monthly calculation \n",
    "        for month in months:\n",
    "            # get cell name from other sheet \n",
    "            data_cell = xl_rowcol_to_cell(foreign_start_row+i, 1)\n",
    "        # do calculation \n",
    "            ws_const_calc.write_formula(row, eqn_start_col+month, f\"='{refd['sheetnames'][0]}'!{data_cell}/24\", money_format)\n",
    "\n",
    "        # iterate over foreign and local sheet \n",
    "        row+=1\n",
    "        i+=1\n",
    "\n",
    "    return row # return ending row "
   ]
  },
  {
   "cell_type": "code",
   "execution_count": 37,
   "metadata": {},
   "outputs": [
    {
     "data": {
      "text/plain": [
       "8"
      ]
     },
     "execution_count": 37,
     "metadata": {},
     "output_type": "execute_result"
    }
   ],
   "source": [
    "end_row = calc_on_inputs(refd[\"gen_startrow\"], refd[\"cpi\"][\"split_sr\"], split_costs, \"Monthly Payments\")\n",
    "end_row"
   ]
  },
  {
   "cell_type": "code",
   "execution_count": 38,
   "metadata": {},
   "outputs": [],
   "source": [
    "# # costs paid at financial close \n",
    "# len_split_costs = len(list(fc_costs.keys()))\n",
    "\n",
    "# refd[\"cc\"] = {}\n",
    "# refd[\"cc\"][\"fc_sr\"] = refd[\"cc\"][\"monthly_exp_sr\"] + 1\n",
    "\n",
    "# # TODO monthly costs merge in vertical \n",
    "# sheet.merge_range(refd[\"cc\"][\"monthly_exp_sr\"], 0, refd[\"cc\"][\"monthly_exp_sr\"]+len_split_costs-1, 0, \"Monthly Split Costs\", bold_format)\n",
    "\n",
    "# # local columns\n",
    "# name_col = 1\n",
    "# eqn_start_col = 2\n",
    "# # local row \n",
    "# row = refd[\"cc\"][\"monthly_exp_sr\"]\n",
    "# # for iterating over the foreign sheet\n",
    "# i=0 \n",
    "\n",
    "# for cost in range(len_split_costs):\n",
    "#     # get cell name from other sheet \n",
    "#     name_cell = xl_rowcol_to_cell(refd[\"cpi\"][\"split_sr\"]+i, 0)\n",
    "#     # write heading \n",
    "#     ws_const_calc.write_formula(row, name_col, f\"='{refd['sheetnames'][0]}'!{name_cell}\")\n",
    "\n",
    "#     # do monthly calculation \n",
    "#     for month in months:\n",
    "#         # get cell name from other sheet \n",
    "#         data_cell = xl_rowcol_to_cell(refd[\"cpi\"][\"split_sr\"]+i, 1)\n",
    "#     # do calculation \n",
    "#         ws_const_calc.write_formula(row, eqn_start_col+month, f\"='{refd['sheetnames'][0]}'!{data_cell}/24\", money_format)\n",
    "\n",
    "#     # iterate over foreign and local sheet \n",
    "#     row+=1\n",
    "#     i+=1"
   ]
  },
  {
   "cell_type": "code",
   "execution_count": 39,
   "metadata": {},
   "outputs": [],
   "source": [
    "# set up headings \n",
    "# def const_calcs_sheet():\n"
   ]
  },
  {
   "attachments": {},
   "cell_type": "markdown",
   "metadata": {},
   "source": [
    "# Close"
   ]
  },
  {
   "cell_type": "code",
   "execution_count": 40,
   "metadata": {},
   "outputs": [],
   "source": [
    "workbook.close()"
   ]
  }
 ],
 "metadata": {
  "kernelspec": {
   "display_name": "classenv",
   "language": "python",
   "name": "python3"
  },
  "language_info": {
   "codemirror_mode": {
    "name": "ipython",
    "version": 3
   },
   "file_extension": ".py",
   "mimetype": "text/x-python",
   "name": "python",
   "nbconvert_exporter": "python",
   "pygments_lexer": "ipython3",
   "version": "3.9.15"
  },
  "orig_nbformat": 4,
  "vscode": {
   "interpreter": {
    "hash": "b5427df08fa9462ce49012024a0cee8fab38196eae0b5512946c62eeb41cd97e"
   }
  }
 },
 "nbformat": 4,
 "nbformat_minor": 2
}
