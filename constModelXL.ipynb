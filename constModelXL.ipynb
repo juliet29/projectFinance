{
 "cells": [
  {
   "cell_type": "code",
   "execution_count": 286,
   "metadata": {},
   "outputs": [],
   "source": [
    "import pandas as pd\n",
    "import numpy as np\n",
    "import xlsxwriter\n",
    "from datetime import datetime\n",
    "from xlsxwriter.utility import xl_rowcol_to_cell, xl_cell_to_rowcol"
   ]
  },
  {
   "attachments": {},
   "cell_type": "markdown",
   "metadata": {},
   "source": [
    "# Setup"
   ]
  },
  {
   "attachments": {},
   "cell_type": "markdown",
   "metadata": {},
   "source": [
    "## set up workbook "
   ]
  },
  {
   "cell_type": "code",
   "execution_count": 287,
   "metadata": {},
   "outputs": [],
   "source": [
    "workbook = xlsxwriter.Workbook('IslandEnergy.xlsx')\n",
    "ws_const_in = workbook.add_worksheet(name=\"Construction Period Cost Inputs\")\n",
    "ws_const_calc = workbook.add_worksheet(name=\"Construction Period Calcs\")\n",
    "\n",
    "# dictionary of references \n",
    "refd= {}\n",
    "refd[\"sheetnames\"] = list(workbook.sheetnames.keys())\n",
    "refd[\"gen_startrow\"] = 4 "
   ]
  },
  {
   "attachments": {},
   "cell_type": "markdown",
   "metadata": {},
   "source": [
    "## formatting "
   ]
  },
  {
   "cell_type": "code",
   "execution_count": 288,
   "metadata": {},
   "outputs": [],
   "source": [
    "# Add a bold format to use to highlight cells.\n",
    "bold_format = workbook.add_format({'bold': True})\n",
    "\n",
    "# Add a number format for cells with money.\n",
    "money_format = workbook.add_format({'num_format': '$#,##0'})\n",
    "\n",
    "# create format to use in merged range \n",
    "merge_format = workbook.add_format({\n",
    "    'bold': 1,\n",
    "    # 'border': 1,\n",
    "    # 'align': 'center',\n",
    "    # 'valign': 'vcenter',\n",
    "    # 'fg_color': 'yellow'\n",
    "    })"
   ]
  },
  {
   "attachments": {},
   "cell_type": "markdown",
   "metadata": {},
   "source": [
    "## worksheet formatting "
   ]
  },
  {
   "cell_type": "code",
   "execution_count": 289,
   "metadata": {},
   "outputs": [],
   "source": [
    "# Page Headers \n",
    "for name, sheet in workbook.sheetnames.items():\n",
    "    sheet.write('A1', 'Project Name', bold_format)\n",
    "    sheet.write('A2', 'Sheet Name', bold_format)\n",
    "    sheet.merge_range('B1:C1', \"Island Energy\", bold_format)\n",
    "    sheet.merge_range('B2:C2', name, bold_format)\n",
    "    sheet.set_column(0, 30, 20)"
   ]
  },
  {
   "attachments": {},
   "cell_type": "markdown",
   "metadata": {},
   "source": [
    "# Inputs "
   ]
  },
  {
   "attachments": {},
   "cell_type": "markdown",
   "metadata": {},
   "source": [
    "## construction period inputs"
   ]
  },
  {
   "cell_type": "code",
   "execution_count": 290,
   "metadata": {},
   "outputs": [],
   "source": [
    "# data \n",
    "# payments at financial close  \n",
    "# TODO put these in a dif file \n",
    "fc_costs = {\n",
    "    \"Land\": 12.5e6,\n",
    "    \"Development Expenses\": 28.5e6,\n",
    "    \"Development Fees\": 14.7e6,\n",
    "    \"Closing Costs\" : 14.392e6,\n",
    "    \"Contingency Fees\": 30.754e6\n",
    "}\n",
    "\n",
    "# eng, procurement, const base cost \n",
    "epc_cost = 455e6\n",
    "\n",
    "# other payments over course of construction period \n",
    "split_costs = {\n",
    "\"Interest and Fees\" : 56.853e6,\n",
    "\"Insurance and Fees\" : 25e6,\n",
    "\"Management and Oversight \": 8.15e6\n",
    "}"
   ]
  },
  {
   "cell_type": "code",
   "execution_count": 291,
   "metadata": {},
   "outputs": [],
   "source": [
    "# costs paid at financial close \n",
    "ws_const_in.merge_range('A4:B4', 'Costs Paid at Financial Close', merge_format)\n",
    "\n",
    "refd[\"cpi\"] = {}\n",
    "refd[\"cpi\"][\"heading_row\"] = xl_cell_to_rowcol('A4') \n",
    "\n",
    "\n",
    "row = refd[\"cpi\"][\"heading_row\"][0]+1\n",
    "refd[\"cpi\"][\"fc_close_sr\"] = row\n",
    "col = 0\n",
    "for k,v in fc_costs.items():\n",
    "    ws_const_in.write(row, col, k)\n",
    "    ws_const_in.write(row, col+1, v, money_format)\n",
    "    row += 1\n",
    "\n"
   ]
  },
  {
   "cell_type": "code",
   "execution_count": 292,
   "metadata": {},
   "outputs": [],
   "source": [
    "# costs paid over construction period \n",
    "\n",
    "# skip a row to make header \n",
    "row+=1\n",
    "ws_const_in.merge_range(row, 0, row, 1, 'Costs Paid Over Construction Period', merge_format)\n",
    "\n",
    "row+=1\n",
    "ws_const_in.write(row, col, \"EPC Cost\")\n",
    "ws_const_in.write(row, col+1, epc_cost)\n",
    "\n",
    "row+=1\n",
    "refd[\"cpi\"][\"split_sr\"] = row\n",
    "for k,v in split_costs.items():\n",
    "    ws_const_in.write(row, col, k)\n",
    "    ws_const_in.write(row, col+1, v, money_format)\n",
    "    row += 1"
   ]
  },
  {
   "attachments": {},
   "cell_type": "markdown",
   "metadata": {},
   "source": [
    "# Calculations "
   ]
  },
  {
   "attachments": {},
   "cell_type": "markdown",
   "metadata": {},
   "source": [
    "## construction calculations "
   ]
  },
  {
   "cell_type": "code",
   "execution_count": 293,
   "metadata": {},
   "outputs": [],
   "source": [
    "months = range(1,25)"
   ]
  },
  {
   "cell_type": "code",
   "execution_count": 294,
   "metadata": {},
   "outputs": [],
   "source": [
    "# TODO: EPC payment schedule \n",
    "\n",
    "headings = [\"Payment Schedule Category\", \"Payment Name\", \"Financial Close\"] + list(months) # TOOD -> make this nice, month 1 + date \n",
    "\n",
    "col=0\n",
    "for heading in headings:\n",
    "    ws_const_calc.write(refd[\"gen_startrow\"], col, heading)\n",
    "    col +=1\n"
   ]
  },
  {
   "cell_type": "code",
   "execution_count": 295,
   "metadata": {},
   "outputs": [],
   "source": [
    "# costs paid monthly \n",
    "col = 0\n",
    "refd[\"cc\"] = {}\n",
    "refd[\"cc\"][\"monthly_exp_sr\"] = refd[\"gen_startrow\"] + 1\n",
    "\n",
    "# TODO monthly costs merge in vertical \n",
    "# sheet.merge_range('B2:C2', name, bold_format)\n",
    "refd[\"cc\"][\"monthly_exp_sr\"] +=1\n",
    "col+=1\n",
    "\n",
    "# local row \n",
    "row = refd[\"cc\"][\"monthly_exp_sr\"]\n",
    "# for iterating over the foreign sheet\n",
    "i=0 \n",
    "for cost in range(len(list(fc_costs.keys()))):\n",
    "    # get cell name from other sheet \n",
    "    name_cell = xl_rowcol_to_cell(refd[\"cpi\"][\"split_sr\"]+i, 0)\n",
    "    # write heading \n",
    "    ws_const_calc.write_formula(row, col, f\"='{refd['sheetnames'][0]}'!{name_cell}\")\n",
    "\n",
    "    # do monthly calculation \n",
    "    for month in months:\n",
    "        # get cell name from other sheet \n",
    "        data_cell = xl_rowcol_to_cell(refd[\"cpi\"][\"split_sr\"]+i, 1)\n",
    "    # do calculation \n",
    "        ws_const_calc.write_formula(row, col+month, f\"='{refd['sheetnames'][0]}'!{data_cell}/24\", money_format)\n",
    "\n",
    "    # iterate over foreign and local sheet \n",
    "    row+=1\n",
    "    i+=1\n",
    "\n",
    "\n",
    "    \n",
    "# # ref other sheet for names \n",
    "# # ws_const_calc.write(start_row, col, heading)\n",
    "# monthly_sc +=1\n",
    "\n",
    "# # for each col, ref the other sheet, divide /24\n",
    "# ws_const_calc.write_formula(monthly_sr, monthly_sc, f\"='{sheet_names[0]}'!{ci_cell}/24\")"
   ]
  },
  {
   "cell_type": "code",
   "execution_count": 296,
   "metadata": {},
   "outputs": [],
   "source": [
    "# costs paid at financial close "
   ]
  },
  {
   "cell_type": "code",
   "execution_count": 297,
   "metadata": {},
   "outputs": [],
   "source": [
    "# set up headings \n",
    "# def const_calcs_sheet():\n"
   ]
  },
  {
   "attachments": {},
   "cell_type": "markdown",
   "metadata": {},
   "source": [
    "# Close"
   ]
  },
  {
   "cell_type": "code",
   "execution_count": 298,
   "metadata": {},
   "outputs": [],
   "source": [
    "workbook.close()"
   ]
  }
 ],
 "metadata": {
  "kernelspec": {
   "display_name": "classenv",
   "language": "python",
   "name": "python3"
  },
  "language_info": {
   "codemirror_mode": {
    "name": "ipython",
    "version": 3
   },
   "file_extension": ".py",
   "mimetype": "text/x-python",
   "name": "python",
   "nbconvert_exporter": "python",
   "pygments_lexer": "ipython3",
   "version": "3.9.15"
  },
  "orig_nbformat": 4,
  "vscode": {
   "interpreter": {
    "hash": "b5427df08fa9462ce49012024a0cee8fab38196eae0b5512946c62eeb41cd97e"
   }
  }
 },
 "nbformat": 4,
 "nbformat_minor": 2
}
