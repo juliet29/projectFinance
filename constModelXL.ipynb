{
 "cells": [
  {
   "cell_type": "code",
   "execution_count": 289,
   "metadata": {},
   "outputs": [],
   "source": [
    "import pandas as pd\n",
    "import numpy as np\n",
    "import xlsxwriter\n",
    "from datetime import datetime\n",
    "from xlsxwriter.utility import xl_rowcol_to_cell, xl_cell_to_rowcol\n",
    "from collections import OrderedDict"
   ]
  },
  {
   "attachments": {},
   "cell_type": "markdown",
   "metadata": {},
   "source": [
    "# Setup"
   ]
  },
  {
   "attachments": {},
   "cell_type": "markdown",
   "metadata": {},
   "source": [
    "## set up workbook "
   ]
  },
  {
   "cell_type": "code",
   "execution_count": 290,
   "metadata": {},
   "outputs": [],
   "source": [
    "workbook = xlsxwriter.Workbook('IslandEnergy.xlsx')\n",
    "ws_const_in = workbook.add_worksheet(name=\"Construction Period Cost Inputs\")\n",
    "ws_const_calc = workbook.add_worksheet(name=\"Construction Period Calcs\")\n",
    "\n",
    "# dictionary of references \n",
    "refd= {}\n",
    "refd[\"sheetnames\"] = list(workbook.sheetnames.keys())\n",
    "refd[\"gen_startrow\"] = 4 "
   ]
  },
  {
   "attachments": {},
   "cell_type": "markdown",
   "metadata": {},
   "source": [
    "## define formats"
   ]
  },
  {
   "cell_type": "code",
   "execution_count": 291,
   "metadata": {},
   "outputs": [],
   "source": [
    "# Add a bold format to use to highlight cells.\n",
    "bold_format = workbook.add_format({'bold': True})\n",
    "bold_format.set_text_wrap()\n",
    "\n",
    "# Add a number format for cells with money.\n",
    "money_format = workbook.add_format({'num_format': '$#,##0'})\n",
    "\n",
    "# create format to use in merged range \n",
    "merge_format = workbook.add_format({\n",
    "    'bold': 1,\n",
    "    # 'border': 1,\n",
    "    # 'align': 'center',\n",
    "    # 'valign': 'vcenter',\n",
    "    # 'fg_color': 'yellow'\n",
    "    })\n",
    "\n",
    "percent_format = workbook.add_format({'num_format': '0.00%'})\n",
    "\n",
    "left_align_format = workbook.add_format()\n",
    "left_align_format.set_align(\"left\")"
   ]
  },
  {
   "attachments": {},
   "cell_type": "markdown",
   "metadata": {},
   "source": [
    "## worksheet formatting "
   ]
  },
  {
   "cell_type": "code",
   "execution_count": 292,
   "metadata": {},
   "outputs": [],
   "source": [
    "# Page Headers \n",
    "for name, sheet in workbook.sheetnames.items():\n",
    "    sheet.write('A1', 'Project Name', bold_format)\n",
    "    sheet.write('A2', 'Sheet Name', bold_format)\n",
    "    sheet.merge_range('B1:C1', \"Island Energy\", bold_format)\n",
    "    sheet.merge_range('B2:C2', name, bold_format)\n",
    "    sheet.set_column(\"A:Z\", 30)"
   ]
  },
  {
   "attachments": {},
   "cell_type": "markdown",
   "metadata": {},
   "source": [
    "# Inputs "
   ]
  },
  {
   "attachments": {},
   "cell_type": "markdown",
   "metadata": {},
   "source": [
    "## construction period inputs"
   ]
  },
  {
   "cell_type": "code",
   "execution_count": 293,
   "metadata": {},
   "outputs": [],
   "source": [
    "months = range(1,25)\n",
    "# data \n",
    "# payments at financial close  \n",
    "# TODO put these in a dif file \n",
    "fc_costs = {\n",
    "    \"Land\": 12.5e6,\n",
    "    \"Development Expenses\": 28.5e6,\n",
    "    \"Development Fees\": 14.7e6,\n",
    "    \"Closing Costs\" : 14.392e6,\n",
    "    \"Contingency Fees\": 30.754e6\n",
    "}\n",
    "\n",
    "# eng, procurement, const base cost \n",
    "epc_cost = 455e6\n",
    "\n",
    "# other payments over course of construction period \n",
    "split_costs = {\n",
    "\"Interest and Fees\" : 56.853e6,\n",
    "\"Insurance and Fees\" : 25e6,\n",
    "\"Management and Oversight \": 8.15e6\n",
    "}\n",
    "\n",
    "\n",
    "epc_sched = OrderedDict()\n",
    "\n",
    "for i in list(months):\n",
    "    if i <= 3:\n",
    "        epc_sched[i] = 0.02\n",
    "    elif i <= 8: \n",
    "        epc_sched[i] = 0.04\n",
    "    elif i <= 14: \n",
    "        epc_sched[i] = 0.06\n",
    "    elif i <= 18: \n",
    "        epc_sched[i] = 0.05\n",
    "    else: \n",
    "        epc_sched[i] = 0.03\n"
   ]
  },
  {
   "cell_type": "code",
   "execution_count": 294,
   "metadata": {},
   "outputs": [],
   "source": [
    "# costs paid at financial close \n",
    "ws_const_in.merge_range('A4:B4', 'Costs Paid at Financial Close', merge_format)\n",
    "\n",
    "refd[\"cpi\"] = {}\n",
    "refd[\"cpi\"][\"heading_row\"] = xl_cell_to_rowcol('A4') \n",
    "\n",
    "\n",
    "row = refd[\"cpi\"][\"heading_row\"][0]+1\n",
    "refd[\"cpi\"][\"fc_sr\"] = row\n",
    "col = 0\n",
    "for k,v in fc_costs.items():\n",
    "    ws_const_in.write(row, col, k)\n",
    "    ws_const_in.write(row, col+1, v, money_format)\n",
    "    row += 1\n",
    "\n"
   ]
  },
  {
   "cell_type": "code",
   "execution_count": 295,
   "metadata": {},
   "outputs": [],
   "source": [
    "# costs paid over construction period \n",
    "\n",
    "# skip a row to make header \n",
    "row+=1\n",
    "ws_const_in.merge_range(row, 0, row, 1, 'Costs Paid Over Construction Period', merge_format)\n",
    "\n",
    "row+=1\n",
    "refd[\"cpi\"][\"epc_sr\"] = row \n",
    "ws_const_in.write(row, col, \"EPC Cost\")\n",
    "ws_const_in.write(row, col+1, epc_cost)\n",
    "\n",
    "row+=1\n",
    "refd[\"cpi\"][\"split_sr\"] = row\n",
    "for k,v in split_costs.items():\n",
    "    ws_const_in.write(row, col, k)\n",
    "    ws_const_in.write(row, col+1, v, money_format)\n",
    "    row += 1"
   ]
  },
  {
   "cell_type": "code",
   "execution_count": 296,
   "metadata": {},
   "outputs": [],
   "source": [
    "# skip a row to make header \n",
    "row+=1\n",
    "ws_const_in.merge_range(row, 0, row, 1, 'EPC Payment Schedule', merge_format)\n",
    "\n",
    "row+=1\n",
    "ws_const_in.write(row, 0, \"EPC Contract Month\", bold_format)\n",
    "ws_const_in.write(row, 1, \"Max. Payment, as percentage of total EPC price\", bold_format)\n",
    "\n",
    "row+=1\n",
    "refd[\"cpi\"][\"epc_perc_sr\"] = row\n",
    "for k,v in epc_sched.items():\n",
    "    ws_const_in.write(row, 0, k)\n",
    "    ws_const_in.write(row, 1, v, )#percent_format\n",
    "    row += 1\n",
    "\n"
   ]
  },
  {
   "attachments": {},
   "cell_type": "markdown",
   "metadata": {},
   "source": [
    "# Calculations "
   ]
  },
  {
   "attachments": {},
   "cell_type": "markdown",
   "metadata": {},
   "source": [
    "## construction calculations "
   ]
  },
  {
   "cell_type": "code",
   "execution_count": 297,
   "metadata": {},
   "outputs": [],
   "source": [
    "\n",
    "# headings \n",
    "headings = [\"Payment Schedule Category\", \"Payment Name\", \"Financial Close\"] + list(months) # TOOD -> make this nice, month 1 + date \n",
    "\n",
    "col=0\n",
    "for heading in headings:\n",
    "    ws_const_calc.write(refd[\"gen_startrow\"], col, heading, bold_format)\n",
    "    col +=1\n"
   ]
  },
  {
   "cell_type": "code",
   "execution_count": 298,
   "metadata": {},
   "outputs": [],
   "source": [
    "def calc_on_inputs(local_start_row, foreign_start_row, input_data, merge_name, eqn_start_col, calc_fx):\n",
    "    # costs paid at financial close \n",
    "    len_data = len(list(input_data.keys()))\n",
    "\n",
    "    # merge names in the first colum \n",
    "    if len_data > 1: \n",
    "        sheet.merge_range(local_start_row, 0, local_start_row+len_data-1, 0, merge_name, bold_format)\n",
    "    else:\n",
    "        sheet.write(local_start_row, 0, merge_name, bold_format)\n",
    "        \n",
    "\n",
    "    # local columns\n",
    "    name_col = 1\n",
    "    row = local_start_row\n",
    "    # for iterating over the foreign sheet\n",
    "    i=0 \n",
    "\n",
    "    for cost in range(len_data):\n",
    "        # get cell name from other sheet \n",
    "        name_cell = xl_rowcol_to_cell(foreign_start_row+i, 0)\n",
    "        # write heading \n",
    "        ws_const_calc.write_formula(row, name_col, f\"='{refd['sheetnames'][0]}'!{name_cell}\", left_align_format) #TODO change sheetname to be more broad later \n",
    "\n",
    "        # do monthly calculation \n",
    "        calc_fx(foreign_start_row, eqn_start_col, row, i)\n",
    "\n",
    "        # iterate over foreign and local sheet \n",
    "        row+=1\n",
    "        i+=1\n",
    "\n",
    "    return row # return ending row "
   ]
  },
  {
   "cell_type": "code",
   "execution_count": 299,
   "metadata": {},
   "outputs": [],
   "source": [
    "# monthly plit costs \n",
    "def calc_split(foreign_start_row, eqn_start_col, row, i): \n",
    "        # nothing paid at financial close \n",
    "        ws_const_calc.write_formula(row, eqn_start_col, \"=0\", money_format)\n",
    "        # do monthly calculation \n",
    "        for month in months:\n",
    "            # get cell name from other sheet \n",
    "            data_cell = xl_rowcol_to_cell(foreign_start_row+i, 1)\n",
    "            # do calculation \n",
    "            ws_const_calc.write_formula(row, eqn_start_col+month, f\"='{refd['sheetnames'][0]}'!{data_cell}/24\", money_format)"
   ]
  },
  {
   "cell_type": "code",
   "execution_count": 300,
   "metadata": {},
   "outputs": [],
   "source": [
    "# EPC split costs \n",
    "def calc_epc(foreign_start_row, eqn_start_col, row, i):\n",
    "        epc_sched_row = refd[\"cpi\"][\"epc_perc_sr\"]\n",
    "        # nothing paid at financial close \n",
    "        ws_const_calc.write_formula(row, eqn_start_col, \"=0\", money_format)\n",
    "        # do monthly calculation \n",
    "        ci_sheet = refd['sheetnames'][0]\n",
    "        for ix, month in enumerate(months):\n",
    "            # get cell name from other sheet \n",
    "            epc_percent_cell = xl_rowcol_to_cell(epc_sched_row+ix, 1)\n",
    "            epc_payment_cell = xl_rowcol_to_cell(foreign_start_row, 1)\n",
    "            print(epc_percent_cell, epc_payment_cell, ix)\n",
    "            # do calculation \n",
    "            ws_const_calc.write_formula(row, eqn_start_col+month, \n",
    "            f\"='{ci_sheet}'!{epc_payment_cell} * '{ci_sheet}'!{epc_percent_cell}\", money_format)\n",
    "            # ws_const_calc.write_formula(row, eqn_start_col+month, f\"=C9*C10\", money_format)"
   ]
  },
  {
   "cell_type": "code",
   "execution_count": 301,
   "metadata": {},
   "outputs": [
    {
     "data": {
      "text/plain": [
       "\"='Construction Period Cost Inputs'!B12*'Construction Period Cost Inputs'!B19\""
      ]
     },
     "execution_count": 301,
     "metadata": {},
     "output_type": "execute_result"
    }
   ],
   "source": [
    "\"='Construction Period Cost Inputs'!B12*'Construction Period Cost Inputs'!B19\""
   ]
  },
  {
   "cell_type": "code",
   "execution_count": 302,
   "metadata": {},
   "outputs": [],
   "source": [
    "# costs paid at financial close \n",
    "def calc_fc(foreign_start_row, eqn_start_col, row, i):\n",
    "    # get cell name from other sheet \n",
    "    data_cell = xl_rowcol_to_cell(foreign_start_row+i, 1)\n",
    "    ws_const_calc.write_formula(row, eqn_start_col, f\"='{refd['sheetnames'][0]}'!{data_cell}\", money_format)\n",
    "    # enter 0s for everything ele \n",
    "    for month in months:\n",
    "        ws_const_calc.write_formula(row, eqn_start_col+month, \"=0\", money_format)"
   ]
  },
  {
   "cell_type": "code",
   "execution_count": 303,
   "metadata": {},
   "outputs": [
    {
     "name": "stdout",
     "output_type": "stream",
     "text": [
      "B19 B12 0\n",
      "B20 B12 1\n",
      "B21 B12 2\n",
      "B22 B12 3\n",
      "B23 B12 4\n",
      "B24 B12 5\n",
      "B25 B12 6\n",
      "B26 B12 7\n",
      "B27 B12 8\n",
      "B28 B12 9\n",
      "B29 B12 10\n",
      "B30 B12 11\n",
      "B31 B12 12\n",
      "B32 B12 13\n",
      "B33 B12 14\n",
      "B34 B12 15\n",
      "B35 B12 16\n",
      "B36 B12 17\n",
      "B37 B12 18\n",
      "B38 B12 19\n",
      "B39 B12 20\n",
      "B40 B12 21\n",
      "B41 B12 22\n",
      "B42 B12 23\n"
     ]
    }
   ],
   "source": [
    "end_row = calc_on_inputs(refd[\"gen_startrow\"]+1, refd[\"cpi\"][\"split_sr\"], split_costs, \"Monthly Payments\", 2, calc_split)\n",
    "\n",
    "er = calc_on_inputs(end_row, refd[\"cpi\"][\"fc_sr\"], fc_costs, \"Payments at Financial Close\", 2, calc_fc)\n",
    "\n",
    "# calc_on_inputs(local_start_row, foreign_start_row, input_data, merge_name, eqn_start_col, calc_fx)\n",
    "epc_data = {\n",
    "    \"1\": 1\n",
    "}\n",
    "er_epc = calc_on_inputs(er, refd[\"cpi\"][\"epc_sr\"], epc_data, \"EPC payments\", 2, calc_epc)\n"
   ]
  },
  {
   "attachments": {},
   "cell_type": "markdown",
   "metadata": {},
   "source": [
    "# Close"
   ]
  },
  {
   "cell_type": "code",
   "execution_count": 304,
   "metadata": {},
   "outputs": [],
   "source": [
    "workbook.close()"
   ]
  }
 ],
 "metadata": {
  "kernelspec": {
   "display_name": "classenv",
   "language": "python",
   "name": "python3"
  },
  "language_info": {
   "codemirror_mode": {
    "name": "ipython",
    "version": 3
   },
   "file_extension": ".py",
   "mimetype": "text/x-python",
   "name": "python",
   "nbconvert_exporter": "python",
   "pygments_lexer": "ipython3",
   "version": "3.9.15"
  },
  "orig_nbformat": 4,
  "vscode": {
   "interpreter": {
    "hash": "b5427df08fa9462ce49012024a0cee8fab38196eae0b5512946c62eeb41cd97e"
   }
  }
 },
 "nbformat": 4,
 "nbformat_minor": 2
}
