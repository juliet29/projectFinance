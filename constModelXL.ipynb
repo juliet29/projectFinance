{
 "cells": [
  {
   "cell_type": "code",
   "execution_count": 29,
   "metadata": {},
   "outputs": [],
   "source": [
    "import pandas as pd\n",
    "import numpy as np\n",
    "import xlsxwriter\n",
    "from datetime import datetime\n",
    "from xlsxwriter.utility import xl_rowcol_to_cell, xl_cell_to_rowcol"
   ]
  },
  {
   "attachments": {},
   "cell_type": "markdown",
   "metadata": {},
   "source": [
    "# Setup"
   ]
  },
  {
   "attachments": {},
   "cell_type": "markdown",
   "metadata": {},
   "source": [
    "## set up workbook "
   ]
  },
  {
   "cell_type": "code",
   "execution_count": 124,
   "metadata": {},
   "outputs": [],
   "source": [
    "workbook = xlsxwriter.Workbook('IslandEnergy.xlsx')\n",
    "ws_const_in = workbook.add_worksheet(name=\"Construction Period Cost Inputs\")\n",
    "ws_const_calc = workbook.add_worksheet(name=\"Construction Period Calcs\")"
   ]
  },
  {
   "attachments": {},
   "cell_type": "markdown",
   "metadata": {},
   "source": [
    "## formatting "
   ]
  },
  {
   "cell_type": "code",
   "execution_count": 125,
   "metadata": {},
   "outputs": [],
   "source": [
    "# Add a bold format to use to highlight cells.\n",
    "bold_format = workbook.add_format({'bold': True})\n",
    "\n",
    "# Add a number format for cells with money.\n",
    "money_format = workbook.add_format({'num_format': '$#,##0'})\n",
    "\n",
    "# create format to use in merged range \n",
    "merge_format = workbook.add_format({\n",
    "    'bold': 1,\n",
    "    # 'border': 1,\n",
    "    # 'align': 'center',\n",
    "    # 'valign': 'vcenter',\n",
    "    # 'fg_color': 'yellow'\n",
    "    })"
   ]
  },
  {
   "attachments": {},
   "cell_type": "markdown",
   "metadata": {},
   "source": [
    "## worksheet formatting "
   ]
  },
  {
   "cell_type": "code",
   "execution_count": 128,
   "metadata": {},
   "outputs": [],
   "source": [
    "# Page Headers \n",
    "for name, sheet in workbook.sheetnames.items():\n",
    "    sheet.write('A1', 'Project Name', bold_format)\n",
    "    sheet.write('A2', 'Sheet Name', bold_format)\n",
    "    sheet.merge_range('B1:C1', \"Island Energy\", bold_format)\n",
    "    sheet.merge_range('B2:C2', name, bold_format)\n",
    "    sheet.set_column(0, 1, 20)"
   ]
  },
  {
   "attachments": {},
   "cell_type": "markdown",
   "metadata": {},
   "source": [
    "# Inputs "
   ]
  },
  {
   "attachments": {},
   "cell_type": "markdown",
   "metadata": {},
   "source": [
    "## construction period inputs"
   ]
  },
  {
   "cell_type": "code",
   "execution_count": 129,
   "metadata": {},
   "outputs": [],
   "source": [
    "# costs paid at financial close \n",
    "ws_const_in.merge_range('A4:B4', 'Costs Paid at Financial Close', merge_format)\n",
    "hr, hc = xl_cell_to_rowcol('A4') \n",
    "\n",
    "# payments at financial close  \n",
    "fc_costs = {\n",
    "    \"Land\": 12.5e6,\n",
    "    \"Development Expenses\": 28.5e6,\n",
    "    \"Development Fees\": 14.7e6,\n",
    "    \"Closing Costs\" : 14.392e6,\n",
    "    \"Contingency Fees\": 30.754e6\n",
    "}\n",
    "\n",
    "row = hr+1\n",
    "col = 0\n",
    "for k,v in fc_costs.items():\n",
    "    ws_const_in.write(row, col, k)\n",
    "    ws_const_in.write(row, col+1, v, money_format)\n",
    "    row += 1\n",
    "\n"
   ]
  },
  {
   "cell_type": "code",
   "execution_count": 130,
   "metadata": {},
   "outputs": [],
   "source": [
    "# costs paid over construction period \n",
    "\n",
    "# skip a row to make header \n",
    "row+=1\n",
    "ws_const_in.merge_range(row, 0, row, 1, 'Costs Paid Over Construction Period', merge_format)\n",
    "\n",
    "\n",
    "# eng, procurement, const base cost \n",
    "epc_cost = 455e6\n",
    "\n",
    "# other payments over course of construction period \n",
    "split_costs = {\n",
    "\"Interest and Fees\" : 56.853e6,\n",
    "\"Insurance and Fees\" : 25e6,\n",
    "\"Management and Oversight \": 8.15e6\n",
    "}\n",
    "\n",
    "row+=1\n",
    "ws_const_in.write(row, col, \"EPC Cost\")\n",
    "ws_const_in.write(row, col+1, epc_cost)\n",
    "\n",
    "row+=1\n",
    "for k,v in split_costs.items():\n",
    "    ws_const_in.write(row, col, k)\n",
    "    ws_const_in.write(row, col+1, v, money_format)\n",
    "    row += 1"
   ]
  },
  {
   "attachments": {},
   "cell_type": "markdown",
   "metadata": {},
   "source": [
    "# Calculations "
   ]
  },
  {
   "attachments": {},
   "cell_type": "markdown",
   "metadata": {},
   "source": [
    "## construction calculations "
   ]
  },
  {
   "cell_type": "code",
   "execution_count": 131,
   "metadata": {},
   "outputs": [],
   "source": [
    "#"
   ]
  },
  {
   "attachments": {},
   "cell_type": "markdown",
   "metadata": {},
   "source": [
    "# Close"
   ]
  },
  {
   "cell_type": "code",
   "execution_count": 132,
   "metadata": {},
   "outputs": [],
   "source": [
    "workbook.close()"
   ]
  }
 ],
 "metadata": {
  "kernelspec": {
   "display_name": "classenv",
   "language": "python",
   "name": "python3"
  },
  "language_info": {
   "codemirror_mode": {
    "name": "ipython",
    "version": 3
   },
   "file_extension": ".py",
   "mimetype": "text/x-python",
   "name": "python",
   "nbconvert_exporter": "python",
   "pygments_lexer": "ipython3",
   "version": "3.9.15"
  },
  "orig_nbformat": 4,
  "vscode": {
   "interpreter": {
    "hash": "b5427df08fa9462ce49012024a0cee8fab38196eae0b5512946c62eeb41cd97e"
   }
  }
 },
 "nbformat": 4,
 "nbformat_minor": 2
}
