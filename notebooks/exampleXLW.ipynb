{
 "cells": [
  {
   "cell_type": "code",
   "execution_count": 25,
   "metadata": {},
   "outputs": [],
   "source": [
    "import pandas as pd\n",
    "import numpy as np\n",
    "import xlsxwriter\n",
    "from datetime import datetime"
   ]
  },
  {
   "cell_type": "code",
   "execution_count": 27,
   "metadata": {},
   "outputs": [],
   "source": [
    "# Create a workbook and add a worksheet.\n",
    "workbook = xlsxwriter.Workbook('Expenses03.xlsx')\n",
    "worksheet = workbook.add_worksheet()\n",
    "\n",
    " # Add a bold format to use to highlight cells.\n",
    "bold = workbook.add_format({'bold': True})\n",
    "\n",
    " # Add a number format for cells with money.\n",
    "money_format = workbook.add_format({'num_format': '$#,##0'})\n",
    "\n",
    " # Add an Excel date format.\n",
    "date_format = workbook.add_format({'num_format': 'mmmm d yyyy'})\n",
    "\n",
    "# Adjust the column width.\n",
    "worksheet.set_column(1, 1, 15)\n",
    "\n",
    " # Write some data headers.\n",
    "worksheet.write('A1', 'Item', bold)\n",
    "worksheet.write('B1', 'Cost', bold)\n",
    "worksheet.write('C1', \"Cost\", bold)\n",
    "\n",
    " # Some data we want to write to the worksheet.\n",
    "expenses = (\n",
    "     ['Rent', '2013-01-13', 1000],\n",
    "     ['Gas',  '2013-01-14',  400],\n",
    "     ['Food', '2013-01-16',  300],\n",
    "     ['Gym',  '2013-01-20',   50],\n",
    " )\n",
    "\n",
    " # Start from the first cell below the headers.\n",
    "row = 1\n",
    "col = 0\n",
    "\n",
    " # Iterate over the data and write it out row by row.\n",
    "for item, date_str, cost in (expenses):\n",
    "    # Convert the date string into a datetime object.\n",
    "    date = datetime.strptime(date_str, \"%Y-%m-%d\")\n",
    "\n",
    "    worksheet.write(row, col,     item)\n",
    "    worksheet.write_datetime(row, col + 1, date, date_format )\n",
    "    worksheet.write_number  (row, col + 2, cost, money_format)\n",
    "    row += 1\n",
    "\n",
    " # Write a total using a formula.\n",
    "worksheet.write(row, 0, 'Total',       bold)\n",
    "worksheet.write(row, 2, '=SUM(C2:C5)', money_format)\n",
    "\n",
    "workbook.close()"
   ]
  }
 ],
 "metadata": {
  "kernelspec": {
   "display_name": "classenv",
   "language": "python",
   "name": "python3"
  },
  "language_info": {
   "codemirror_mode": {
    "name": "ipython",
    "version": 3
   },
   "file_extension": ".py",
   "mimetype": "text/x-python",
   "name": "python",
   "nbconvert_exporter": "python",
   "pygments_lexer": "ipython3",
   "version": "3.9.15"
  },
  "orig_nbformat": 4,
  "vscode": {
   "interpreter": {
    "hash": "b5427df08fa9462ce49012024a0cee8fab38196eae0b5512946c62eeb41cd97e"
   }
  }
 },
 "nbformat": 4,
 "nbformat_minor": 2
}
