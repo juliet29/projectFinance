{
 "cells": [
  {
   "cell_type": "code",
   "execution_count": 1,
   "metadata": {},
   "outputs": [],
   "source": [
    "import pandas as pd\n",
    "import numpy as np\n",
    "from data import * \n",
    "from expenses import * \n",
    "from revenues import * \n",
    "from other import *\n",
    "from model import *\n",
    "\n",
    "\n",
    "from enum import Enum"
   ]
  },
  {
   "attachments": {},
   "cell_type": "markdown",
   "metadata": {},
   "source": [
    "# calculation "
   ]
  },
  {
   "cell_type": "code",
   "execution_count": 2,
   "metadata": {},
   "outputs": [],
   "source": [
    "### base case"
   ]
  },
  {
   "cell_type": "code",
   "execution_count": 3,
   "metadata": {},
   "outputs": [
    {
     "data": {
      "text/plain": [
       "24.890409338211366"
      ]
     },
     "execution_count": 3,
     "metadata": {},
     "output_type": "execute_result"
    }
   ],
   "source": [
    "# base case\n",
    "_, _, roe, _ = run_model(ppa_df, exp_df, debt_service_df, dep_df)\n",
    "roe"
   ]
  },
  {
   "attachments": {},
   "cell_type": "markdown",
   "metadata": {},
   "source": [
    "### exchange rate fluctiations affecting EPC contract price "
   ]
  },
  {
   "cell_type": "code",
   "execution_count": 4,
   "metadata": {},
   "outputs": [
    {
     "name": "stdout",
     "output_type": "stream",
     "text": [
      "[0.8  0.85 0.9  0.95 1.   1.05 1.1  1.15 1.2  1.25 1.3  1.35 1.4  1.45\n",
      " 1.5 ] [-0.5  -0.45 -0.4  -0.35 -0.3  -0.25 -0.2  -0.15 -0.1  -0.05  0.    0.05\n",
      "  0.1   0.15  0.2 ] [-83500000. -75150000. -66800000. -58450000. -50100000. -41750000.\n",
      " -33400000. -25050000. -16700000.  -8350000.         0.   8350000.\n",
      "  16700000.  25050000.  33400000.]\n"
     ]
    }
   ],
   "source": [
    "# TODO add to inputs! \n",
    "\n",
    "current_exchange = 1.30 # currently = 1.30 eur => us \n",
    "\n",
    "# price has fluctuated from 0.95 to 1.39 over past 10 years \n",
    "# https://www.xe.com/currencycharts/?from=EUR&to=USD&view=10Y\n",
    "# lets do the full range, and then some, +/- 0.15\n",
    "currs = np.round(np.arange(0.80, 1.55, 0.05),2)\n",
    "\n",
    "# 0.01 increase in exchange rate => EPC contract price increases / decreases by 1,670,000\n",
    "epc_fluct = 1670e3/0.01\n",
    "\n",
    "devs = np.round(currs - current_exchange,3)\n",
    "dev_cash = np.round(devs * epc_fluct,3)\n",
    "\n",
    "print(currs, devs, dev_cash)"
   ]
  },
  {
   "cell_type": "code",
   "execution_count": 5,
   "metadata": {},
   "outputs": [],
   "source": [
    "def eval_epc_fluct(value, const_exp=const_exp, op_exp=op_exp, corp_exp=corp_exp, const_df=const_df, const_inputs=const_inputs):\n",
    "    \n",
    "    curr_epc_val = epc_data[\"EPC Cost\"][0]\n",
    "    \n",
    "    new_val = curr_epc_val + value\n",
    "    print(curr_epc_val, new_val)\n",
    "\n",
    "    const_df_base = calc_epc_expenses(const_df, const_inputs, new_val=new_val)\n",
    "    const_exp = make_const_exp(const_df_base) # return const_exp\n",
    "    \n",
    "    exp_df = calc_exp_df(const_exp, op_exp, corp_exp)\n",
    "\n",
    "    _, _, roe, _ = run_model(ppa_df, exp_df, debt_service_df, dep_df)\n",
    "\n",
    "    return roe"
   ]
  },
  {
   "cell_type": "code",
   "execution_count": 12,
   "metadata": {},
   "outputs": [
    {
     "name": "stdout",
     "output_type": "stream",
     "text": [
      "455000000.0 371500000.0\n",
      "455000000.0 379850000.0\n",
      "455000000.0 388200000.0\n",
      "455000000.0 396550000.0\n",
      "455000000.0 404900000.0\n",
      "455000000.0 413250000.0\n",
      "455000000.0 421600000.0\n",
      "455000000.0 429950000.0\n",
      "455000000.0 438300000.0\n",
      "455000000.0 446650000.0\n",
      "455000000.0 455000000.0\n",
      "455000000.0 463350000.0\n",
      "455000000.0 471700000.0\n",
      "455000000.0 480050000.0\n",
      "455000000.0 488400000.0\n"
     ]
    },
    {
     "data": {
      "text/plain": [
       "{-83500000.0: -250.70983764837865,\n",
       " -75150000.0: -253.52861523016912,\n",
       " -66800000.0: -256.38281301055633,\n",
       " -58450000.0: -259.27243098954034,\n",
       " -50100000.0: -262.1974691671211,\n",
       " -41750000.0: -265.1579275432986,\n",
       " -33400000.0: -268.1538061180729,\n",
       " -25050000.0: -271.185104891444,\n",
       " -16700000.0: -274.25182386341186,\n",
       " -8350000.0: -277.35396303397647,\n",
       " 0.0: -280.4915224031378,\n",
       " 8350000.0: -283.66450197089597,\n",
       " 16700000.0: -286.8729017372509,\n",
       " 25050000.0: -290.1167217022026,\n",
       " 33400000.0: -293.3959618657511}"
      ]
     },
     "execution_count": 12,
     "metadata": {},
     "output_type": "execute_result"
    }
   ],
   "source": [
    "roes = {v:eval_epc_fluct(k) for k,v in zip(dev_cash, dev_cash) }\n",
    "roes"
   ]
  }
 ],
 "metadata": {
  "kernelspec": {
   "display_name": "classenv",
   "language": "python",
   "name": "python3"
  },
  "language_info": {
   "codemirror_mode": {
    "name": "ipython",
    "version": 3
   },
   "file_extension": ".py",
   "mimetype": "text/x-python",
   "name": "python",
   "nbconvert_exporter": "python",
   "pygments_lexer": "ipython3",
   "version": "3.9.15"
  },
  "orig_nbformat": 4,
  "vscode": {
   "interpreter": {
    "hash": "b5427df08fa9462ce49012024a0cee8fab38196eae0b5512946c62eeb41cd97e"
   }
  }
 },
 "nbformat": 4,
 "nbformat_minor": 2
}
