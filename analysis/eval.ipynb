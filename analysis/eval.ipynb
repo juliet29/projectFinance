{
 "cells": [
  {
   "cell_type": "code",
   "execution_count": 1,
   "metadata": {},
   "outputs": [],
   "source": [
    "import pandas as pd\n",
    "import numpy as np\n",
    "# from expenses import * \n",
    "# from revenues import * \n",
    "# from other import *\n",
    "# from model import *\n",
    "from model import * \n",
    "\n"
   ]
  },
  {
   "cell_type": "code",
   "execution_count": 2,
   "metadata": {},
   "outputs": [
    {
     "name": "stdout",
     "output_type": "stream",
     "text": [
      "3.8770638219136027\n"
     ]
    }
   ],
   "source": [
    "# base case\n",
    "a = FinancialModel()\n",
    "a.run_base_case()\n",
    "print(a.roe)\n",
    "# a.df_out_format\n",
    "\n"
   ]
  },
  {
   "attachments": {},
   "cell_type": "markdown",
   "metadata": {},
   "source": [
    "### exchange rate fluctiations affecting EPC contract price "
   ]
  },
  {
   "cell_type": "code",
   "execution_count": 5,
   "metadata": {},
   "outputs": [
    {
     "name": "stdout",
     "output_type": "stream",
     "text": [
      "[0.8  0.85 0.9  0.95 1.   1.05 1.1  1.15 1.2  1.25 1.3  1.35 1.4  1.45\n",
      " 1.5 ] [-0.5  -0.45 -0.4  -0.35 -0.3  -0.25 -0.2  -0.15 -0.1  -0.05  0.    0.05\n",
      "  0.1   0.15  0.2 ] [-83500000. -75150000. -66800000. -58450000. -50100000. -41750000.\n",
      " -33400000. -25050000. -16700000.  -8350000.         0.   8350000.\n",
      "  16700000.  25050000.  33400000.]\n"
     ]
    }
   ],
   "source": [
    "# TODO add to inputs! \n",
    "\n",
    "current_exchange = 1.30 # currently = 1.30 eur => us \n",
    "\n",
    "# price has fluctuated from 0.95 to 1.39 over past 10 years \n",
    "# https://www.xe.com/currencycharts/?from=EUR&to=USD&view=10Y\n",
    "# lets do the full range, and then some, +/- 0.15\n",
    "rates = np.round(np.arange(0.80, 1.55, 0.05),2)\n",
    "\n",
    "# 0.01 increase in exchange rate => EPC contract price increases / decreases by 1,670,000\n",
    "epc_fluct = 1670e3/0.01\n",
    "\n",
    "devs = np.round(rates - current_exchange,3)\n",
    "dev_cash = np.round(devs * epc_fluct,3)\n",
    "\n",
    "print(rates, devs, dev_cash)"
   ]
  },
  {
   "cell_type": "code",
   "execution_count": 11,
   "metadata": {},
   "outputs": [
    {
     "data": {
      "text/plain": [
       "{-0.5: (4.231265807881294, -83500000.0),\n",
       " -0.45: (4.195845609284525, -75150000.0),\n",
       " -0.4: (4.160425410687756, -66800000.0),\n",
       " -0.35: (4.125005212090986, -58450000.0),\n",
       " -0.3: (4.089585013494218, -50100000.0),\n",
       " -0.25: (4.054164814897448, -41750000.0),\n",
       " -0.2: (4.018744616300679, -33400000.0),\n",
       " -0.15: (3.98332441770391, -25050000.0),\n",
       " -0.1: (3.9479042191071407, -16700000.0),\n",
       " -0.05: (3.9124840205103717, -8350000.0),\n",
       " 0.0: (3.8770638219136027, 0.0),\n",
       " 0.05: (3.841643623316833, 8350000.0),\n",
       " 0.1: (3.806223424720064, 16700000.0),\n",
       " 0.15: (3.770803226123295, 25050000.0),\n",
       " 0.2: (3.735383027526526, 33400000.0)}"
      ]
     },
     "execution_count": 11,
     "metadata": {},
     "output_type": "execute_result"
    }
   ],
   "source": [
    "roe_dict = {}\n",
    "for cash_delta, dev in zip(dev_cash, devs):\n",
    "    b = FinancialModel()\n",
    "    curr_epc_val = b.epc_data[\"EPC Cost\"]\n",
    "    \n",
    "    new_val = curr_epc_val +cash_delta\n",
    "    \n",
    "    roe_dict[dev] = (b.eval_epc_currency_sens(new_val), cash_delta)\n",
    "\n",
    "roe_dict"
   ]
  },
  {
   "cell_type": "code",
   "execution_count": 9,
   "metadata": {},
   "outputs": [
    {
     "data": {
      "text/plain": [
       "{0.8: (4.231265807881294, 0.8),\n",
       " 0.85: (4.195845609284525, 0.85),\n",
       " 0.9: (4.160425410687756, 0.9),\n",
       " 0.95: (4.125005212090986, 0.95),\n",
       " 1.0: (4.089585013494218, 1.0),\n",
       " 1.05: (4.054164814897448, 1.05),\n",
       " 1.1: (4.018744616300679, 1.1),\n",
       " 1.15: (3.98332441770391, 1.15),\n",
       " 1.2: (3.9479042191071407, 1.2),\n",
       " 1.25: (3.9124840205103717, 1.25),\n",
       " 1.3: (3.8770638219136027, 1.3),\n",
       " 1.35: (3.841643623316833, 1.35),\n",
       " 1.4: (3.806223424720064, 1.4),\n",
       " 1.45: (3.770803226123295, 1.45),\n",
       " 1.5: (3.735383027526526, 1.5)}"
      ]
     },
     "execution_count": 9,
     "metadata": {},
     "output_type": "execute_result"
    }
   ],
   "source": [
    "roe_dict"
   ]
  },
  {
   "cell_type": "code",
   "execution_count": 4,
   "metadata": {},
   "outputs": [
    {
     "data": {
      "text/plain": [
       "5.807146457521744"
      ]
     },
     "execution_count": 4,
     "metadata": {},
     "output_type": "execute_result"
    }
   ],
   "source": [
    "b = FinancialModel()\n",
    "b.eval_epc_currency_sens(10)"
   ]
  }
 ],
 "metadata": {
  "kernelspec": {
   "display_name": "classenv",
   "language": "python",
   "name": "python3"
  },
  "language_info": {
   "codemirror_mode": {
    "name": "ipython",
    "version": 3
   },
   "file_extension": ".py",
   "mimetype": "text/x-python",
   "name": "python",
   "nbconvert_exporter": "python",
   "pygments_lexer": "ipython3",
   "version": "3.9.15"
  },
  "orig_nbformat": 4,
  "vscode": {
   "interpreter": {
    "hash": "b5427df08fa9462ce49012024a0cee8fab38196eae0b5512946c62eeb41cd97e"
   }
  }
 },
 "nbformat": 4,
 "nbformat_minor": 2
}
