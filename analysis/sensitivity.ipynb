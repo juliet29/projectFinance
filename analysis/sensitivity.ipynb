{
 "cells": [
  {
   "cell_type": "code",
   "execution_count": 1,
   "metadata": {},
   "outputs": [],
   "source": [
    "import pandas as pd\n",
    "import numpy as np\n",
    "from model import * \n"
   ]
  },
  {
   "attachments": {},
   "cell_type": "markdown",
   "metadata": {},
   "source": [
    "### exchange rate fluctiations affecting EPC contract price "
   ]
  },
  {
   "cell_type": "code",
   "execution_count": 2,
   "metadata": {},
   "outputs": [
    {
     "name": "stdout",
     "output_type": "stream",
     "text": [
      "[0.8  0.85 0.9  0.95 1.   1.05 1.1  1.15 1.2  1.25 1.3  1.35 1.4  1.45\n",
      " 1.5 ] [-0.5  -0.45 -0.4  -0.35 -0.3  -0.25 -0.2  -0.15 -0.1  -0.05  0.    0.05\n",
      "  0.1   0.15  0.2 ] [-83500000. -75150000. -66800000. -58450000. -50100000. -41750000.\n",
      " -33400000. -25050000. -16700000.  -8350000.         0.   8350000.\n",
      "  16700000.  25050000.  33400000.]\n"
     ]
    }
   ],
   "source": [
    "# TODO add to inputs! \n",
    "\n",
    "current_exchange = 1.30 # currently = 1.30 eur => us \n",
    "\n",
    "# price has fluctuated from 0.95 to 1.39 over past 10 years \n",
    "# https://www.xe.com/currencycharts/?from=EUR&to=USD&view=10Y\n",
    "# lets do the full range, and then some, +/- 0.15\n",
    "rates = np.round(np.arange(0.80, 1.55, 0.05),2)\n",
    "\n",
    "# 0.01 increase in exchange rate => EPC contract price increases / decreases by 1,670,000\n",
    "epc_fluct = 1670e3/0.01\n",
    "\n",
    "devs = np.round(rates - current_exchange,3)\n",
    "dev_cash = np.round(devs * epc_fluct,3)\n",
    "\n",
    "print(rates, devs, dev_cash)"
   ]
  },
  {
   "cell_type": "code",
   "execution_count": 3,
   "metadata": {},
   "outputs": [
    {
     "data": {
      "text/plain": [
       "{-0.5: (4.121938289505901, -83500000.0, 0.8),\n",
       " -0.45: (4.086518090909132, -75150000.0, 0.85),\n",
       " -0.4: (4.051097892312363, -66800000.0, 0.9),\n",
       " -0.35: (4.015677693715594, -58450000.0, 0.95),\n",
       " -0.3: (3.9802574951188245, -50100000.0, 1.0),\n",
       " -0.25: (3.9448372965220555, -41750000.0, 1.05),\n",
       " -0.2: (3.909417097925286, -33400000.0, 1.1),\n",
       " -0.15: (3.873996899328517, -25050000.0, 1.15),\n",
       " -0.1: (3.838576700731748, -16700000.0, 1.2),\n",
       " -0.05: (3.803156502134979, -8350000.0, 1.25),\n",
       " 0.0: (3.7677363035382094, 0.0, 1.3),\n",
       " 0.05: (3.7323161049414404, 8350000.0, 1.35),\n",
       " 0.1: (3.6968959063446714, 16700000.0, 1.4),\n",
       " 0.15: (3.661475707747902, 25050000.0, 1.45),\n",
       " 0.2: (3.626055509151133, 33400000.0, 1.5)}"
      ]
     },
     "execution_count": 3,
     "metadata": {},
     "output_type": "execute_result"
    }
   ],
   "source": [
    "roe_dict = {}\n",
    "for cash_delta, dev,rate in zip(dev_cash, devs, rates):\n",
    "    b = FinancialModel()\n",
    "    curr_epc_val = b.epc_data[\"EPC Cost\"]\n",
    "    \n",
    "    new_val = curr_epc_val +cash_delta\n",
    "    \n",
    "    roe_dict[dev] = (b.eval_epc_currency_sens(new_val), cash_delta, rate)\n",
    "\n",
    "roe_dict"
   ]
  },
  {
   "cell_type": "code",
   "execution_count": 4,
   "metadata": {},
   "outputs": [
    {
     "data": {
      "text/plain": [
       "455000000.0"
      ]
     },
     "execution_count": 4,
     "metadata": {},
     "output_type": "execute_result"
    }
   ],
   "source": [
    "curr_epc_val"
   ]
  }
 ],
 "metadata": {
  "kernelspec": {
   "display_name": "classenv",
   "language": "python",
   "name": "python3"
  },
  "language_info": {
   "codemirror_mode": {
    "name": "ipython",
    "version": 3
   },
   "file_extension": ".py",
   "mimetype": "text/x-python",
   "name": "python",
   "nbconvert_exporter": "python",
   "pygments_lexer": "ipython3",
   "version": "3.9.15"
  },
  "orig_nbformat": 4
 },
 "nbformat": 4,
 "nbformat_minor": 2
}
